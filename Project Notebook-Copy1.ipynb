{
 "cells": [
  {
   "cell_type": "markdown",
   "metadata": {},
   "source": [
    "# Identifying Potential Customers Based on Reddit Posts \n",
    "\n",
    "#### By: Julia Kelman: [GitHub](https://git.generalassemb.ly/julia-kelman/)"
   ]
  },
  {
   "cell_type": "markdown",
   "metadata": {},
   "source": [
    "## Problem Statement"
   ]
  },
  {
   "cell_type": "markdown",
   "metadata": {},
   "source": [
    "We are a company who created a new product meant to help individuals with Autism Spectrum Disorder (ASD). We want to market online and as a result need to be able to identify users who are part of our target population based on their online content (reddit/facebook/blog posts for example).  \n",
    "The autism community has a great online presence with many facebook groups and blogs dedicated to supporting individuals with this disorder. However, many of those groups are not restricted to people with ASD. Indeed, other disorders such as Obsessive Compulsive Disorder (OCD) share many symptoms with autism [source](https://www.webmd.com/brain/autism/autism-similar-conditions). As a result, online resources are often geared towards both of those populations.  \n",
    "To start, our company will focus on identifying potential customers on one major blog for a support group for individuals with ASD and individuals with OCD.   \n",
    "Since our product is specific to individuals with ASD, we need to be able to differentiate between people with ASD and OCD based on what they post on this online platform.  \n",
    "We plan to solve this problem by using submissions on an Autism reddit page and an OCD reddit page to build a classification model able to classify a user as having either ASD or OCD based on their post with the highest level of accuracy possible.   \n",
    "This model could then be used to identify potential customers on blogs for people with autism or OCD. "
   ]
  },
  {
   "cell_type": "markdown",
   "metadata": {},
   "source": [
    "## Executive Summary"
   ]
  },
  {
   "cell_type": "markdown",
   "metadata": {},
   "source": [
    "TBD"
   ]
  },
  {
   "cell_type": "markdown",
   "metadata": {},
   "source": [
    "## Table of Contents \n",
    "\n",
    "- [Reddit Data Import](#Loading-Data) \n",
    "- [Data Cleaning](#Data-Cleaning) \n",
    "- [Exploratory Data Analysis](#EDA) \n",
    "- [Model Preparation](#Model-Preparation)\n",
    "- [Modeling](#Modeling)  \n",
    "    - [Baseline Model](#Baseline-Model)  \n",
    "    - [Logistic Regression](#Logistic-Regression)  \n",
    "    - [kNN](#kNN)  \n",
    "    - [Naive Bayes](#Naive-Bayes)  \n",
    "- [Model Selection](#Model-Selection)\n",
    "- [Model Evaluation](#Model-Evaluation)\n",
    "- [Conclusion & Recommendations](#Conclusion-and-Recommendations)\n",
    "- [References](#References)"
   ]
  },
  {
   "cell_type": "markdown",
   "metadata": {},
   "source": [
    "## Loading Data"
   ]
  },
  {
   "cell_type": "code",
   "execution_count": 1,
   "metadata": {},
   "outputs": [],
   "source": [
    "# Library imports \n",
    "import pandas as pd \n",
    "import numpy as np \n",
    "import matplotlib.pyplot as plt \n",
    "import seaborn as sns\n",
    "import regex as re\n",
    "import string\n",
    "from bs4 import BeautifulSoup             \n",
    "from nltk.corpus import stopwords\n",
    "from sklearn.feature_extraction import text\n",
    "from sklearn.feature_extraction.text import CountVectorizer,  TfidfVectorizer\n",
    "\n",
    "%matplotlib inline "
   ]
  },
  {
   "cell_type": "code",
   "execution_count": 2,
   "metadata": {},
   "outputs": [],
   "source": [
    "# Loading data \n",
    "data = pd.read_csv(\"./data/data.csv\")"
   ]
  },
  {
   "cell_type": "code",
   "execution_count": 3,
   "metadata": {
    "scrolled": true
   },
   "outputs": [
    {
     "data": {
      "text/html": [
       "<div>\n",
       "<style scoped>\n",
       "    .dataframe tbody tr th:only-of-type {\n",
       "        vertical-align: middle;\n",
       "    }\n",
       "\n",
       "    .dataframe tbody tr th {\n",
       "        vertical-align: top;\n",
       "    }\n",
       "\n",
       "    .dataframe thead th {\n",
       "        text-align: right;\n",
       "    }\n",
       "</style>\n",
       "<table border=\"1\" class=\"dataframe\">\n",
       "  <thead>\n",
       "    <tr style=\"text-align: right;\">\n",
       "      <th></th>\n",
       "      <th>title</th>\n",
       "      <th>selftext</th>\n",
       "      <th>subreddit</th>\n",
       "      <th>created_utc</th>\n",
       "      <th>author</th>\n",
       "      <th>num_comments</th>\n",
       "      <th>score</th>\n",
       "      <th>is_self</th>\n",
       "      <th>timestamp</th>\n",
       "    </tr>\n",
       "  </thead>\n",
       "  <tbody>\n",
       "    <tr>\n",
       "      <th>0</th>\n",
       "      <td>Was convinced to try an outpatient treatment p...</td>\n",
       "      <td>[removed]</td>\n",
       "      <td>OCD</td>\n",
       "      <td>1584570256</td>\n",
       "      <td>stringthanks</td>\n",
       "      <td>0</td>\n",
       "      <td>1</td>\n",
       "      <td>True</td>\n",
       "      <td>2020-03-18</td>\n",
       "    </tr>\n",
       "    <tr>\n",
       "      <th>1</th>\n",
       "      <td>To anyone who has contamination ocd: what are ...</td>\n",
       "      <td>NaN</td>\n",
       "      <td>OCD</td>\n",
       "      <td>1584570641</td>\n",
       "      <td>Mental_senstrias</td>\n",
       "      <td>9</td>\n",
       "      <td>1</td>\n",
       "      <td>True</td>\n",
       "      <td>2020-03-18</td>\n",
       "    </tr>\n",
       "    <tr>\n",
       "      <th>2</th>\n",
       "      <td>Sertraline HCL (Generic Zoloft) w/out Insurance?</td>\n",
       "      <td>Amid the coronavirus economic recession, there...</td>\n",
       "      <td>OCD</td>\n",
       "      <td>1584570720</td>\n",
       "      <td>BigOof673</td>\n",
       "      <td>2</td>\n",
       "      <td>2</td>\n",
       "      <td>True</td>\n",
       "      <td>2020-03-18</td>\n",
       "    </tr>\n",
       "    <tr>\n",
       "      <th>3</th>\n",
       "      <td>Feeling like going mad</td>\n",
       "      <td>I suffer from severe OCD, related to magic thi...</td>\n",
       "      <td>OCD</td>\n",
       "      <td>1584570825</td>\n",
       "      <td>Bobby_Crazykite</td>\n",
       "      <td>4</td>\n",
       "      <td>3</td>\n",
       "      <td>True</td>\n",
       "      <td>2020-03-18</td>\n",
       "    </tr>\n",
       "    <tr>\n",
       "      <th>4</th>\n",
       "      <td>Worried about this sticky adhesive</td>\n",
       "      <td>So I noticed that the little circles on cabine...</td>\n",
       "      <td>OCD</td>\n",
       "      <td>1584570850</td>\n",
       "      <td>JakeHassle</td>\n",
       "      <td>0</td>\n",
       "      <td>1</td>\n",
       "      <td>True</td>\n",
       "      <td>2020-03-18</td>\n",
       "    </tr>\n",
       "  </tbody>\n",
       "</table>\n",
       "</div>"
      ],
      "text/plain": [
       "                                               title  \\\n",
       "0  Was convinced to try an outpatient treatment p...   \n",
       "1  To anyone who has contamination ocd: what are ...   \n",
       "2   Sertraline HCL (Generic Zoloft) w/out Insurance?   \n",
       "3                             Feeling like going mad   \n",
       "4                 Worried about this sticky adhesive   \n",
       "\n",
       "                                            selftext subreddit  created_utc  \\\n",
       "0                                          [removed]       OCD   1584570256   \n",
       "1                                                NaN       OCD   1584570641   \n",
       "2  Amid the coronavirus economic recession, there...       OCD   1584570720   \n",
       "3  I suffer from severe OCD, related to magic thi...       OCD   1584570825   \n",
       "4  So I noticed that the little circles on cabine...       OCD   1584570850   \n",
       "\n",
       "             author  num_comments  score  is_self   timestamp  \n",
       "0      stringthanks             0      1     True  2020-03-18  \n",
       "1  Mental_senstrias             9      1     True  2020-03-18  \n",
       "2         BigOof673             2      2     True  2020-03-18  \n",
       "3   Bobby_Crazykite             4      3     True  2020-03-18  \n",
       "4        JakeHassle             0      1     True  2020-03-18  "
      ]
     },
     "execution_count": 3,
     "metadata": {},
     "output_type": "execute_result"
    }
   ],
   "source": [
    "data.head()"
   ]
  },
  {
   "cell_type": "code",
   "execution_count": 4,
   "metadata": {},
   "outputs": [
    {
     "data": {
      "text/plain": [
       "(3862, 9)"
      ]
     },
     "execution_count": 4,
     "metadata": {},
     "output_type": "execute_result"
    }
   ],
   "source": [
    "data.shape"
   ]
  },
  {
   "cell_type": "markdown",
   "metadata": {},
   "source": [
    "## Data Cleaning"
   ]
  },
  {
   "cell_type": "code",
   "execution_count": 5,
   "metadata": {},
   "outputs": [],
   "source": [
    "# Since the timeframe column is derived from the created_utc column and gives us more useful\n",
    "# information, we can delete the created_utc variable \n",
    "data.drop(columns=['created_utc'], inplace=True)"
   ]
  },
  {
   "cell_type": "code",
   "execution_count": 6,
   "metadata": {},
   "outputs": [],
   "source": [
    "# Since our goal is to identify users with ASD, let's reformat the subreddit feature \n",
    "# with autism = 1 and OCD = 0 \n",
    "data['subreddit'] = data['subreddit'].map({'autism':1, \"OCD\":0})"
   ]
  },
  {
   "cell_type": "code",
   "execution_count": 7,
   "metadata": {
    "scrolled": true
   },
   "outputs": [
    {
     "data": {
      "text/plain": [
       "0    2209\n",
       "1    1653\n",
       "Name: subreddit, dtype: int64"
      ]
     },
     "execution_count": 7,
     "metadata": {},
     "output_type": "execute_result"
    }
   ],
   "source": [
    "data['subreddit'].value_counts()"
   ]
  },
  {
   "cell_type": "code",
   "execution_count": 8,
   "metadata": {
    "scrolled": true
   },
   "outputs": [
    {
     "data": {
      "text/plain": [
       "title             0\n",
       "selftext        177\n",
       "subreddit         0\n",
       "author            0\n",
       "num_comments      0\n",
       "score             0\n",
       "is_self           0\n",
       "timestamp         0\n",
       "dtype: int64"
      ]
     },
     "execution_count": 8,
     "metadata": {},
     "output_type": "execute_result"
    }
   ],
   "source": [
    "# Checking for nulls\n",
    "data.isnull().sum()"
   ]
  },
  {
   "cell_type": "markdown",
   "metadata": {},
   "source": [
    "We want to look at any type of text posted by users, whether it is title or main text. As a result, we will combine the title and selftext features into one text feature. This will also resolve the issue of selftext missing values. \n",
    "In order to do this we first need to make sure that we are not including reddit imputed text such as [removed] in there.  "
   ]
  },
  {
   "cell_type": "code",
   "execution_count": 9,
   "metadata": {
    "scrolled": true
   },
   "outputs": [
    {
     "data": {
      "text/plain": [
       "[removed]                                                                                                                                                                                                                                                                                                                                                                                                                                                                                                                                                                                                                                                                                                                                                                                                                                                                                                                                                                                                                                                                                                                                                                                                                                                                                                                                                                                                                                                                                                                                                                                                                                                                                                                                                                                                                                                                                                                                                                 311\n",
       "[deleted]                                                                                                                                                                                                                                                                                                                                                                                                                                                                                                                                                                                                                                                                                                                                                                                                                                                                                                                                                                                                                                                                                                                                                                                                                                                                                                                                                                                                                                                                                                                                                                                                                                                                                                                                                                                                                                                                                                                                                                   4\n",
       "I need help. I would like to start a band, but magical thinking OCD relating to curses has made me anxious about doing this. Let me explain. Sometimes, when I was bored, I used to make wikipedia articles of an imaginary band. Why? Because i liked the way the track listing infobox looks. Yeah, i'm weird lmao. I used the names of some of my friends just because i needed placeholder names for other band members in the article. I also liked to imagine, when listening to a song, that i was the one who made the song. One day, a grateful dead song came on the radio. They have a supposed curse where the keyboardist would always die. When imagining that my band made that song, i came across the thought of that curse. I just thought, well i guess in my imaginary band the keyboardist will have to die since it's the grateful dead and it's cursed, not thinking much more about it, since it was an imaginary band and it wasn't gonna affect me. Well, later on, I realized that the curse might affect me and my band if I were to make a real band with the people who's names i used in the imaginary band. Now i'm afraid that if i were to be in a band with those people, even if it had a different lineup but shared some of the same people, i or somebody else would die. Also, i ended up forming a band with people not in the imaginary band a while later, but here's the thing: when inviting one of my friends to be the drummer, i imagined in my head the situation being that we were forming the grateful dead and it was cursed. I broke up the band a few hours later out of fear. I know i sound insane, but this has made me so afraid. Four of the grateful dead's keyboardists have died, and one of them played their last show before dying exactly ten years after the previous one died, which adds to the superstition. Would i die according to the curse? Help. I know i sound crazy, but i'm so scared.      2\n",
       "Name: selftext, dtype: int64"
      ]
     },
     "execution_count": 9,
     "metadata": {},
     "output_type": "execute_result"
    }
   ],
   "source": [
    "# Looking for major reddit imputed values \n",
    "data['selftext'].value_counts().head(3)"
   ]
  },
  {
   "cell_type": "code",
   "execution_count": 10,
   "metadata": {},
   "outputs": [],
   "source": [
    "# changing [removed] and [deleted] into empty string. \n",
    "data['selftext'].replace('[removed]', \"\", inplace=True)\n",
    "data['selftext'].replace('[deleted]', \"\", inplace=True)"
   ]
  },
  {
   "cell_type": "code",
   "execution_count": 11,
   "metadata": {},
   "outputs": [],
   "source": [
    "# changing NaNs into empty strings \n",
    "data['selftext'].fillna(\"\", inplace=True)"
   ]
  },
  {
   "cell_type": "code",
   "execution_count": 12,
   "metadata": {
    "scrolled": false
   },
   "outputs": [
    {
     "data": {
      "text/plain": [
       "Question        8\n",
       "hi              5\n",
       "Is this OCD?    3\n",
       "Name: title, dtype: int64"
      ]
     },
     "execution_count": 12,
     "metadata": {},
     "output_type": "execute_result"
    }
   ],
   "source": [
    "# Checking title feature for reddit imputed text\n",
    "data['title'].value_counts().head(3)"
   ]
  },
  {
   "cell_type": "markdown",
   "metadata": {},
   "source": [
    "There does not seem to be any reddit imputed text in the titles."
   ]
  },
  {
   "cell_type": "code",
   "execution_count": 13,
   "metadata": {},
   "outputs": [],
   "source": [
    "# Combining title and selftext into text \n",
    "data['text'] = data['title'] + \" \" + data['selftext']"
   ]
  },
  {
   "cell_type": "code",
   "execution_count": 14,
   "metadata": {
    "scrolled": false
   },
   "outputs": [
    {
     "data": {
      "text/html": [
       "<div>\n",
       "<style scoped>\n",
       "    .dataframe tbody tr th:only-of-type {\n",
       "        vertical-align: middle;\n",
       "    }\n",
       "\n",
       "    .dataframe tbody tr th {\n",
       "        vertical-align: top;\n",
       "    }\n",
       "\n",
       "    .dataframe thead th {\n",
       "        text-align: right;\n",
       "    }\n",
       "</style>\n",
       "<table border=\"1\" class=\"dataframe\">\n",
       "  <thead>\n",
       "    <tr style=\"text-align: right;\">\n",
       "      <th></th>\n",
       "      <th>title</th>\n",
       "      <th>selftext</th>\n",
       "      <th>subreddit</th>\n",
       "      <th>author</th>\n",
       "      <th>num_comments</th>\n",
       "      <th>score</th>\n",
       "      <th>is_self</th>\n",
       "      <th>timestamp</th>\n",
       "      <th>text</th>\n",
       "    </tr>\n",
       "  </thead>\n",
       "  <tbody>\n",
       "    <tr>\n",
       "      <th>0</th>\n",
       "      <td>Was convinced to try an outpatient treatment p...</td>\n",
       "      <td></td>\n",
       "      <td>0</td>\n",
       "      <td>stringthanks</td>\n",
       "      <td>0</td>\n",
       "      <td>1</td>\n",
       "      <td>True</td>\n",
       "      <td>2020-03-18</td>\n",
       "      <td>Was convinced to try an outpatient treatment p...</td>\n",
       "    </tr>\n",
       "    <tr>\n",
       "      <th>1</th>\n",
       "      <td>To anyone who has contamination ocd: what are ...</td>\n",
       "      <td></td>\n",
       "      <td>0</td>\n",
       "      <td>Mental_senstrias</td>\n",
       "      <td>9</td>\n",
       "      <td>1</td>\n",
       "      <td>True</td>\n",
       "      <td>2020-03-18</td>\n",
       "      <td>To anyone who has contamination ocd: what are ...</td>\n",
       "    </tr>\n",
       "    <tr>\n",
       "      <th>2</th>\n",
       "      <td>Sertraline HCL (Generic Zoloft) w/out Insurance?</td>\n",
       "      <td>Amid the coronavirus economic recession, there...</td>\n",
       "      <td>0</td>\n",
       "      <td>BigOof673</td>\n",
       "      <td>2</td>\n",
       "      <td>2</td>\n",
       "      <td>True</td>\n",
       "      <td>2020-03-18</td>\n",
       "      <td>Sertraline HCL (Generic Zoloft) w/out Insuranc...</td>\n",
       "    </tr>\n",
       "    <tr>\n",
       "      <th>3</th>\n",
       "      <td>Feeling like going mad</td>\n",
       "      <td>I suffer from severe OCD, related to magic thi...</td>\n",
       "      <td>0</td>\n",
       "      <td>Bobby_Crazykite</td>\n",
       "      <td>4</td>\n",
       "      <td>3</td>\n",
       "      <td>True</td>\n",
       "      <td>2020-03-18</td>\n",
       "      <td>Feeling like going mad I suffer from severe OC...</td>\n",
       "    </tr>\n",
       "    <tr>\n",
       "      <th>4</th>\n",
       "      <td>Worried about this sticky adhesive</td>\n",
       "      <td>So I noticed that the little circles on cabine...</td>\n",
       "      <td>0</td>\n",
       "      <td>JakeHassle</td>\n",
       "      <td>0</td>\n",
       "      <td>1</td>\n",
       "      <td>True</td>\n",
       "      <td>2020-03-18</td>\n",
       "      <td>Worried about this sticky adhesive So I notice...</td>\n",
       "    </tr>\n",
       "  </tbody>\n",
       "</table>\n",
       "</div>"
      ],
      "text/plain": [
       "                                               title  \\\n",
       "0  Was convinced to try an outpatient treatment p...   \n",
       "1  To anyone who has contamination ocd: what are ...   \n",
       "2   Sertraline HCL (Generic Zoloft) w/out Insurance?   \n",
       "3                             Feeling like going mad   \n",
       "4                 Worried about this sticky adhesive   \n",
       "\n",
       "                                            selftext  subreddit  \\\n",
       "0                                                             0   \n",
       "1                                                             0   \n",
       "2  Amid the coronavirus economic recession, there...          0   \n",
       "3  I suffer from severe OCD, related to magic thi...          0   \n",
       "4  So I noticed that the little circles on cabine...          0   \n",
       "\n",
       "             author  num_comments  score  is_self   timestamp  \\\n",
       "0      stringthanks             0      1     True  2020-03-18   \n",
       "1  Mental_senstrias             9      1     True  2020-03-18   \n",
       "2         BigOof673             2      2     True  2020-03-18   \n",
       "3   Bobby_Crazykite             4      3     True  2020-03-18   \n",
       "4        JakeHassle             0      1     True  2020-03-18   \n",
       "\n",
       "                                                text  \n",
       "0  Was convinced to try an outpatient treatment p...  \n",
       "1  To anyone who has contamination ocd: what are ...  \n",
       "2  Sertraline HCL (Generic Zoloft) w/out Insuranc...  \n",
       "3  Feeling like going mad I suffer from severe OC...  \n",
       "4  Worried about this sticky adhesive So I notice...  "
      ]
     },
     "execution_count": 14,
     "metadata": {},
     "output_type": "execute_result"
    }
   ],
   "source": [
    "data.head()"
   ]
  },
  {
   "cell_type": "code",
   "execution_count": 15,
   "metadata": {
    "scrolled": true
   },
   "outputs": [
    {
     "data": {
      "text/plain": [
       "title           0\n",
       "selftext        0\n",
       "subreddit       0\n",
       "author          0\n",
       "num_comments    0\n",
       "score           0\n",
       "is_self         0\n",
       "timestamp       0\n",
       "text            0\n",
       "dtype: int64"
      ]
     },
     "execution_count": 15,
     "metadata": {},
     "output_type": "execute_result"
    }
   ],
   "source": [
    "# Checking we no longer have any nulls \n",
    "data.isnull().sum()"
   ]
  },
  {
   "cell_type": "code",
   "execution_count": 16,
   "metadata": {
    "scrolled": true
   },
   "outputs": [
    {
     "data": {
      "text/plain": [
       "True    3862\n",
       "Name: is_self, dtype: int64"
      ]
     },
     "execution_count": 16,
     "metadata": {},
     "output_type": "execute_result"
    }
   ],
   "source": [
    "# Confirming that all our submissions are self posts\n",
    "data['is_self'].value_counts()"
   ]
  },
  {
   "cell_type": "markdown",
   "metadata": {},
   "source": [
    "Since all observations have the same value of \"True\", this feature does not bring much information for our model. We will therefore drop it. "
   ]
  },
  {
   "cell_type": "code",
   "execution_count": 17,
   "metadata": {},
   "outputs": [],
   "source": [
    "data.drop(columns='is_self', inplace=True)"
   ]
  },
  {
   "cell_type": "code",
   "execution_count": 18,
   "metadata": {
    "scrolled": true
   },
   "outputs": [
    {
     "data": {
      "text/html": [
       "<div>\n",
       "<style scoped>\n",
       "    .dataframe tbody tr th:only-of-type {\n",
       "        vertical-align: middle;\n",
       "    }\n",
       "\n",
       "    .dataframe tbody tr th {\n",
       "        vertical-align: top;\n",
       "    }\n",
       "\n",
       "    .dataframe thead th {\n",
       "        text-align: right;\n",
       "    }\n",
       "</style>\n",
       "<table border=\"1\" class=\"dataframe\">\n",
       "  <thead>\n",
       "    <tr style=\"text-align: right;\">\n",
       "      <th></th>\n",
       "      <th>title</th>\n",
       "      <th>selftext</th>\n",
       "      <th>subreddit</th>\n",
       "      <th>author</th>\n",
       "      <th>num_comments</th>\n",
       "      <th>score</th>\n",
       "      <th>timestamp</th>\n",
       "      <th>text</th>\n",
       "    </tr>\n",
       "  </thead>\n",
       "  <tbody>\n",
       "    <tr>\n",
       "      <th>0</th>\n",
       "      <td>Was convinced to try an outpatient treatment p...</td>\n",
       "      <td></td>\n",
       "      <td>0</td>\n",
       "      <td>stringthanks</td>\n",
       "      <td>0</td>\n",
       "      <td>1</td>\n",
       "      <td>2020-03-18</td>\n",
       "      <td>Was convinced to try an outpatient treatment p...</td>\n",
       "    </tr>\n",
       "    <tr>\n",
       "      <th>1</th>\n",
       "      <td>To anyone who has contamination ocd: what are ...</td>\n",
       "      <td></td>\n",
       "      <td>0</td>\n",
       "      <td>Mental_senstrias</td>\n",
       "      <td>9</td>\n",
       "      <td>1</td>\n",
       "      <td>2020-03-18</td>\n",
       "      <td>To anyone who has contamination ocd: what are ...</td>\n",
       "    </tr>\n",
       "    <tr>\n",
       "      <th>2</th>\n",
       "      <td>Sertraline HCL (Generic Zoloft) w/out Insurance?</td>\n",
       "      <td>Amid the coronavirus economic recession, there...</td>\n",
       "      <td>0</td>\n",
       "      <td>BigOof673</td>\n",
       "      <td>2</td>\n",
       "      <td>2</td>\n",
       "      <td>2020-03-18</td>\n",
       "      <td>Sertraline HCL (Generic Zoloft) w/out Insuranc...</td>\n",
       "    </tr>\n",
       "    <tr>\n",
       "      <th>3</th>\n",
       "      <td>Feeling like going mad</td>\n",
       "      <td>I suffer from severe OCD, related to magic thi...</td>\n",
       "      <td>0</td>\n",
       "      <td>Bobby_Crazykite</td>\n",
       "      <td>4</td>\n",
       "      <td>3</td>\n",
       "      <td>2020-03-18</td>\n",
       "      <td>Feeling like going mad I suffer from severe OC...</td>\n",
       "    </tr>\n",
       "    <tr>\n",
       "      <th>4</th>\n",
       "      <td>Worried about this sticky adhesive</td>\n",
       "      <td>So I noticed that the little circles on cabine...</td>\n",
       "      <td>0</td>\n",
       "      <td>JakeHassle</td>\n",
       "      <td>0</td>\n",
       "      <td>1</td>\n",
       "      <td>2020-03-18</td>\n",
       "      <td>Worried about this sticky adhesive So I notice...</td>\n",
       "    </tr>\n",
       "  </tbody>\n",
       "</table>\n",
       "</div>"
      ],
      "text/plain": [
       "                                               title  \\\n",
       "0  Was convinced to try an outpatient treatment p...   \n",
       "1  To anyone who has contamination ocd: what are ...   \n",
       "2   Sertraline HCL (Generic Zoloft) w/out Insurance?   \n",
       "3                             Feeling like going mad   \n",
       "4                 Worried about this sticky adhesive   \n",
       "\n",
       "                                            selftext  subreddit  \\\n",
       "0                                                             0   \n",
       "1                                                             0   \n",
       "2  Amid the coronavirus economic recession, there...          0   \n",
       "3  I suffer from severe OCD, related to magic thi...          0   \n",
       "4  So I noticed that the little circles on cabine...          0   \n",
       "\n",
       "             author  num_comments  score   timestamp  \\\n",
       "0      stringthanks             0      1  2020-03-18   \n",
       "1  Mental_senstrias             9      1  2020-03-18   \n",
       "2         BigOof673             2      2  2020-03-18   \n",
       "3   Bobby_Crazykite             4      3  2020-03-18   \n",
       "4        JakeHassle             0      1  2020-03-18   \n",
       "\n",
       "                                                text  \n",
       "0  Was convinced to try an outpatient treatment p...  \n",
       "1  To anyone who has contamination ocd: what are ...  \n",
       "2  Sertraline HCL (Generic Zoloft) w/out Insuranc...  \n",
       "3  Feeling like going mad I suffer from severe OC...  \n",
       "4  Worried about this sticky adhesive So I notice...  "
      ]
     },
     "execution_count": 18,
     "metadata": {},
     "output_type": "execute_result"
    }
   ],
   "source": [
    "data.head()"
   ]
  },
  {
   "cell_type": "code",
   "execution_count": 19,
   "metadata": {},
   "outputs": [],
   "source": [
    "# Creating a function for text cleaning\n",
    "def cleaning(text):\n",
    "    # remove html\n",
    "    text = BeautifulSoup(text).get_text()\n",
    "\n",
    "    exclude = set(string.punctuation)\n",
    "    # remove new line and digits with regular expression\n",
    "    text = re.sub(r'\\n', '', text)\n",
    "    text = re.sub(r'\\d', '', text)\n",
    "    \n",
    "    # remove patterns matching url format\n",
    "    url_pattern = r'((http|ftp|https):\\/\\/)?[\\w\\-_]+(\\.[\\w\\-_]+)+([\\w\\-\\.,@?^=%&amp;:/~\\+#]*[\\w\\-\\@?^=%&amp;/~\\+#])?'\n",
    "    text = re.sub(url_pattern, ' ', text)\n",
    "    \n",
    "    # remove punctuations\n",
    "    text = ''.join(character for character in text if character not in exclude)\n",
    "    # standardize white space\n",
    "    text = re.sub(r'\\s+', ' ', text)\n",
    "    # drop capitalization\n",
    "    text = text.lower()\n",
    "    #remove white space\n",
    "    text = text.strip()\n",
    "    \n",
    "    return text\n",
    "# Function adapted from https://codereview.stackexchange.com/questions/186614/text-cleaning-script-producing-lowercase-words-with-minimal-punctuation"
   ]
  },
  {
   "cell_type": "code",
   "execution_count": 20,
   "metadata": {},
   "outputs": [],
   "source": [
    "# Cleaning our text data \n",
    "cleaned_text = [cleaning(text) for text in data['text']]"
   ]
  },
  {
   "cell_type": "code",
   "execution_count": 21,
   "metadata": {},
   "outputs": [],
   "source": [
    "# Adding our cleaned text as a new column to our dataframe \n",
    "data['cleaned_text'] = cleaned_text"
   ]
  },
  {
   "cell_type": "code",
   "execution_count": 22,
   "metadata": {},
   "outputs": [
    {
     "data": {
      "text/plain": [
       "'Worried about this sticky adhesive So I noticed that the little circles on cabinets that soften the impact when you close it look like this now on my cabinets:\\n\\n\\nhttps://imgur.com/a/bpPzhWL\\n\\nThey look like they busted and the bottom pic shows one close to the stove so it’s greasy. I touched the first one and it felt like some really sticky adhesive that would get every where and it took forever to wash off my hands. I pointed it out to my parents and then they decided too touch it as well, but they didn’t wash it off their hands. Now for some reason I’m getting a lot of stress about how everything they’re touching will get the adhesive on it. It’s really ruining my day and I don’t know why it’s so much.'"
      ]
     },
     "execution_count": 22,
     "metadata": {},
     "output_type": "execute_result"
    }
   ],
   "source": [
    "# comparing original text and cleaned text to make sure it has been appropriately cleaned\n",
    "data['text'][4]"
   ]
  },
  {
   "cell_type": "code",
   "execution_count": 23,
   "metadata": {
    "scrolled": true
   },
   "outputs": [
    {
     "data": {
      "text/plain": [
       "'worried about this sticky adhesive so i noticed that the little circles on cabinets that soften the impact when you close it look like this now on my cabinets look like they busted and the bottom pic shows one close to the stove so it’s greasy i touched the first one and it felt like some really sticky adhesive that would get every where and it took forever to wash off my hands i pointed it out to my parents and then they decided too touch it as well but they didn’t wash it off their hands now for some reason i’m getting a lot of stress about how everything they’re touching will get the adhesive on it it’s really ruining my day and i don’t know why it’s so much'"
      ]
     },
     "execution_count": 23,
     "metadata": {},
     "output_type": "execute_result"
    }
   ],
   "source": [
    "cleaned_text[4]"
   ]
  },
  {
   "cell_type": "markdown",
   "metadata": {},
   "source": [
    "Our final cleaned text seems appropriately cleaned."
   ]
  },
  {
   "cell_type": "code",
   "execution_count": 24,
   "metadata": {},
   "outputs": [
    {
     "data": {
      "text/html": [
       "<div>\n",
       "<style scoped>\n",
       "    .dataframe tbody tr th:only-of-type {\n",
       "        vertical-align: middle;\n",
       "    }\n",
       "\n",
       "    .dataframe tbody tr th {\n",
       "        vertical-align: top;\n",
       "    }\n",
       "\n",
       "    .dataframe thead th {\n",
       "        text-align: right;\n",
       "    }\n",
       "</style>\n",
       "<table border=\"1\" class=\"dataframe\">\n",
       "  <thead>\n",
       "    <tr style=\"text-align: right;\">\n",
       "      <th></th>\n",
       "      <th>title</th>\n",
       "      <th>selftext</th>\n",
       "      <th>subreddit</th>\n",
       "      <th>author</th>\n",
       "      <th>num_comments</th>\n",
       "      <th>score</th>\n",
       "      <th>timestamp</th>\n",
       "      <th>text</th>\n",
       "      <th>cleaned_text</th>\n",
       "    </tr>\n",
       "  </thead>\n",
       "  <tbody>\n",
       "    <tr>\n",
       "      <th>0</th>\n",
       "      <td>Was convinced to try an outpatient treatment p...</td>\n",
       "      <td></td>\n",
       "      <td>0</td>\n",
       "      <td>stringthanks</td>\n",
       "      <td>0</td>\n",
       "      <td>1</td>\n",
       "      <td>2020-03-18</td>\n",
       "      <td>Was convinced to try an outpatient treatment p...</td>\n",
       "      <td>was convinced to try an outpatient treatment p...</td>\n",
       "    </tr>\n",
       "    <tr>\n",
       "      <th>1</th>\n",
       "      <td>To anyone who has contamination ocd: what are ...</td>\n",
       "      <td></td>\n",
       "      <td>0</td>\n",
       "      <td>Mental_senstrias</td>\n",
       "      <td>9</td>\n",
       "      <td>1</td>\n",
       "      <td>2020-03-18</td>\n",
       "      <td>To anyone who has contamination ocd: what are ...</td>\n",
       "      <td>to anyone who has contamination ocd what are y...</td>\n",
       "    </tr>\n",
       "    <tr>\n",
       "      <th>2</th>\n",
       "      <td>Sertraline HCL (Generic Zoloft) w/out Insurance?</td>\n",
       "      <td>Amid the coronavirus economic recession, there...</td>\n",
       "      <td>0</td>\n",
       "      <td>BigOof673</td>\n",
       "      <td>2</td>\n",
       "      <td>2</td>\n",
       "      <td>2020-03-18</td>\n",
       "      <td>Sertraline HCL (Generic Zoloft) w/out Insuranc...</td>\n",
       "      <td>sertraline hcl generic zoloft wout insurance a...</td>\n",
       "    </tr>\n",
       "    <tr>\n",
       "      <th>3</th>\n",
       "      <td>Feeling like going mad</td>\n",
       "      <td>I suffer from severe OCD, related to magic thi...</td>\n",
       "      <td>0</td>\n",
       "      <td>Bobby_Crazykite</td>\n",
       "      <td>4</td>\n",
       "      <td>3</td>\n",
       "      <td>2020-03-18</td>\n",
       "      <td>Feeling like going mad I suffer from severe OC...</td>\n",
       "      <td>feeling like going mad i suffer from severe oc...</td>\n",
       "    </tr>\n",
       "    <tr>\n",
       "      <th>4</th>\n",
       "      <td>Worried about this sticky adhesive</td>\n",
       "      <td>So I noticed that the little circles on cabine...</td>\n",
       "      <td>0</td>\n",
       "      <td>JakeHassle</td>\n",
       "      <td>0</td>\n",
       "      <td>1</td>\n",
       "      <td>2020-03-18</td>\n",
       "      <td>Worried about this sticky adhesive So I notice...</td>\n",
       "      <td>worried about this sticky adhesive so i notice...</td>\n",
       "    </tr>\n",
       "  </tbody>\n",
       "</table>\n",
       "</div>"
      ],
      "text/plain": [
       "                                               title  \\\n",
       "0  Was convinced to try an outpatient treatment p...   \n",
       "1  To anyone who has contamination ocd: what are ...   \n",
       "2   Sertraline HCL (Generic Zoloft) w/out Insurance?   \n",
       "3                             Feeling like going mad   \n",
       "4                 Worried about this sticky adhesive   \n",
       "\n",
       "                                            selftext  subreddit  \\\n",
       "0                                                             0   \n",
       "1                                                             0   \n",
       "2  Amid the coronavirus economic recession, there...          0   \n",
       "3  I suffer from severe OCD, related to magic thi...          0   \n",
       "4  So I noticed that the little circles on cabine...          0   \n",
       "\n",
       "             author  num_comments  score   timestamp  \\\n",
       "0      stringthanks             0      1  2020-03-18   \n",
       "1  Mental_senstrias             9      1  2020-03-18   \n",
       "2         BigOof673             2      2  2020-03-18   \n",
       "3   Bobby_Crazykite             4      3  2020-03-18   \n",
       "4        JakeHassle             0      1  2020-03-18   \n",
       "\n",
       "                                                text  \\\n",
       "0  Was convinced to try an outpatient treatment p...   \n",
       "1  To anyone who has contamination ocd: what are ...   \n",
       "2  Sertraline HCL (Generic Zoloft) w/out Insuranc...   \n",
       "3  Feeling like going mad I suffer from severe OC...   \n",
       "4  Worried about this sticky adhesive So I notice...   \n",
       "\n",
       "                                        cleaned_text  \n",
       "0  was convinced to try an outpatient treatment p...  \n",
       "1  to anyone who has contamination ocd what are y...  \n",
       "2  sertraline hcl generic zoloft wout insurance a...  \n",
       "3  feeling like going mad i suffer from severe oc...  \n",
       "4  worried about this sticky adhesive so i notice...  "
      ]
     },
     "execution_count": 24,
     "metadata": {},
     "output_type": "execute_result"
    }
   ],
   "source": [
    "data.head()"
   ]
  },
  {
   "cell_type": "code",
   "execution_count": 25,
   "metadata": {
    "scrolled": false
   },
   "outputs": [
    {
     "data": {
      "text/plain": [
       "title           object\n",
       "selftext        object\n",
       "subreddit        int64\n",
       "author          object\n",
       "num_comments     int64\n",
       "score            int64\n",
       "timestamp       object\n",
       "text            object\n",
       "cleaned_text    object\n",
       "dtype: object"
      ]
     },
     "execution_count": 25,
     "metadata": {},
     "output_type": "execute_result"
    }
   ],
   "source": [
    "data.dtypes"
   ]
  },
  {
   "cell_type": "markdown",
   "metadata": {},
   "source": [
    "## EDA"
   ]
  },
  {
   "cell_type": "code",
   "execution_count": 26,
   "metadata": {},
   "outputs": [
    {
     "data": {
      "text/html": [
       "<div>\n",
       "<style scoped>\n",
       "    .dataframe tbody tr th:only-of-type {\n",
       "        vertical-align: middle;\n",
       "    }\n",
       "\n",
       "    .dataframe tbody tr th {\n",
       "        vertical-align: top;\n",
       "    }\n",
       "\n",
       "    .dataframe thead th {\n",
       "        text-align: right;\n",
       "    }\n",
       "</style>\n",
       "<table border=\"1\" class=\"dataframe\">\n",
       "  <thead>\n",
       "    <tr style=\"text-align: right;\">\n",
       "      <th></th>\n",
       "      <th>subreddit</th>\n",
       "      <th>num_comments</th>\n",
       "      <th>score</th>\n",
       "    </tr>\n",
       "  </thead>\n",
       "  <tbody>\n",
       "    <tr>\n",
       "      <th>count</th>\n",
       "      <td>3862.000000</td>\n",
       "      <td>3862.000000</td>\n",
       "      <td>3862.000000</td>\n",
       "    </tr>\n",
       "    <tr>\n",
       "      <th>mean</th>\n",
       "      <td>0.428017</td>\n",
       "      <td>5.658985</td>\n",
       "      <td>1.017866</td>\n",
       "    </tr>\n",
       "    <tr>\n",
       "      <th>std</th>\n",
       "      <td>0.494855</td>\n",
       "      <td>8.957465</td>\n",
       "      <td>0.212146</td>\n",
       "    </tr>\n",
       "    <tr>\n",
       "      <th>min</th>\n",
       "      <td>0.000000</td>\n",
       "      <td>0.000000</td>\n",
       "      <td>0.000000</td>\n",
       "    </tr>\n",
       "    <tr>\n",
       "      <th>25%</th>\n",
       "      <td>0.000000</td>\n",
       "      <td>1.000000</td>\n",
       "      <td>1.000000</td>\n",
       "    </tr>\n",
       "    <tr>\n",
       "      <th>50%</th>\n",
       "      <td>0.000000</td>\n",
       "      <td>3.000000</td>\n",
       "      <td>1.000000</td>\n",
       "    </tr>\n",
       "    <tr>\n",
       "      <th>75%</th>\n",
       "      <td>1.000000</td>\n",
       "      <td>7.000000</td>\n",
       "      <td>1.000000</td>\n",
       "    </tr>\n",
       "    <tr>\n",
       "      <th>max</th>\n",
       "      <td>1.000000</td>\n",
       "      <td>182.000000</td>\n",
       "      <td>8.000000</td>\n",
       "    </tr>\n",
       "  </tbody>\n",
       "</table>\n",
       "</div>"
      ],
      "text/plain": [
       "         subreddit  num_comments        score\n",
       "count  3862.000000   3862.000000  3862.000000\n",
       "mean      0.428017      5.658985     1.017866\n",
       "std       0.494855      8.957465     0.212146\n",
       "min       0.000000      0.000000     0.000000\n",
       "25%       0.000000      1.000000     1.000000\n",
       "50%       0.000000      3.000000     1.000000\n",
       "75%       1.000000      7.000000     1.000000\n",
       "max       1.000000    182.000000     8.000000"
      ]
     },
     "execution_count": 26,
     "metadata": {},
     "output_type": "execute_result"
    }
   ],
   "source": [
    "data.describe()"
   ]
  },
  {
   "cell_type": "code",
   "execution_count": 27,
   "metadata": {
    "scrolled": true
   },
   "outputs": [
    {
     "data": {
      "text/plain": [
       "subreddit\n",
       "0    3.973744\n",
       "1    7.911071\n",
       "Name: num_comments, dtype: float64"
      ]
     },
     "execution_count": 27,
     "metadata": {},
     "output_type": "execute_result"
    }
   ],
   "source": [
    "# Looking at the average number of comments for each subreddits \n",
    "data.groupby('subreddit')['num_comments'].mean()"
   ]
  },
  {
   "cell_type": "code",
   "execution_count": 28,
   "metadata": {
    "scrolled": true
   },
   "outputs": [
    {
     "data": {
      "image/png": "[encoded data removed]",
      "text/plain": [
       "<Figure size 576x360 with 1 Axes>"
      ]
     },
     "metadata": {
      "needs_background": "light"
     },
     "output_type": "display_data"
    }
   ],
   "source": [
    "# Visualizing the distribution of number of comments for each subreddits \n",
    "plt.figure(figsize=(8,5)) \n",
    "plt.title(\"Distribution of the Number of Comments for Each Subreddit Group\", fontsize = 20, pad = 10)\n",
    "sns.boxplot(x = data['subreddit'], y = data['num_comments'])\n",
    "plt.xlabel(\"Subreddit\", fontsize = 12, labelpad = 5)\n",
    "plt.ylabel(\"Distribution of Number of Comments\", fontsize = 12, labelpad = 5)\n",
    "plt.xticks(ticks=[0, 1], labels=['OCD', 'ASD']);"
   ]
  },
  {
   "cell_type": "markdown",
   "metadata": {},
   "source": [
    "**Interpretation:** There seems to be a high number of outliers in the number of comments for both the OCD and ASD groups.   \n",
    "However, there is no evidence to prove that those values are not valid data. As a result, we will no remove them."
   ]
  },
  {
   "cell_type": "code",
   "execution_count": 29,
   "metadata": {
    "scrolled": false
   },
   "outputs": [
    {
     "data": {
      "image/png": "[encoded data removed]",
      "text/plain": [
       "<Figure size 576x360 with 1 Axes>"
      ]
     },
     "metadata": {
      "needs_background": "light"
     },
     "output_type": "display_data"
    }
   ],
   "source": [
    "# Visualizing the average number of comments for each subreddits \n",
    "plt.figure(figsize=(8,5)) \n",
    "plt.title(\"Average Number of Comments for Each Subreddit Group\", fontsize = 20, pad = 10)\n",
    "sns.barplot(x=data['subreddit'], y=data['num_comments'])\n",
    "plt.xlabel(\"Subreddit\", fontsize = 12, labelpad = 5)\n",
    "plt.ylabel(\"Average Number of Comments\", fontsize = 12, labelpad = 5)\n",
    "plt.xticks(ticks=[0, 1], labels=['OCD', 'ASD']);"
   ]
  },
  {
   "cell_type": "markdown",
   "metadata": {},
   "source": [
    "**Interpretation:** On average, there is a higher number of comments posted in response to submissions on the autism subreddit compared to the OCD subreddit. "
   ]
  },
  {
   "cell_type": "code",
   "execution_count": 30,
   "metadata": {
    "scrolled": true
   },
   "outputs": [
    {
     "data": {
      "text/plain": [
       "subreddit\n",
       "0    1.016297\n",
       "1    1.019964\n",
       "Name: score, dtype: float64"
      ]
     },
     "execution_count": 30,
     "metadata": {},
     "output_type": "execute_result"
    }
   ],
   "source": [
    "data.groupby('subreddit')['score'].mean()"
   ]
  },
  {
   "cell_type": "markdown",
   "metadata": {},
   "source": [
    "The two groups have very similar mean scores "
   ]
  },
  {
   "cell_type": "code",
   "execution_count": 31,
   "metadata": {},
   "outputs": [
    {
     "data": {
      "text/html": [
       "<div>\n",
       "<style scoped>\n",
       "    .dataframe tbody tr th:only-of-type {\n",
       "        vertical-align: middle;\n",
       "    }\n",
       "\n",
       "    .dataframe tbody tr th {\n",
       "        vertical-align: top;\n",
       "    }\n",
       "\n",
       "    .dataframe thead th {\n",
       "        text-align: right;\n",
       "    }\n",
       "</style>\n",
       "<table border=\"1\" class=\"dataframe\">\n",
       "  <thead>\n",
       "    <tr style=\"text-align: right;\">\n",
       "      <th></th>\n",
       "      <th>count</th>\n",
       "      <th>unique</th>\n",
       "      <th>top</th>\n",
       "      <th>freq</th>\n",
       "    </tr>\n",
       "    <tr>\n",
       "      <th>subreddit</th>\n",
       "      <th></th>\n",
       "      <th></th>\n",
       "      <th></th>\n",
       "      <th></th>\n",
       "    </tr>\n",
       "  </thead>\n",
       "  <tbody>\n",
       "    <tr>\n",
       "      <th>0</th>\n",
       "      <td>2209</td>\n",
       "      <td>34</td>\n",
       "      <td>2020-02-20</td>\n",
       "      <td>98</td>\n",
       "    </tr>\n",
       "    <tr>\n",
       "      <th>1</th>\n",
       "      <td>1653</td>\n",
       "      <td>50</td>\n",
       "      <td>2020-02-18</td>\n",
       "      <td>62</td>\n",
       "    </tr>\n",
       "  </tbody>\n",
       "</table>\n",
       "</div>"
      ],
      "text/plain": [
       "          count unique         top freq\n",
       "subreddit                              \n",
       "0          2209     34  2020-02-20   98\n",
       "1          1653     50  2020-02-18   62"
      ]
     },
     "execution_count": 31,
     "metadata": {},
     "output_type": "execute_result"
    }
   ],
   "source": [
    "data.groupby('subreddit')['timestamp'].describe()"
   ]
  },
  {
   "cell_type": "markdown",
   "metadata": {},
   "source": [
    "Highest number of submissions on the autism subreddit posted on Tuesday Feb. 18th 2020.  \n",
    "Highest number of submissions on the OCD subreddit posted on Thursday Feb. 20th 2020. "
   ]
  },
  {
   "cell_type": "code",
   "execution_count": 32,
   "metadata": {},
   "outputs": [],
   "source": [
    "# Creating a word matrix of the 20 most common words in the ASD reddit (including stopwords)\n",
    "cvec = CountVectorizer(max_features = 20)\n",
    "test_text = cvec.fit_transform(data[data['subreddit']==1]['cleaned_text'])\n",
    "test_df_asd = pd.DataFrame(test_text.toarray(), columns=cvec.get_feature_names())"
   ]
  },
  {
   "cell_type": "code",
   "execution_count": 33,
   "metadata": {},
   "outputs": [
    {
     "data": {
      "text/html": [
       "<div>\n",
       "<style scoped>\n",
       "    .dataframe tbody tr th:only-of-type {\n",
       "        vertical-align: middle;\n",
       "    }\n",
       "\n",
       "    .dataframe tbody tr th {\n",
       "        vertical-align: top;\n",
       "    }\n",
       "\n",
       "    .dataframe thead th {\n",
       "        text-align: right;\n",
       "    }\n",
       "</style>\n",
       "<table border=\"1\" class=\"dataframe\">\n",
       "  <thead>\n",
       "    <tr style=\"text-align: right;\">\n",
       "      <th></th>\n",
       "      <th>and</th>\n",
       "      <th>but</th>\n",
       "      <th>for</th>\n",
       "      <th>have</th>\n",
       "      <th>in</th>\n",
       "      <th>is</th>\n",
       "      <th>it</th>\n",
       "      <th>like</th>\n",
       "      <th>me</th>\n",
       "      <th>my</th>\n",
       "      <th>of</th>\n",
       "      <th>on</th>\n",
       "      <th>or</th>\n",
       "      <th>that</th>\n",
       "      <th>the</th>\n",
       "      <th>this</th>\n",
       "      <th>to</th>\n",
       "      <th>was</th>\n",
       "      <th>with</th>\n",
       "      <th>you</th>\n",
       "    </tr>\n",
       "  </thead>\n",
       "  <tbody>\n",
       "    <tr>\n",
       "      <th>0</th>\n",
       "      <td>1</td>\n",
       "      <td>0</td>\n",
       "      <td>0</td>\n",
       "      <td>1</td>\n",
       "      <td>0</td>\n",
       "      <td>0</td>\n",
       "      <td>0</td>\n",
       "      <td>0</td>\n",
       "      <td>0</td>\n",
       "      <td>0</td>\n",
       "      <td>1</td>\n",
       "      <td>1</td>\n",
       "      <td>0</td>\n",
       "      <td>0</td>\n",
       "      <td>1</td>\n",
       "      <td>0</td>\n",
       "      <td>0</td>\n",
       "      <td>0</td>\n",
       "      <td>0</td>\n",
       "      <td>0</td>\n",
       "    </tr>\n",
       "    <tr>\n",
       "      <th>1</th>\n",
       "      <td>1</td>\n",
       "      <td>3</td>\n",
       "      <td>2</td>\n",
       "      <td>3</td>\n",
       "      <td>1</td>\n",
       "      <td>4</td>\n",
       "      <td>1</td>\n",
       "      <td>0</td>\n",
       "      <td>0</td>\n",
       "      <td>1</td>\n",
       "      <td>1</td>\n",
       "      <td>2</td>\n",
       "      <td>2</td>\n",
       "      <td>3</td>\n",
       "      <td>7</td>\n",
       "      <td>1</td>\n",
       "      <td>4</td>\n",
       "      <td>0</td>\n",
       "      <td>1</td>\n",
       "      <td>3</td>\n",
       "    </tr>\n",
       "    <tr>\n",
       "      <th>2</th>\n",
       "      <td>4</td>\n",
       "      <td>0</td>\n",
       "      <td>0</td>\n",
       "      <td>0</td>\n",
       "      <td>0</td>\n",
       "      <td>0</td>\n",
       "      <td>1</td>\n",
       "      <td>2</td>\n",
       "      <td>1</td>\n",
       "      <td>0</td>\n",
       "      <td>0</td>\n",
       "      <td>2</td>\n",
       "      <td>0</td>\n",
       "      <td>0</td>\n",
       "      <td>2</td>\n",
       "      <td>2</td>\n",
       "      <td>1</td>\n",
       "      <td>0</td>\n",
       "      <td>0</td>\n",
       "      <td>0</td>\n",
       "    </tr>\n",
       "    <tr>\n",
       "      <th>3</th>\n",
       "      <td>1</td>\n",
       "      <td>0</td>\n",
       "      <td>1</td>\n",
       "      <td>0</td>\n",
       "      <td>0</td>\n",
       "      <td>3</td>\n",
       "      <td>0</td>\n",
       "      <td>0</td>\n",
       "      <td>1</td>\n",
       "      <td>0</td>\n",
       "      <td>4</td>\n",
       "      <td>0</td>\n",
       "      <td>1</td>\n",
       "      <td>5</td>\n",
       "      <td>3</td>\n",
       "      <td>1</td>\n",
       "      <td>2</td>\n",
       "      <td>0</td>\n",
       "      <td>3</td>\n",
       "      <td>1</td>\n",
       "    </tr>\n",
       "    <tr>\n",
       "      <th>4</th>\n",
       "      <td>5</td>\n",
       "      <td>0</td>\n",
       "      <td>1</td>\n",
       "      <td>1</td>\n",
       "      <td>0</td>\n",
       "      <td>1</td>\n",
       "      <td>1</td>\n",
       "      <td>0</td>\n",
       "      <td>4</td>\n",
       "      <td>6</td>\n",
       "      <td>1</td>\n",
       "      <td>3</td>\n",
       "      <td>0</td>\n",
       "      <td>0</td>\n",
       "      <td>0</td>\n",
       "      <td>0</td>\n",
       "      <td>3</td>\n",
       "      <td>1</td>\n",
       "      <td>0</td>\n",
       "      <td>0</td>\n",
       "    </tr>\n",
       "  </tbody>\n",
       "</table>\n",
       "</div>"
      ],
      "text/plain": [
       "   and  but  for  have  in  is  it  like  me  my  of  on  or  that  the  this  \\\n",
       "0    1    0    0     1   0   0   0     0   0   0   1   1   0     0    1     0   \n",
       "1    1    3    2     3   1   4   1     0   0   1   1   2   2     3    7     1   \n",
       "2    4    0    0     0   0   0   1     2   1   0   0   2   0     0    2     2   \n",
       "3    1    0    1     0   0   3   0     0   1   0   4   0   1     5    3     1   \n",
       "4    5    0    1     1   0   1   1     0   4   6   1   3   0     0    0     0   \n",
       "\n",
       "   to  was  with  you  \n",
       "0   0    0     0    0  \n",
       "1   4    0     1    3  \n",
       "2   1    0     0    0  \n",
       "3   2    0     3    1  \n",
       "4   3    1     0    0  "
      ]
     },
     "execution_count": 33,
     "metadata": {},
     "output_type": "execute_result"
    }
   ],
   "source": [
    "test_df_asd.head()"
   ]
  },
  {
   "cell_type": "code",
   "execution_count": 34,
   "metadata": {},
   "outputs": [
    {
     "data": {
      "image/png": "[encoded data removed]",
      "text/plain": [
       "<Figure size 576x504 with 1 Axes>"
      ]
     },
     "metadata": {
      "needs_background": "light"
     },
     "output_type": "display_data"
    }
   ],
   "source": [
    "# Visualizing the 20 most frequent words in the ASD reddit (including stopwords)\n",
    "plt.figure(figsize=(8,7))\n",
    "test_df_asd.sum().sort_values(ascending=False).plot(kind='barh')\n",
    "plt.title('Top 20 Words in the ASD Reddit and Their Frequency (with stopwords)', size=18)\n",
    "plt.xlabel('Frequency', size=12)\n",
    "plt.ylabel('Words', size=12);"
   ]
  },
  {
   "cell_type": "markdown",
   "metadata": {},
   "source": [
    "**Interpretation:** A majority of the 20 most frequent words in the ASD reddit are common stopwords. As a result, it may be a good idea to remove stopwords in our model. "
   ]
  },
  {
   "cell_type": "code",
   "execution_count": 35,
   "metadata": {},
   "outputs": [
    {
     "name": "stdout",
     "output_type": "stream",
     "text": [
      "['i', 'me', 'my', 'myself', 'we', 'our', 'ours', 'ourselves', 'you', \"you're\", \"you've\", \"you'll\", \"you'd\", 'your', 'yours', 'yourself', 'yourselves', 'he', 'him', 'his', 'himself', 'she', \"she's\", 'her', 'hers', 'herself', 'it', \"it's\", 'its', 'itself', 'they', 'them', 'their', 'theirs', 'themselves', 'what', 'which', 'who', 'whom', 'this', 'that', \"that'll\", 'these', 'those', 'am', 'is', 'are', 'was', 'were', 'be', 'been', 'being', 'have', 'has', 'had', 'having', 'do', 'does', 'did', 'doing', 'a', 'an', 'the', 'and', 'but', 'if', 'or', 'because', 'as', 'until', 'while', 'of', 'at', 'by', 'for', 'with', 'about', 'against', 'between', 'into', 'through', 'during', 'before', 'after', 'above', 'below', 'to', 'from', 'up', 'down', 'in', 'out', 'on', 'off', 'over', 'under', 'again', 'further', 'then', 'once', 'here', 'there', 'when', 'where', 'why', 'how', 'all', 'any', 'both', 'each', 'few', 'more', 'most', 'other', 'some', 'such', 'no', 'nor', 'not', 'only', 'own', 'same', 'so', 'than', 'too', 'very', 's', 't', 'can', 'will', 'just', 'don', \"don't\", 'should', \"should've\", 'now', 'd', 'll', 'm', 'o', 're', 've', 'y', 'ain', 'aren', \"aren't\", 'couldn', \"couldn't\", 'didn', \"didn't\", 'doesn', \"doesn't\", 'hadn', \"hadn't\", 'hasn', \"hasn't\", 'haven', \"haven't\", 'isn', \"isn't\", 'ma', 'mightn', \"mightn't\", 'mustn', \"mustn't\", 'needn', \"needn't\", 'shan', \"shan't\", 'shouldn', \"shouldn't\", 'wasn', \"wasn't\", 'weren', \"weren't\", 'won', \"won't\", 'wouldn', \"wouldn't\"]\n"
     ]
    }
   ],
   "source": [
    "print(stopwords.words('english'))"
   ]
  },
  {
   "cell_type": "code",
   "execution_count": 36,
   "metadata": {
    "scrolled": false
   },
   "outputs": [],
   "source": [
    "# Creating a word matrix of the 20 most common words in the ASD reddit (excluding stopwords)\n",
    "cvec = CountVectorizer(max_features = 20, stop_words='english')\n",
    "test_text = cvec.fit_transform(data[data['subreddit']==1]['cleaned_text'])\n",
    "test_df_asd_no_stop = pd.DataFrame(test_text.toarray(), columns=cvec.get_feature_names())"
   ]
  },
  {
   "cell_type": "code",
   "execution_count": 37,
   "metadata": {
    "scrolled": true
   },
   "outputs": [
    {
     "data": {
      "text/html": [
       "<div>\n",
       "<style scoped>\n",
       "    .dataframe tbody tr th:only-of-type {\n",
       "        vertical-align: middle;\n",
       "    }\n",
       "\n",
       "    .dataframe tbody tr th {\n",
       "        vertical-align: top;\n",
       "    }\n",
       "\n",
       "    .dataframe thead th {\n",
       "        text-align: right;\n",
       "    }\n",
       "</style>\n",
       "<table border=\"1\" class=\"dataframe\">\n",
       "  <thead>\n",
       "    <tr style=\"text-align: right;\">\n",
       "      <th></th>\n",
       "      <th>autism</th>\n",
       "      <th>autistic</th>\n",
       "      <th>don</th>\n",
       "      <th>dont</th>\n",
       "      <th>feel</th>\n",
       "      <th>friends</th>\n",
       "      <th>help</th>\n",
       "      <th>im</th>\n",
       "      <th>just</th>\n",
       "      <th>know</th>\n",
       "      <th>like</th>\n",
       "      <th>make</th>\n",
       "      <th>people</th>\n",
       "      <th>really</th>\n",
       "      <th>school</th>\n",
       "      <th>things</th>\n",
       "      <th>think</th>\n",
       "      <th>time</th>\n",
       "      <th>want</th>\n",
       "      <th>way</th>\n",
       "    </tr>\n",
       "  </thead>\n",
       "  <tbody>\n",
       "    <tr>\n",
       "      <th>0</th>\n",
       "      <td>0</td>\n",
       "      <td>0</td>\n",
       "      <td>0</td>\n",
       "      <td>0</td>\n",
       "      <td>0</td>\n",
       "      <td>0</td>\n",
       "      <td>0</td>\n",
       "      <td>0</td>\n",
       "      <td>0</td>\n",
       "      <td>0</td>\n",
       "      <td>0</td>\n",
       "      <td>0</td>\n",
       "      <td>0</td>\n",
       "      <td>0</td>\n",
       "      <td>0</td>\n",
       "      <td>0</td>\n",
       "      <td>0</td>\n",
       "      <td>0</td>\n",
       "      <td>0</td>\n",
       "      <td>0</td>\n",
       "    </tr>\n",
       "    <tr>\n",
       "      <th>1</th>\n",
       "      <td>1</td>\n",
       "      <td>0</td>\n",
       "      <td>0</td>\n",
       "      <td>0</td>\n",
       "      <td>0</td>\n",
       "      <td>0</td>\n",
       "      <td>0</td>\n",
       "      <td>0</td>\n",
       "      <td>0</td>\n",
       "      <td>1</td>\n",
       "      <td>0</td>\n",
       "      <td>0</td>\n",
       "      <td>0</td>\n",
       "      <td>1</td>\n",
       "      <td>0</td>\n",
       "      <td>1</td>\n",
       "      <td>0</td>\n",
       "      <td>0</td>\n",
       "      <td>2</td>\n",
       "      <td>0</td>\n",
       "    </tr>\n",
       "    <tr>\n",
       "      <th>2</th>\n",
       "      <td>0</td>\n",
       "      <td>1</td>\n",
       "      <td>0</td>\n",
       "      <td>1</td>\n",
       "      <td>6</td>\n",
       "      <td>0</td>\n",
       "      <td>0</td>\n",
       "      <td>2</td>\n",
       "      <td>0</td>\n",
       "      <td>1</td>\n",
       "      <td>2</td>\n",
       "      <td>0</td>\n",
       "      <td>1</td>\n",
       "      <td>0</td>\n",
       "      <td>0</td>\n",
       "      <td>0</td>\n",
       "      <td>1</td>\n",
       "      <td>0</td>\n",
       "      <td>0</td>\n",
       "      <td>1</td>\n",
       "    </tr>\n",
       "    <tr>\n",
       "      <th>3</th>\n",
       "      <td>2</td>\n",
       "      <td>0</td>\n",
       "      <td>0</td>\n",
       "      <td>0</td>\n",
       "      <td>0</td>\n",
       "      <td>0</td>\n",
       "      <td>0</td>\n",
       "      <td>0</td>\n",
       "      <td>1</td>\n",
       "      <td>0</td>\n",
       "      <td>0</td>\n",
       "      <td>0</td>\n",
       "      <td>3</td>\n",
       "      <td>1</td>\n",
       "      <td>0</td>\n",
       "      <td>0</td>\n",
       "      <td>0</td>\n",
       "      <td>0</td>\n",
       "      <td>0</td>\n",
       "      <td>0</td>\n",
       "    </tr>\n",
       "    <tr>\n",
       "      <th>4</th>\n",
       "      <td>0</td>\n",
       "      <td>0</td>\n",
       "      <td>0</td>\n",
       "      <td>2</td>\n",
       "      <td>0</td>\n",
       "      <td>0</td>\n",
       "      <td>0</td>\n",
       "      <td>3</td>\n",
       "      <td>0</td>\n",
       "      <td>2</td>\n",
       "      <td>0</td>\n",
       "      <td>0</td>\n",
       "      <td>0</td>\n",
       "      <td>0</td>\n",
       "      <td>0</td>\n",
       "      <td>0</td>\n",
       "      <td>0</td>\n",
       "      <td>1</td>\n",
       "      <td>0</td>\n",
       "      <td>0</td>\n",
       "    </tr>\n",
       "  </tbody>\n",
       "</table>\n",
       "</div>"
      ],
      "text/plain": [
       "   autism  autistic  don  dont  feel  friends  help  im  just  know  like  \\\n",
       "0       0         0    0     0     0        0     0   0     0     0     0   \n",
       "1       1         0    0     0     0        0     0   0     0     1     0   \n",
       "2       0         1    0     1     6        0     0   2     0     1     2   \n",
       "3       2         0    0     0     0        0     0   0     1     0     0   \n",
       "4       0         0    0     2     0        0     0   3     0     2     0   \n",
       "\n",
       "   make  people  really  school  things  think  time  want  way  \n",
       "0     0       0       0       0       0      0     0     0    0  \n",
       "1     0       0       1       0       1      0     0     2    0  \n",
       "2     0       1       0       0       0      1     0     0    1  \n",
       "3     0       3       1       0       0      0     0     0    0  \n",
       "4     0       0       0       0       0      0     1     0    0  "
      ]
     },
     "execution_count": 37,
     "metadata": {},
     "output_type": "execute_result"
    }
   ],
   "source": [
    "test_df_asd_no_stop.head()"
   ]
  },
  {
   "cell_type": "code",
   "execution_count": 38,
   "metadata": {
    "scrolled": false
   },
   "outputs": [
    {
     "data": {
      "image/png": "[encoded data removed]",
      "text/plain": [
       "<Figure size 576x504 with 1 Axes>"
      ]
     },
     "metadata": {
      "needs_background": "light"
     },
     "output_type": "display_data"
    }
   ],
   "source": [
    "# Visualizing the 20 most frequent words in the ASD reddit (excluding stopwords)\n",
    "plt.figure(figsize=(8,7))\n",
    "test_df_asd_no_stop.sum().sort_values(ascending=False).plot(kind='barh')\n",
    "plt.title('Top 20 Words in the ASD Reddit and Their Frequency (no stopwords)', size=18)\n",
    "plt.xlabel('Frequency', size=12)\n",
    "plt.ylabel('Words', size=12);"
   ]
  },
  {
   "cell_type": "markdown",
   "metadata": {},
   "source": [
    "**Interpretation:** When removing stopwords, the 20 most frequent words are much more autism related. "
   ]
  },
  {
   "cell_type": "code",
   "execution_count": 39,
   "metadata": {},
   "outputs": [],
   "source": [
    "# Creating a word matrix of the 20 most common words in the OCD reddit (including stopwords)\n",
    "cvec = CountVectorizer(max_features = 20)\n",
    "test_text = cvec.fit_transform(data[data['subreddit']==0]['cleaned_text'])\n",
    "test_df_ocd = pd.DataFrame(test_text.toarray(), columns=cvec.get_feature_names())"
   ]
  },
  {
   "cell_type": "code",
   "execution_count": 40,
   "metadata": {
    "scrolled": false
   },
   "outputs": [
    {
     "data": {
      "image/png": "[encoded data removed]",
      "text/plain": [
       "<Figure size 576x504 with 1 Axes>"
      ]
     },
     "metadata": {
      "needs_background": "light"
     },
     "output_type": "display_data"
    }
   ],
   "source": [
    "# Visualizing the 20 most frequent words in the OCD reddit (including stopwords)\n",
    "plt.figure(figsize=(8,7))\n",
    "test_df_ocd.sum().sort_values(ascending=False).plot(kind='barh')\n",
    "plt.title('Top 20 Words in the OCD Reddit and Their Frequency (with stopwords)', size=18)\n",
    "plt.xlabel('Frequency', size=12)\n",
    "plt.ylabel('Words', size=12);"
   ]
  },
  {
   "cell_type": "markdown",
   "metadata": {},
   "source": [
    "**Interpretation:** A majority of the 20 most frequent words in the ASD reddit are common stopwords. As a result, it may be a good idea to remove stopwords in our model."
   ]
  },
  {
   "cell_type": "code",
   "execution_count": 41,
   "metadata": {},
   "outputs": [],
   "source": [
    "# Creating a word matrix of the 20 most common words in the OCD reddit (excluding stopwords)\n",
    "cvec = CountVectorizer(max_features = 20, stop_words='english')\n",
    "test_text = cvec.fit_transform(data[data['subreddit']==0]['cleaned_text'])\n",
    "test_df_ocd_no_stop = pd.DataFrame(test_text.toarray(), columns=cvec.get_feature_names())"
   ]
  },
  {
   "cell_type": "code",
   "execution_count": 42,
   "metadata": {
    "scrolled": false
   },
   "outputs": [
    {
     "data": {
      "image/png": "[encoded data removed]",
      "text/plain": [
       "<Figure size 576x504 with 1 Axes>"
      ]
     },
     "metadata": {
      "needs_background": "light"
     },
     "output_type": "display_data"
    }
   ],
   "source": [
    "# Visualizing the 20 most frequent words in the OCD reddit (excluding stopwords)\n",
    "plt.figure(figsize=(8,7))\n",
    "test_df_ocd_no_stop.sum().sort_values(ascending=False).plot(kind='barh')\n",
    "plt.title('Top 20 Words in the OCD Reddit and Their Frequency (no stopwords)', size=18)\n",
    "plt.xlabel('Frequency', size=12)\n",
    "plt.ylabel('Words', size=12);"
   ]
  },
  {
   "cell_type": "markdown",
   "metadata": {},
   "source": [
    "Words that are in both ASD and OCD subreddit should be included in stopwords.  \n",
    "While we are only showing the most frequent 20 words here, the same analysis was done with the most frequent 40 words in order to identify more potential stopwords. "
   ]
  },
  {
   "cell_type": "code",
   "execution_count": 43,
   "metadata": {},
   "outputs": [],
   "source": [
    "# more info about the context of the words "
   ]
  },
  {
   "cell_type": "code",
   "execution_count": 44,
   "metadata": {},
   "outputs": [],
   "source": [
    "cvec = CountVectorizer(max_features = 40, stop_words='english')\n",
    "test_text = cvec.fit_transform(data[data['subreddit']==1]['cleaned_text'])\n",
    "test_auti = pd.DataFrame(test_text.toarray(), columns=cvec.get_feature_names())"
   ]
  },
  {
   "cell_type": "code",
   "execution_count": 45,
   "metadata": {},
   "outputs": [
    {
     "data": {
      "image/png": "[encoded data removed]",
      "text/plain": [
       "<Figure size 576x504 with 1 Axes>"
      ]
     },
     "metadata": {
      "needs_background": "light"
     },
     "output_type": "display_data"
    }
   ],
   "source": [
    "plt.figure(figsize=(8,7))\n",
    "test_auti.sum().sort_values(ascending=False).plot(kind='barh')\n",
    "plt.title('Top 40 Words in the OCD Reddit and Their Frequency (no stopwords)', size=18)\n",
    "plt.xlabel('Frequency', size=12)\n",
    "plt.ylabel('Words', size=12);"
   ]
  },
  {
   "cell_type": "code",
   "execution_count": 46,
   "metadata": {},
   "outputs": [],
   "source": [
    "cvec = CountVectorizer(max_features = 40, stop_words='english')\n",
    "test_text = cvec.fit_transform(data[data['subreddit']==0]['cleaned_text'])\n",
    "test_ocid = pd.DataFrame(test_text.toarray(), columns=cvec.get_feature_names())"
   ]
  },
  {
   "cell_type": "code",
   "execution_count": 47,
   "metadata": {},
   "outputs": [
    {
     "data": {
      "image/png": "[encoded data removed]",
      "text/plain": [
       "<Figure size 576x504 with 1 Axes>"
      ]
     },
     "metadata": {
      "needs_background": "light"
     },
     "output_type": "display_data"
    }
   ],
   "source": [
    "plt.figure(figsize=(8,7))\n",
    "test_ocid.sum().sort_values(ascending=False).plot(kind='barh')\n",
    "plt.title('Top 40 Words in the OCidD Reddit and Their Frequency (no stopwords)', size=18)\n",
    "plt.xlabel('Frequency', size=12)\n",
    "plt.ylabel('Words', size=12);"
   ]
  },
  {
   "cell_type": "markdown",
   "metadata": {},
   "source": [
    "## Model Preparation"
   ]
  },
  {
   "cell_type": "code",
   "execution_count": 48,
   "metadata": {},
   "outputs": [],
   "source": [
    "# Create custom list of stopwords \n",
    "additional_words = ['way', 'don', 'make', 'help', 'things', 'think', 'time', 'want', 'feel', \n",
    "                   'dont', 'really', 'know', 'im', 'people', 'just', 'like', 'lot', 'ive', \n",
    "                   'does', 'years', 'going', 'life', 've', 'got', 'need']\n",
    "my_stopwords = frozenset(additional_words+ stopwords.words('english'))"
   ]
  },
  {
   "cell_type": "code",
   "execution_count": 49,
   "metadata": {
    "scrolled": true
   },
   "outputs": [
    {
     "data": {
      "text/plain": [
       "frozenset({'a',\n",
       "           'about',\n",
       "           'above',\n",
       "           'after',\n",
       "           'again',\n",
       "           'against',\n",
       "           'ain',\n",
       "           'all',\n",
       "           'am',\n",
       "           'an',\n",
       "           'and',\n",
       "           'any',\n",
       "           'are',\n",
       "           'aren',\n",
       "           \"aren't\",\n",
       "           'as',\n",
       "           'at',\n",
       "           'be',\n",
       "           'because',\n",
       "           'been',\n",
       "           'before',\n",
       "           'being',\n",
       "           'below',\n",
       "           'between',\n",
       "           'both',\n",
       "           'but',\n",
       "           'by',\n",
       "           'can',\n",
       "           'couldn',\n",
       "           \"couldn't\",\n",
       "           'd',\n",
       "           'did',\n",
       "           'didn',\n",
       "           \"didn't\",\n",
       "           'do',\n",
       "           'does',\n",
       "           'doesn',\n",
       "           \"doesn't\",\n",
       "           'doing',\n",
       "           'don',\n",
       "           \"don't\",\n",
       "           'dont',\n",
       "           'down',\n",
       "           'during',\n",
       "           'each',\n",
       "           'feel',\n",
       "           'few',\n",
       "           'for',\n",
       "           'from',\n",
       "           'further',\n",
       "           'going',\n",
       "           'got',\n",
       "           'had',\n",
       "           'hadn',\n",
       "           \"hadn't\",\n",
       "           'has',\n",
       "           'hasn',\n",
       "           \"hasn't\",\n",
       "           'have',\n",
       "           'haven',\n",
       "           \"haven't\",\n",
       "           'having',\n",
       "           'he',\n",
       "           'help',\n",
       "           'her',\n",
       "           'here',\n",
       "           'hers',\n",
       "           'herself',\n",
       "           'him',\n",
       "           'himself',\n",
       "           'his',\n",
       "           'how',\n",
       "           'i',\n",
       "           'if',\n",
       "           'im',\n",
       "           'in',\n",
       "           'into',\n",
       "           'is',\n",
       "           'isn',\n",
       "           \"isn't\",\n",
       "           'it',\n",
       "           \"it's\",\n",
       "           'its',\n",
       "           'itself',\n",
       "           'ive',\n",
       "           'just',\n",
       "           'know',\n",
       "           'life',\n",
       "           'like',\n",
       "           'll',\n",
       "           'lot',\n",
       "           'm',\n",
       "           'ma',\n",
       "           'make',\n",
       "           'me',\n",
       "           'mightn',\n",
       "           \"mightn't\",\n",
       "           'more',\n",
       "           'most',\n",
       "           'mustn',\n",
       "           \"mustn't\",\n",
       "           'my',\n",
       "           'myself',\n",
       "           'need',\n",
       "           'needn',\n",
       "           \"needn't\",\n",
       "           'no',\n",
       "           'nor',\n",
       "           'not',\n",
       "           'now',\n",
       "           'o',\n",
       "           'of',\n",
       "           'off',\n",
       "           'on',\n",
       "           'once',\n",
       "           'only',\n",
       "           'or',\n",
       "           'other',\n",
       "           'our',\n",
       "           'ours',\n",
       "           'ourselves',\n",
       "           'out',\n",
       "           'over',\n",
       "           'own',\n",
       "           'people',\n",
       "           're',\n",
       "           'really',\n",
       "           's',\n",
       "           'same',\n",
       "           'shan',\n",
       "           \"shan't\",\n",
       "           'she',\n",
       "           \"she's\",\n",
       "           'should',\n",
       "           \"should've\",\n",
       "           'shouldn',\n",
       "           \"shouldn't\",\n",
       "           'so',\n",
       "           'some',\n",
       "           'such',\n",
       "           't',\n",
       "           'than',\n",
       "           'that',\n",
       "           \"that'll\",\n",
       "           'the',\n",
       "           'their',\n",
       "           'theirs',\n",
       "           'them',\n",
       "           'themselves',\n",
       "           'then',\n",
       "           'there',\n",
       "           'these',\n",
       "           'they',\n",
       "           'things',\n",
       "           'think',\n",
       "           'this',\n",
       "           'those',\n",
       "           'through',\n",
       "           'time',\n",
       "           'to',\n",
       "           'too',\n",
       "           'under',\n",
       "           'until',\n",
       "           'up',\n",
       "           've',\n",
       "           'very',\n",
       "           'want',\n",
       "           'was',\n",
       "           'wasn',\n",
       "           \"wasn't\",\n",
       "           'way',\n",
       "           'we',\n",
       "           'were',\n",
       "           'weren',\n",
       "           \"weren't\",\n",
       "           'what',\n",
       "           'when',\n",
       "           'where',\n",
       "           'which',\n",
       "           'while',\n",
       "           'who',\n",
       "           'whom',\n",
       "           'why',\n",
       "           'will',\n",
       "           'with',\n",
       "           'won',\n",
       "           \"won't\",\n",
       "           'wouldn',\n",
       "           \"wouldn't\",\n",
       "           'y',\n",
       "           'years',\n",
       "           'you',\n",
       "           \"you'd\",\n",
       "           \"you'll\",\n",
       "           \"you're\",\n",
       "           \"you've\",\n",
       "           'your',\n",
       "           'yours',\n",
       "           'yourself',\n",
       "           'yourselves'})"
      ]
     },
     "execution_count": 49,
     "metadata": {},
     "output_type": "execute_result"
    }
   ],
   "source": [
    "my_stopwords"
   ]
  },
  {
   "cell_type": "code",
   "execution_count": 50,
   "metadata": {},
   "outputs": [
    {
     "data": {
      "text/plain": [
       "179"
      ]
     },
     "execution_count": 50,
     "metadata": {},
     "output_type": "execute_result"
    }
   ],
   "source": [
    "len(stopwords.words('english'))"
   ]
  },
  {
   "cell_type": "code",
   "execution_count": 51,
   "metadata": {},
   "outputs": [
    {
     "data": {
      "text/plain": [
       "200"
      ]
     },
     "execution_count": 51,
     "metadata": {},
     "output_type": "execute_result"
    }
   ],
   "source": [
    "len(my_stopwords)"
   ]
  },
  {
   "cell_type": "code",
   "execution_count": 52,
   "metadata": {},
   "outputs": [
    {
     "data": {
      "text/plain": [
       "204"
      ]
     },
     "execution_count": 52,
     "metadata": {},
     "output_type": "execute_result"
    }
   ],
   "source": [
    "179+25"
   ]
  },
  {
   "cell_type": "code",
   "execution_count": 53,
   "metadata": {},
   "outputs": [],
   "source": [
    "X = data['cleaned_text']\n",
    "y = data['subreddit']"
   ]
  },
  {
   "cell_type": "markdown",
   "metadata": {},
   "source": [
    "## Modeling"
   ]
  },
  {
   "cell_type": "markdown",
   "metadata": {},
   "source": [
    "### Baseline Model"
   ]
  },
  {
   "cell_type": "code",
   "execution_count": null,
   "metadata": {},
   "outputs": [],
   "source": []
  },
  {
   "cell_type": "markdown",
   "metadata": {},
   "source": [
    "### Logistic Regression"
   ]
  },
  {
   "cell_type": "code",
   "execution_count": null,
   "metadata": {},
   "outputs": [],
   "source": []
  },
  {
   "cell_type": "markdown",
   "metadata": {},
   "source": [
    "### kNN "
   ]
  },
  {
   "cell_type": "code",
   "execution_count": null,
   "metadata": {},
   "outputs": [],
   "source": []
  },
  {
   "cell_type": "markdown",
   "metadata": {},
   "source": [
    "### Naive Bayes"
   ]
  },
  {
   "cell_type": "code",
   "execution_count": null,
   "metadata": {},
   "outputs": [],
   "source": []
  },
  {
   "cell_type": "markdown",
   "metadata": {},
   "source": [
    "## Model Selection"
   ]
  },
  {
   "cell_type": "code",
   "execution_count": null,
   "metadata": {},
   "outputs": [],
   "source": []
  },
  {
   "cell_type": "markdown",
   "metadata": {},
   "source": [
    "## Model Evaluation"
   ]
  },
  {
   "cell_type": "code",
   "execution_count": 54,
   "metadata": {},
   "outputs": [],
   "source": [
    "# confusion matrix \n",
    "# you can look at your misclassifications (look at specific ones and explain them)"
   ]
  },
  {
   "cell_type": "markdown",
   "metadata": {},
   "source": [
    "## Conclusion and Recommendations "
   ]
  },
  {
   "cell_type": "code",
   "execution_count": null,
   "metadata": {},
   "outputs": [],
   "source": []
  },
  {
   "cell_type": "markdown",
   "metadata": {},
   "source": [
    "## References"
   ]
  },
  {
   "cell_type": "markdown",
   "metadata": {},
   "source": [
    "[Autism Reddit](https://www.reddit.com/r/autism/)  \n",
    "[OCD Reddit](https://www.reddit.com/r/OCD/)  \n",
    "[OCD resembles ASD](https://www.webmd.com/brain/autism/autism-similar-conditions)"
   ]
  },
  {
   "cell_type": "code",
   "execution_count": null,
   "metadata": {},
   "outputs": [],
   "source": []
  }
 ],
 "metadata": {
  "kernelspec": {
   "display_name": "Python 3",
   "language": "python",
   "name": "python3"
  },
  "language_info": {
   "codemirror_mode": {
    "name": "ipython",
    "version": 3
   },
   "file_extension": ".py",
   "mimetype": "text/x-python",
   "name": "python",
   "nbconvert_exporter": "python",
   "pygments_lexer": "ipython3",
   "version": "3.7.6"
  }
 },
 "nbformat": 4,
 "nbformat_minor": 4
}
