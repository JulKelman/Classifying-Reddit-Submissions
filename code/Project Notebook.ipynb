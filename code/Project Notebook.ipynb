{
 "cells": [
  {
   "cell_type": "markdown",
   "metadata": {},
   "source": [
    "# Identifying Potential Customers Based on Reddit Posts \n",
    "\n",
    "#### By: Julia Kelman: [GitHub](https://git.generalassemb.ly/julia-kelman/)"
   ]
  },
  {
   "cell_type": "markdown",
   "metadata": {},
   "source": [
    "## Problem Statement"
   ]
  },
  {
   "cell_type": "markdown",
   "metadata": {},
   "source": [
    "We are a company who created a new product meant to help individuals with Autism Spectrum Disorder (ASD). We want to market online and as a result need to be able to identify users who are part of our target population based on their online content (reddit/facebook/blog posts for example).  \n",
    "The autism community has a great online presence with many facebook groups and blogs dedicated to supporting individuals with this disorder. However, many of those groups are not restricted to people with ASD. Indeed, other disorders such as Obsessive Compulsive Disorder (OCD) share many symptoms with autism [source](https://www.webmd.com/brain/autism/autism-similar-conditions). As a result, online resources are often geared towards both of those populations.  \n",
    "To start, our company will focus on identifying potential customers on one major blog for a support group for individuals with ASD and individuals with OCD.   \n",
    "Since our product is specific to individuals with ASD, we need to be able to differentiate between people with ASD and OCD based on what they post on this online platform.  \n",
    "We plan to solve this problem by using submissions on an Autism reddit page and an OCD reddit page to build a classification model able to classify a user as having either ASD or OCD based on their post with the highest level of accuracy possible.   \n",
    "This model could then be used to identify potential customers on blogs for people with autism or OCD. "
   ]
  },
  {
   "cell_type": "markdown",
   "metadata": {},
   "source": [
    "## Executive Summary"
   ]
  },
  {
   "cell_type": "markdown",
   "metadata": {},
   "source": [
    "Our goal is to build a model able to classify a submission as either part of the ASD subreddit or the OCD subreddit. In order to do so, 1653 posts from the [ASD subreddit page](https://www.reddit.com/r/autism/) and 2209 posts from the [OCD subreddit page](https://www.reddit.com/r/OCD/) were gathered using an API and the steps outlined in the [Data Gathering Notebook](https://git.generalassemb.ly/julia-kelman/project_3/blob/master/code/Gathering%20Data%20Notebook.ipynb). Our final dataframe contained 3862 submissions posted by individual users between November 2019 and March 2020. For each of those submissions, 9 variables were provided. For a detailed list and description of those variables refer to the [data dictionary](#Data-Dictionary).   \n",
    "The dataframe was cleaned making sure to deal with any null values, and the submission text was cleaned to remove any non-text information. The words were then stemmed in order to improve our model's accuracy. Exploratory analysis included analysis of the comments, scores, and most frequent words. Data visualisation tools were used to identify trends and valuable insights from those analysis. Five models were then tested: baseline, logistic regression, kNN, naive bayes, and SVM, each with either a Count Vectorizer or TFIDF Vectorizer.   \n",
    "The model with the highest test accuracy was selected, evaluated, and conclusions and recommendations were derived to optimize the identification of potential customers. "
   ]
  },
  {
   "cell_type": "markdown",
   "metadata": {},
   "source": [
    "## Table of Contents \n",
    "\n",
    "- [Reddit Data Import](#Loading-Data)\n",
    "    - [Data Dictionary](#Data-Dictionary)\n",
    "- [Data Cleaning](#Data-Cleaning) \n",
    "- [Exploratory Data Analysis](#EDA)\n",
    "    - [Comments Analysis](#Comments-Analysis)\n",
    "    - [Score Analysis](#Score-Analysis)\n",
    "    - [Timestamps Analysis](#Timestamps-Analysis)\n",
    "    - [Most Frequent Words Analysis](#Most-Frequent-Words-Analysis)\n",
    "    - [Creating Custom Stopwords List](#Creating-Custom-Stopwords-List)\n",
    "- [Model Preparation](#Model-Preparation)\n",
    "- [Modeling](#Modeling)  \n",
    "    - [Baseline Model](#Baseline-Model)  \n",
    "    - [Logistic Regression](#Logistic-Regression)\n",
    "        - [Logistic Regression + CountVectorizer](#Logistic-Regression-+-CountVectorizer)\n",
    "        - [Logistic Regression + TFIDFVectorizer](#Logistic-Regression-+-TFIDFVectorizer)\n",
    "    - [kNN](#kNN)  \n",
    "        - [kNN + CountVectorizer](#kNN-+-CountVectorizer)\n",
    "        - [kNN + TFIDFVectorizer](#kNN-+-TFIDFVectorizer)\n",
    "    - [Naive Bayes](#Naive-Bayes) \n",
    "        - [Multinomial Naive Bayes + CountVectorizer](#Multinomial-Naive-Bayes-+-CountVectorizer)  \n",
    "        - [Gaussian NB + TFIDFVectorizer](#Gaussian-NB-+-TFIDFVectorizer)\n",
    "    - [SVM](#SVM)\n",
    "        - [SVM + CountVectorizer](#SVM-+-CountVectorizer)\n",
    "        - [SVM + TFIDFVectorizer](#SVM-+-TFIDFVectorizer)\n",
    "- [Model Selection](#Model-Selection)\n",
    "- [Model Evaluation](#Model-Evaluation)\n",
    "    - [Confusion Matrix](#Confusion-Matrix)\n",
    "    - [Understanding Misclassifications](#Understanding-Misclassifications)\n",
    "    - [Coefficients Interpretation](#Coefficient-Interpretation)\n",
    "- [Conclusion & Recommendations](#Conclusion-and-Recommendations)\n",
    "- [References](#References)"
   ]
  },
  {
   "cell_type": "markdown",
   "metadata": {},
   "source": [
    "## Loading Data"
   ]
  },
  {
   "cell_type": "code",
   "execution_count": 1,
   "metadata": {},
   "outputs": [],
   "source": [
    "# Library imports \n",
    "import pandas as pd \n",
    "import numpy as np \n",
    "import matplotlib.pyplot as plt \n",
    "import seaborn as sns\n",
    "import regex as re\n",
    "import string\n",
    "from bs4 import BeautifulSoup             \n",
    "from nltk.corpus import stopwords\n",
    "from nltk.tokenize import RegexpTokenizer\n",
    "from nltk.stem.porter import PorterStemmer\n",
    "from sklearn.feature_extraction import text\n",
    "from sklearn.feature_extraction.text import CountVectorizer,  TfidfVectorizer\n",
    "from sklearn.pipeline import Pipeline\n",
    "from sklearn.model_selection import cross_val_score, train_test_split, GridSearchCV\n",
    "from sklearn.dummy import DummyClassifier\n",
    "from sklearn.linear_model import LogisticRegression\n",
    "from sklearn.neighbors import KNeighborsClassifier \n",
    "from sklearn.preprocessing import FunctionTransformer, MaxAbsScaler\n",
    "from sklearn.naive_bayes import GaussianNB, MultinomialNB\n",
    "from sklearn.svm import SVC\n",
    "from sklearn.tree import DecisionTreeClassifier\n",
    "from sklearn.metrics import confusion_matrix\n",
    "\n",
    "%matplotlib inline "
   ]
  },
  {
   "cell_type": "markdown",
   "metadata": {},
   "source": [
    "For data gathering, please follow the steps in the \"Data Gathering Notebook\" "
   ]
  },
  {
   "cell_type": "code",
   "execution_count": 2,
   "metadata": {},
   "outputs": [],
   "source": [
    "# Loading data \n",
    "data = pd.read_csv(\"../data/data.csv\")"
   ]
  },
  {
   "cell_type": "code",
   "execution_count": 3,
   "metadata": {
    "scrolled": true
   },
   "outputs": [
    {
     "data": {
      "text/html": [
       "<div>\n",
       "<style scoped>\n",
       "    .dataframe tbody tr th:only-of-type {\n",
       "        vertical-align: middle;\n",
       "    }\n",
       "\n",
       "    .dataframe tbody tr th {\n",
       "        vertical-align: top;\n",
       "    }\n",
       "\n",
       "    .dataframe thead th {\n",
       "        text-align: right;\n",
       "    }\n",
       "</style>\n",
       "<table border=\"1\" class=\"dataframe\">\n",
       "  <thead>\n",
       "    <tr style=\"text-align: right;\">\n",
       "      <th></th>\n",
       "      <th>title</th>\n",
       "      <th>selftext</th>\n",
       "      <th>subreddit</th>\n",
       "      <th>created_utc</th>\n",
       "      <th>author</th>\n",
       "      <th>num_comments</th>\n",
       "      <th>score</th>\n",
       "      <th>is_self</th>\n",
       "      <th>timestamp</th>\n",
       "    </tr>\n",
       "  </thead>\n",
       "  <tbody>\n",
       "    <tr>\n",
       "      <th>0</th>\n",
       "      <td>Was convinced to try an outpatient treatment p...</td>\n",
       "      <td>[removed]</td>\n",
       "      <td>OCD</td>\n",
       "      <td>1584570256</td>\n",
       "      <td>stringthanks</td>\n",
       "      <td>0</td>\n",
       "      <td>1</td>\n",
       "      <td>True</td>\n",
       "      <td>2020-03-18</td>\n",
       "    </tr>\n",
       "    <tr>\n",
       "      <th>1</th>\n",
       "      <td>To anyone who has contamination ocd: what are ...</td>\n",
       "      <td>NaN</td>\n",
       "      <td>OCD</td>\n",
       "      <td>1584570641</td>\n",
       "      <td>Mental_senstrias</td>\n",
       "      <td>9</td>\n",
       "      <td>1</td>\n",
       "      <td>True</td>\n",
       "      <td>2020-03-18</td>\n",
       "    </tr>\n",
       "    <tr>\n",
       "      <th>2</th>\n",
       "      <td>Sertraline HCL (Generic Zoloft) w/out Insurance?</td>\n",
       "      <td>Amid the coronavirus economic recession, there...</td>\n",
       "      <td>OCD</td>\n",
       "      <td>1584570720</td>\n",
       "      <td>BigOof673</td>\n",
       "      <td>2</td>\n",
       "      <td>2</td>\n",
       "      <td>True</td>\n",
       "      <td>2020-03-18</td>\n",
       "    </tr>\n",
       "    <tr>\n",
       "      <th>3</th>\n",
       "      <td>Feeling like going mad</td>\n",
       "      <td>I suffer from severe OCD, related to magic thi...</td>\n",
       "      <td>OCD</td>\n",
       "      <td>1584570825</td>\n",
       "      <td>Bobby_Crazykite</td>\n",
       "      <td>4</td>\n",
       "      <td>3</td>\n",
       "      <td>True</td>\n",
       "      <td>2020-03-18</td>\n",
       "    </tr>\n",
       "    <tr>\n",
       "      <th>4</th>\n",
       "      <td>Worried about this sticky adhesive</td>\n",
       "      <td>So I noticed that the little circles on cabine...</td>\n",
       "      <td>OCD</td>\n",
       "      <td>1584570850</td>\n",
       "      <td>JakeHassle</td>\n",
       "      <td>0</td>\n",
       "      <td>1</td>\n",
       "      <td>True</td>\n",
       "      <td>2020-03-18</td>\n",
       "    </tr>\n",
       "  </tbody>\n",
       "</table>\n",
       "</div>"
      ],
      "text/plain": [
       "                                               title  \\\n",
       "0  Was convinced to try an outpatient treatment p...   \n",
       "1  To anyone who has contamination ocd: what are ...   \n",
       "2   Sertraline HCL (Generic Zoloft) w/out Insurance?   \n",
       "3                             Feeling like going mad   \n",
       "4                 Worried about this sticky adhesive   \n",
       "\n",
       "                                            selftext subreddit  created_utc  \\\n",
       "0                                          [removed]       OCD   1584570256   \n",
       "1                                                NaN       OCD   1584570641   \n",
       "2  Amid the coronavirus economic recession, there...       OCD   1584570720   \n",
       "3  I suffer from severe OCD, related to magic thi...       OCD   1584570825   \n",
       "4  So I noticed that the little circles on cabine...       OCD   1584570850   \n",
       "\n",
       "             author  num_comments  score  is_self   timestamp  \n",
       "0      stringthanks             0      1     True  2020-03-18  \n",
       "1  Mental_senstrias             9      1     True  2020-03-18  \n",
       "2         BigOof673             2      2     True  2020-03-18  \n",
       "3   Bobby_Crazykite             4      3     True  2020-03-18  \n",
       "4        JakeHassle             0      1     True  2020-03-18  "
      ]
     },
     "execution_count": 3,
     "metadata": {},
     "output_type": "execute_result"
    }
   ],
   "source": [
    "data.head()"
   ]
  },
  {
   "cell_type": "code",
   "execution_count": 4,
   "metadata": {},
   "outputs": [
    {
     "data": {
      "text/plain": [
       "(3862, 9)"
      ]
     },
     "execution_count": 4,
     "metadata": {},
     "output_type": "execute_result"
    }
   ],
   "source": [
    "data.shape"
   ]
  },
  {
   "cell_type": "markdown",
   "metadata": {},
   "source": [
    "### Data Dictionary \n",
    "\n",
    "|Feature|Type|Description|\n",
    "|:---|:---:|:---|\n",
    "|title|object|Submission post title.| \n",
    "|selftext|object|Main content/body of the submission post.|\n",
    "|subreddit|object|Subreddit page the post belonged to (ASD or OCD).| \n",
    "|created_utc|int|Created Universal Time (utc) when the submission was originally posted.|\n",
    "|author|object|Submission post author (more specificially their reddit name).|\n",
    "|num_comments|int|Number of comments for each submission post.|\n",
    "|score|int|Number of upvotes minus number of downvotes a submission post received.|\n",
    "|is_self|boolean|Wether or not a submission is a self post.|\n",
    "|timestamp|object|Date the submission was posted (derived from the created_utc feature).|"
   ]
  },
  {
   "cell_type": "markdown",
   "metadata": {},
   "source": [
    "## Data Cleaning"
   ]
  },
  {
   "cell_type": "code",
   "execution_count": 5,
   "metadata": {},
   "outputs": [],
   "source": [
    "# Since the timeframe column is derived from the created_utc column and gives us more useful\n",
    "# information, we can delete the created_utc variable \n",
    "data.drop(columns=['created_utc'], inplace=True)"
   ]
  },
  {
   "cell_type": "code",
   "execution_count": 6,
   "metadata": {},
   "outputs": [],
   "source": [
    "# Since our goal is to identify users with ASD, let's reformat the subreddit feature \n",
    "# with autism = 1 and OCD = 0 \n",
    "data['subreddit'] = data['subreddit'].map({'autism':1, \"OCD\":0})"
   ]
  },
  {
   "cell_type": "code",
   "execution_count": 7,
   "metadata": {
    "scrolled": true
   },
   "outputs": [
    {
     "data": {
      "text/plain": [
       "0    2209\n",
       "1    1653\n",
       "Name: subreddit, dtype: int64"
      ]
     },
     "execution_count": 7,
     "metadata": {},
     "output_type": "execute_result"
    }
   ],
   "source": [
    "data['subreddit'].value_counts()"
   ]
  },
  {
   "cell_type": "code",
   "execution_count": 8,
   "metadata": {
    "scrolled": true
   },
   "outputs": [
    {
     "data": {
      "text/plain": [
       "title             0\n",
       "selftext        177\n",
       "subreddit         0\n",
       "author            0\n",
       "num_comments      0\n",
       "score             0\n",
       "is_self           0\n",
       "timestamp         0\n",
       "dtype: int64"
      ]
     },
     "execution_count": 8,
     "metadata": {},
     "output_type": "execute_result"
    }
   ],
   "source": [
    "# Checking for nulls\n",
    "data.isnull().sum()"
   ]
  },
  {
   "cell_type": "markdown",
   "metadata": {},
   "source": [
    "We want to look at any type of text posted by users, whether it is title or main text. As a result, we will combine the title and selftext features into one text feature. This will also resolve the issue of selftext missing values. \n",
    "In order to do this we first need to make sure that we are not including reddit imputed text such as [removed] in there.  "
   ]
  },
  {
   "cell_type": "code",
   "execution_count": 9,
   "metadata": {
    "scrolled": true
   },
   "outputs": [
    {
     "data": {
      "text/plain": [
       "[removed]                                                                                                                                                                                                                                                                                                                                                                                                                                                                                                                     311\n",
       "[deleted]                                                                                                                                                                                                                                                                                                                                                                                                                                                                                                                       4\n",
       "I’ve recently started therapy and medications but seeing the success rates and the stories of people whom CBT and certain meds didn’t help for example is really elevating my anxiety and making me hopeless and making the ocd even worse.\\nSo is ocd always treatable in some way or another?and I don’t mean an all-fix-cure but to at least manage your fears and thoughts without affect on your life and feel ‘normal’ again, or are there cases where no meds or techniques work and the person is left to his own?      2\n",
       "Name: selftext, dtype: int64"
      ]
     },
     "execution_count": 9,
     "metadata": {},
     "output_type": "execute_result"
    }
   ],
   "source": [
    "# Looking for major reddit imputed values \n",
    "data['selftext'].value_counts().head(3)"
   ]
  },
  {
   "cell_type": "code",
   "execution_count": 10,
   "metadata": {},
   "outputs": [],
   "source": [
    "# changing [removed] and [deleted] into empty string. \n",
    "data['selftext'].replace('[removed]', \"\", inplace=True)\n",
    "data['selftext'].replace('[deleted]', \"\", inplace=True)"
   ]
  },
  {
   "cell_type": "code",
   "execution_count": 11,
   "metadata": {},
   "outputs": [],
   "source": [
    "# changing NaNs into empty strings \n",
    "data['selftext'].fillna(\"\", inplace=True)"
   ]
  },
  {
   "cell_type": "code",
   "execution_count": 12,
   "metadata": {
    "scrolled": false
   },
   "outputs": [
    {
     "data": {
      "text/plain": [
       "Question                                                                           8\n",
       "hi                                                                                 5\n",
       "I have an obsession with dying that has last for years and is driving me insane    3\n",
       "Name: title, dtype: int64"
      ]
     },
     "execution_count": 12,
     "metadata": {},
     "output_type": "execute_result"
    }
   ],
   "source": [
    "# Checking title feature for reddit imputed text\n",
    "data['title'].value_counts().head(3)"
   ]
  },
  {
   "cell_type": "markdown",
   "metadata": {},
   "source": [
    "There does not seem to be any reddit imputed text in the titles."
   ]
  },
  {
   "cell_type": "code",
   "execution_count": 13,
   "metadata": {},
   "outputs": [],
   "source": [
    "# Combining title and selftext into text \n",
    "data['text'] = data['title'] + \" \" + data['selftext']"
   ]
  },
  {
   "cell_type": "code",
   "execution_count": 14,
   "metadata": {
    "scrolled": false
   },
   "outputs": [
    {
     "data": {
      "text/html": [
       "<div>\n",
       "<style scoped>\n",
       "    .dataframe tbody tr th:only-of-type {\n",
       "        vertical-align: middle;\n",
       "    }\n",
       "\n",
       "    .dataframe tbody tr th {\n",
       "        vertical-align: top;\n",
       "    }\n",
       "\n",
       "    .dataframe thead th {\n",
       "        text-align: right;\n",
       "    }\n",
       "</style>\n",
       "<table border=\"1\" class=\"dataframe\">\n",
       "  <thead>\n",
       "    <tr style=\"text-align: right;\">\n",
       "      <th></th>\n",
       "      <th>title</th>\n",
       "      <th>selftext</th>\n",
       "      <th>subreddit</th>\n",
       "      <th>author</th>\n",
       "      <th>num_comments</th>\n",
       "      <th>score</th>\n",
       "      <th>is_self</th>\n",
       "      <th>timestamp</th>\n",
       "      <th>text</th>\n",
       "    </tr>\n",
       "  </thead>\n",
       "  <tbody>\n",
       "    <tr>\n",
       "      <th>0</th>\n",
       "      <td>Was convinced to try an outpatient treatment p...</td>\n",
       "      <td></td>\n",
       "      <td>0</td>\n",
       "      <td>stringthanks</td>\n",
       "      <td>0</td>\n",
       "      <td>1</td>\n",
       "      <td>True</td>\n",
       "      <td>2020-03-18</td>\n",
       "      <td>Was convinced to try an outpatient treatment p...</td>\n",
       "    </tr>\n",
       "    <tr>\n",
       "      <th>1</th>\n",
       "      <td>To anyone who has contamination ocd: what are ...</td>\n",
       "      <td></td>\n",
       "      <td>0</td>\n",
       "      <td>Mental_senstrias</td>\n",
       "      <td>9</td>\n",
       "      <td>1</td>\n",
       "      <td>True</td>\n",
       "      <td>2020-03-18</td>\n",
       "      <td>To anyone who has contamination ocd: what are ...</td>\n",
       "    </tr>\n",
       "    <tr>\n",
       "      <th>2</th>\n",
       "      <td>Sertraline HCL (Generic Zoloft) w/out Insurance?</td>\n",
       "      <td>Amid the coronavirus economic recession, there...</td>\n",
       "      <td>0</td>\n",
       "      <td>BigOof673</td>\n",
       "      <td>2</td>\n",
       "      <td>2</td>\n",
       "      <td>True</td>\n",
       "      <td>2020-03-18</td>\n",
       "      <td>Sertraline HCL (Generic Zoloft) w/out Insuranc...</td>\n",
       "    </tr>\n",
       "    <tr>\n",
       "      <th>3</th>\n",
       "      <td>Feeling like going mad</td>\n",
       "      <td>I suffer from severe OCD, related to magic thi...</td>\n",
       "      <td>0</td>\n",
       "      <td>Bobby_Crazykite</td>\n",
       "      <td>4</td>\n",
       "      <td>3</td>\n",
       "      <td>True</td>\n",
       "      <td>2020-03-18</td>\n",
       "      <td>Feeling like going mad I suffer from severe OC...</td>\n",
       "    </tr>\n",
       "    <tr>\n",
       "      <th>4</th>\n",
       "      <td>Worried about this sticky adhesive</td>\n",
       "      <td>So I noticed that the little circles on cabine...</td>\n",
       "      <td>0</td>\n",
       "      <td>JakeHassle</td>\n",
       "      <td>0</td>\n",
       "      <td>1</td>\n",
       "      <td>True</td>\n",
       "      <td>2020-03-18</td>\n",
       "      <td>Worried about this sticky adhesive So I notice...</td>\n",
       "    </tr>\n",
       "  </tbody>\n",
       "</table>\n",
       "</div>"
      ],
      "text/plain": [
       "                                               title  \\\n",
       "0  Was convinced to try an outpatient treatment p...   \n",
       "1  To anyone who has contamination ocd: what are ...   \n",
       "2   Sertraline HCL (Generic Zoloft) w/out Insurance?   \n",
       "3                             Feeling like going mad   \n",
       "4                 Worried about this sticky adhesive   \n",
       "\n",
       "                                            selftext  subreddit  \\\n",
       "0                                                             0   \n",
       "1                                                             0   \n",
       "2  Amid the coronavirus economic recession, there...          0   \n",
       "3  I suffer from severe OCD, related to magic thi...          0   \n",
       "4  So I noticed that the little circles on cabine...          0   \n",
       "\n",
       "             author  num_comments  score  is_self   timestamp  \\\n",
       "0      stringthanks             0      1     True  2020-03-18   \n",
       "1  Mental_senstrias             9      1     True  2020-03-18   \n",
       "2         BigOof673             2      2     True  2020-03-18   \n",
       "3   Bobby_Crazykite             4      3     True  2020-03-18   \n",
       "4        JakeHassle             0      1     True  2020-03-18   \n",
       "\n",
       "                                                text  \n",
       "0  Was convinced to try an outpatient treatment p...  \n",
       "1  To anyone who has contamination ocd: what are ...  \n",
       "2  Sertraline HCL (Generic Zoloft) w/out Insuranc...  \n",
       "3  Feeling like going mad I suffer from severe OC...  \n",
       "4  Worried about this sticky adhesive So I notice...  "
      ]
     },
     "execution_count": 14,
     "metadata": {},
     "output_type": "execute_result"
    }
   ],
   "source": [
    "data.head()"
   ]
  },
  {
   "cell_type": "code",
   "execution_count": 15,
   "metadata": {
    "scrolled": true
   },
   "outputs": [
    {
     "data": {
      "text/plain": [
       "title           0\n",
       "selftext        0\n",
       "subreddit       0\n",
       "author          0\n",
       "num_comments    0\n",
       "score           0\n",
       "is_self         0\n",
       "timestamp       0\n",
       "text            0\n",
       "dtype: int64"
      ]
     },
     "execution_count": 15,
     "metadata": {},
     "output_type": "execute_result"
    }
   ],
   "source": [
    "# Checking we no longer have any nulls \n",
    "data.isnull().sum()"
   ]
  },
  {
   "cell_type": "code",
   "execution_count": 16,
   "metadata": {
    "scrolled": true
   },
   "outputs": [
    {
     "data": {
      "text/plain": [
       "True    3862\n",
       "Name: is_self, dtype: int64"
      ]
     },
     "execution_count": 16,
     "metadata": {},
     "output_type": "execute_result"
    }
   ],
   "source": [
    "# Confirming that all our submissions are self posts\n",
    "data['is_self'].value_counts()"
   ]
  },
  {
   "cell_type": "markdown",
   "metadata": {},
   "source": [
    "Since all observations have the same value of \"True\", this feature does not bring much information for our model. We will therefore drop it. "
   ]
  },
  {
   "cell_type": "code",
   "execution_count": 17,
   "metadata": {},
   "outputs": [],
   "source": [
    "data.drop(columns='is_self', inplace=True)"
   ]
  },
  {
   "cell_type": "code",
   "execution_count": 18,
   "metadata": {
    "scrolled": true
   },
   "outputs": [
    {
     "data": {
      "text/html": [
       "<div>\n",
       "<style scoped>\n",
       "    .dataframe tbody tr th:only-of-type {\n",
       "        vertical-align: middle;\n",
       "    }\n",
       "\n",
       "    .dataframe tbody tr th {\n",
       "        vertical-align: top;\n",
       "    }\n",
       "\n",
       "    .dataframe thead th {\n",
       "        text-align: right;\n",
       "    }\n",
       "</style>\n",
       "<table border=\"1\" class=\"dataframe\">\n",
       "  <thead>\n",
       "    <tr style=\"text-align: right;\">\n",
       "      <th></th>\n",
       "      <th>title</th>\n",
       "      <th>selftext</th>\n",
       "      <th>subreddit</th>\n",
       "      <th>author</th>\n",
       "      <th>num_comments</th>\n",
       "      <th>score</th>\n",
       "      <th>timestamp</th>\n",
       "      <th>text</th>\n",
       "    </tr>\n",
       "  </thead>\n",
       "  <tbody>\n",
       "    <tr>\n",
       "      <th>0</th>\n",
       "      <td>Was convinced to try an outpatient treatment p...</td>\n",
       "      <td></td>\n",
       "      <td>0</td>\n",
       "      <td>stringthanks</td>\n",
       "      <td>0</td>\n",
       "      <td>1</td>\n",
       "      <td>2020-03-18</td>\n",
       "      <td>Was convinced to try an outpatient treatment p...</td>\n",
       "    </tr>\n",
       "    <tr>\n",
       "      <th>1</th>\n",
       "      <td>To anyone who has contamination ocd: what are ...</td>\n",
       "      <td></td>\n",
       "      <td>0</td>\n",
       "      <td>Mental_senstrias</td>\n",
       "      <td>9</td>\n",
       "      <td>1</td>\n",
       "      <td>2020-03-18</td>\n",
       "      <td>To anyone who has contamination ocd: what are ...</td>\n",
       "    </tr>\n",
       "    <tr>\n",
       "      <th>2</th>\n",
       "      <td>Sertraline HCL (Generic Zoloft) w/out Insurance?</td>\n",
       "      <td>Amid the coronavirus economic recession, there...</td>\n",
       "      <td>0</td>\n",
       "      <td>BigOof673</td>\n",
       "      <td>2</td>\n",
       "      <td>2</td>\n",
       "      <td>2020-03-18</td>\n",
       "      <td>Sertraline HCL (Generic Zoloft) w/out Insuranc...</td>\n",
       "    </tr>\n",
       "    <tr>\n",
       "      <th>3</th>\n",
       "      <td>Feeling like going mad</td>\n",
       "      <td>I suffer from severe OCD, related to magic thi...</td>\n",
       "      <td>0</td>\n",
       "      <td>Bobby_Crazykite</td>\n",
       "      <td>4</td>\n",
       "      <td>3</td>\n",
       "      <td>2020-03-18</td>\n",
       "      <td>Feeling like going mad I suffer from severe OC...</td>\n",
       "    </tr>\n",
       "    <tr>\n",
       "      <th>4</th>\n",
       "      <td>Worried about this sticky adhesive</td>\n",
       "      <td>So I noticed that the little circles on cabine...</td>\n",
       "      <td>0</td>\n",
       "      <td>JakeHassle</td>\n",
       "      <td>0</td>\n",
       "      <td>1</td>\n",
       "      <td>2020-03-18</td>\n",
       "      <td>Worried about this sticky adhesive So I notice...</td>\n",
       "    </tr>\n",
       "  </tbody>\n",
       "</table>\n",
       "</div>"
      ],
      "text/plain": [
       "                                               title  \\\n",
       "0  Was convinced to try an outpatient treatment p...   \n",
       "1  To anyone who has contamination ocd: what are ...   \n",
       "2   Sertraline HCL (Generic Zoloft) w/out Insurance?   \n",
       "3                             Feeling like going mad   \n",
       "4                 Worried about this sticky adhesive   \n",
       "\n",
       "                                            selftext  subreddit  \\\n",
       "0                                                             0   \n",
       "1                                                             0   \n",
       "2  Amid the coronavirus economic recession, there...          0   \n",
       "3  I suffer from severe OCD, related to magic thi...          0   \n",
       "4  So I noticed that the little circles on cabine...          0   \n",
       "\n",
       "             author  num_comments  score   timestamp  \\\n",
       "0      stringthanks             0      1  2020-03-18   \n",
       "1  Mental_senstrias             9      1  2020-03-18   \n",
       "2         BigOof673             2      2  2020-03-18   \n",
       "3   Bobby_Crazykite             4      3  2020-03-18   \n",
       "4        JakeHassle             0      1  2020-03-18   \n",
       "\n",
       "                                                text  \n",
       "0  Was convinced to try an outpatient treatment p...  \n",
       "1  To anyone who has contamination ocd: what are ...  \n",
       "2  Sertraline HCL (Generic Zoloft) w/out Insuranc...  \n",
       "3  Feeling like going mad I suffer from severe OC...  \n",
       "4  Worried about this sticky adhesive So I notice...  "
      ]
     },
     "execution_count": 18,
     "metadata": {},
     "output_type": "execute_result"
    }
   ],
   "source": [
    "data.head()"
   ]
  },
  {
   "cell_type": "code",
   "execution_count": 19,
   "metadata": {},
   "outputs": [],
   "source": [
    "# Creating a function for text cleaning\n",
    "def cleaning(text):\n",
    "    # remove html\n",
    "    text = BeautifulSoup(text).get_text()\n",
    "\n",
    "    exclude = set(string.punctuation)\n",
    "    # remove new line and digits with regular expression\n",
    "    text = re.sub(r'\\n', '', text)\n",
    "    text = re.sub(r'\\d', '', text)\n",
    "    \n",
    "    # remove patterns matching url format\n",
    "    url_pattern = r'((http|ftp|https):\\/\\/)?[\\w\\-_]+(\\.[\\w\\-_]+)+([\\w\\-\\.,@?^=%&amp;:/~\\+#]*[\\w\\-\\@?^=%&amp;/~\\+#])?'\n",
    "    text = re.sub(url_pattern, ' ', text)\n",
    "    \n",
    "    # remove punctuations\n",
    "    text = ''.join(character for character in text if character not in exclude)\n",
    "    # standardize white space\n",
    "    text = re.sub(r'\\s+', ' ', text)\n",
    "    # drop capitalization\n",
    "    text = text.lower()\n",
    "    #remove white space\n",
    "    text = text.strip()\n",
    "    \n",
    "    #lemmatizing \n",
    "    p_stemmer = PorterStemmer()   \n",
    "    tokenizer = RegexpTokenizer(r'\\w+')\n",
    "    text = [p_stemmer.stem(i) for i in tokenizer.tokenize(text)]\n",
    "    \n",
    "    return (\" \".join(text))\n",
    "# Function adapted from https://codereview.stackexchange.com/questions/186614/text-cleaning-script-producing-lowercase-words-with-minimal-punctuation"
   ]
  },
  {
   "cell_type": "code",
   "execution_count": 20,
   "metadata": {},
   "outputs": [],
   "source": [
    "# Cleaning our text data \n",
    "cleaned_text = [cleaning(text) for text in data['text']]"
   ]
  },
  {
   "cell_type": "code",
   "execution_count": 21,
   "metadata": {},
   "outputs": [],
   "source": [
    "# Adding our cleaned text as a new column to our dataframe \n",
    "data['cleaned_text'] = cleaned_text"
   ]
  },
  {
   "cell_type": "code",
   "execution_count": 22,
   "metadata": {},
   "outputs": [
    {
     "data": {
      "text/plain": [
       "'Worried about this sticky adhesive So I noticed that the little circles on cabinets that soften the impact when you close it look like this now on my cabinets:\\n\\n\\nhttps://imgur.com/a/bpPzhWL\\n\\nThey look like they busted and the bottom pic shows one close to the stove so it’s greasy. I touched the first one and it felt like some really sticky adhesive that would get every where and it took forever to wash off my hands. I pointed it out to my parents and then they decided too touch it as well, but they didn’t wash it off their hands. Now for some reason I’m getting a lot of stress about how everything they’re touching will get the adhesive on it. It’s really ruining my day and I don’t know why it’s so much.'"
      ]
     },
     "execution_count": 22,
     "metadata": {},
     "output_type": "execute_result"
    }
   ],
   "source": [
    "# comparing original text and cleaned text to make sure it has been appropriately cleaned\n",
    "data['text'][4]"
   ]
  },
  {
   "cell_type": "code",
   "execution_count": 23,
   "metadata": {
    "scrolled": true
   },
   "outputs": [
    {
     "data": {
      "text/plain": [
       "'worri about thi sticki adhes so i notic that the littl circl on cabinet that soften the impact when you close it look like thi now on my cabinet look like they bust and the bottom pic show one close to the stove so it s greasi i touch the first one and it felt like some realli sticki adhes that would get everi where and it took forev to wash off my hand i point it out to my parent and then they decid too touch it as well but they didn t wash it off their hand now for some reason i m get a lot of stress about how everyth they re touch will get the adhes on it it s realli ruin my day and i don t know whi it s so much'"
      ]
     },
     "execution_count": 23,
     "metadata": {},
     "output_type": "execute_result"
    }
   ],
   "source": [
    "cleaned_text[4]"
   ]
  },
  {
   "cell_type": "markdown",
   "metadata": {},
   "source": [
    "Our final cleaned text seems appropriately cleaned."
   ]
  },
  {
   "cell_type": "code",
   "execution_count": 24,
   "metadata": {},
   "outputs": [
    {
     "data": {
      "text/html": [
       "<div>\n",
       "<style scoped>\n",
       "    .dataframe tbody tr th:only-of-type {\n",
       "        vertical-align: middle;\n",
       "    }\n",
       "\n",
       "    .dataframe tbody tr th {\n",
       "        vertical-align: top;\n",
       "    }\n",
       "\n",
       "    .dataframe thead th {\n",
       "        text-align: right;\n",
       "    }\n",
       "</style>\n",
       "<table border=\"1\" class=\"dataframe\">\n",
       "  <thead>\n",
       "    <tr style=\"text-align: right;\">\n",
       "      <th></th>\n",
       "      <th>title</th>\n",
       "      <th>selftext</th>\n",
       "      <th>subreddit</th>\n",
       "      <th>author</th>\n",
       "      <th>num_comments</th>\n",
       "      <th>score</th>\n",
       "      <th>timestamp</th>\n",
       "      <th>text</th>\n",
       "      <th>cleaned_text</th>\n",
       "    </tr>\n",
       "  </thead>\n",
       "  <tbody>\n",
       "    <tr>\n",
       "      <th>0</th>\n",
       "      <td>Was convinced to try an outpatient treatment p...</td>\n",
       "      <td></td>\n",
       "      <td>0</td>\n",
       "      <td>stringthanks</td>\n",
       "      <td>0</td>\n",
       "      <td>1</td>\n",
       "      <td>2020-03-18</td>\n",
       "      <td>Was convinced to try an outpatient treatment p...</td>\n",
       "      <td>wa convinc to tri an outpati treatment program...</td>\n",
       "    </tr>\n",
       "    <tr>\n",
       "      <th>1</th>\n",
       "      <td>To anyone who has contamination ocd: what are ...</td>\n",
       "      <td></td>\n",
       "      <td>0</td>\n",
       "      <td>Mental_senstrias</td>\n",
       "      <td>9</td>\n",
       "      <td>1</td>\n",
       "      <td>2020-03-18</td>\n",
       "      <td>To anyone who has contamination ocd: what are ...</td>\n",
       "      <td>to anyon who ha contamin ocd what are your pho...</td>\n",
       "    </tr>\n",
       "    <tr>\n",
       "      <th>2</th>\n",
       "      <td>Sertraline HCL (Generic Zoloft) w/out Insurance?</td>\n",
       "      <td>Amid the coronavirus economic recession, there...</td>\n",
       "      <td>0</td>\n",
       "      <td>BigOof673</td>\n",
       "      <td>2</td>\n",
       "      <td>2</td>\n",
       "      <td>2020-03-18</td>\n",
       "      <td>Sertraline HCL (Generic Zoloft) w/out Insuranc...</td>\n",
       "      <td>sertralin hcl gener zoloft wout insur amid the...</td>\n",
       "    </tr>\n",
       "    <tr>\n",
       "      <th>3</th>\n",
       "      <td>Feeling like going mad</td>\n",
       "      <td>I suffer from severe OCD, related to magic thi...</td>\n",
       "      <td>0</td>\n",
       "      <td>Bobby_Crazykite</td>\n",
       "      <td>4</td>\n",
       "      <td>3</td>\n",
       "      <td>2020-03-18</td>\n",
       "      <td>Feeling like going mad I suffer from severe OC...</td>\n",
       "      <td>feel like go mad i suffer from sever ocd relat...</td>\n",
       "    </tr>\n",
       "    <tr>\n",
       "      <th>4</th>\n",
       "      <td>Worried about this sticky adhesive</td>\n",
       "      <td>So I noticed that the little circles on cabine...</td>\n",
       "      <td>0</td>\n",
       "      <td>JakeHassle</td>\n",
       "      <td>0</td>\n",
       "      <td>1</td>\n",
       "      <td>2020-03-18</td>\n",
       "      <td>Worried about this sticky adhesive So I notice...</td>\n",
       "      <td>worri about thi sticki adhes so i notic that t...</td>\n",
       "    </tr>\n",
       "  </tbody>\n",
       "</table>\n",
       "</div>"
      ],
      "text/plain": [
       "                                               title  \\\n",
       "0  Was convinced to try an outpatient treatment p...   \n",
       "1  To anyone who has contamination ocd: what are ...   \n",
       "2   Sertraline HCL (Generic Zoloft) w/out Insurance?   \n",
       "3                             Feeling like going mad   \n",
       "4                 Worried about this sticky adhesive   \n",
       "\n",
       "                                            selftext  subreddit  \\\n",
       "0                                                             0   \n",
       "1                                                             0   \n",
       "2  Amid the coronavirus economic recession, there...          0   \n",
       "3  I suffer from severe OCD, related to magic thi...          0   \n",
       "4  So I noticed that the little circles on cabine...          0   \n",
       "\n",
       "             author  num_comments  score   timestamp  \\\n",
       "0      stringthanks             0      1  2020-03-18   \n",
       "1  Mental_senstrias             9      1  2020-03-18   \n",
       "2         BigOof673             2      2  2020-03-18   \n",
       "3   Bobby_Crazykite             4      3  2020-03-18   \n",
       "4        JakeHassle             0      1  2020-03-18   \n",
       "\n",
       "                                                text  \\\n",
       "0  Was convinced to try an outpatient treatment p...   \n",
       "1  To anyone who has contamination ocd: what are ...   \n",
       "2  Sertraline HCL (Generic Zoloft) w/out Insuranc...   \n",
       "3  Feeling like going mad I suffer from severe OC...   \n",
       "4  Worried about this sticky adhesive So I notice...   \n",
       "\n",
       "                                        cleaned_text  \n",
       "0  wa convinc to tri an outpati treatment program...  \n",
       "1  to anyon who ha contamin ocd what are your pho...  \n",
       "2  sertralin hcl gener zoloft wout insur amid the...  \n",
       "3  feel like go mad i suffer from sever ocd relat...  \n",
       "4  worri about thi sticki adhes so i notic that t...  "
      ]
     },
     "execution_count": 24,
     "metadata": {},
     "output_type": "execute_result"
    }
   ],
   "source": [
    "data.head()"
   ]
  },
  {
   "cell_type": "code",
   "execution_count": 25,
   "metadata": {
    "scrolled": false
   },
   "outputs": [
    {
     "data": {
      "text/plain": [
       "title           object\n",
       "selftext        object\n",
       "subreddit        int64\n",
       "author          object\n",
       "num_comments     int64\n",
       "score            int64\n",
       "timestamp       object\n",
       "text            object\n",
       "cleaned_text    object\n",
       "dtype: object"
      ]
     },
     "execution_count": 25,
     "metadata": {},
     "output_type": "execute_result"
    }
   ],
   "source": [
    "data.dtypes"
   ]
  },
  {
   "cell_type": "markdown",
   "metadata": {},
   "source": [
    "## EDA"
   ]
  },
  {
   "cell_type": "code",
   "execution_count": 26,
   "metadata": {
    "scrolled": true
   },
   "outputs": [
    {
     "data": {
      "text/html": [
       "<div>\n",
       "<style scoped>\n",
       "    .dataframe tbody tr th:only-of-type {\n",
       "        vertical-align: middle;\n",
       "    }\n",
       "\n",
       "    .dataframe tbody tr th {\n",
       "        vertical-align: top;\n",
       "    }\n",
       "\n",
       "    .dataframe thead th {\n",
       "        text-align: right;\n",
       "    }\n",
       "</style>\n",
       "<table border=\"1\" class=\"dataframe\">\n",
       "  <thead>\n",
       "    <tr style=\"text-align: right;\">\n",
       "      <th></th>\n",
       "      <th>subreddit</th>\n",
       "      <th>num_comments</th>\n",
       "      <th>score</th>\n",
       "    </tr>\n",
       "  </thead>\n",
       "  <tbody>\n",
       "    <tr>\n",
       "      <th>count</th>\n",
       "      <td>3862.000000</td>\n",
       "      <td>3862.000000</td>\n",
       "      <td>3862.000000</td>\n",
       "    </tr>\n",
       "    <tr>\n",
       "      <th>mean</th>\n",
       "      <td>0.428017</td>\n",
       "      <td>5.658985</td>\n",
       "      <td>1.017866</td>\n",
       "    </tr>\n",
       "    <tr>\n",
       "      <th>std</th>\n",
       "      <td>0.494855</td>\n",
       "      <td>8.957465</td>\n",
       "      <td>0.212146</td>\n",
       "    </tr>\n",
       "    <tr>\n",
       "      <th>min</th>\n",
       "      <td>0.000000</td>\n",
       "      <td>0.000000</td>\n",
       "      <td>0.000000</td>\n",
       "    </tr>\n",
       "    <tr>\n",
       "      <th>25%</th>\n",
       "      <td>0.000000</td>\n",
       "      <td>1.000000</td>\n",
       "      <td>1.000000</td>\n",
       "    </tr>\n",
       "    <tr>\n",
       "      <th>50%</th>\n",
       "      <td>0.000000</td>\n",
       "      <td>3.000000</td>\n",
       "      <td>1.000000</td>\n",
       "    </tr>\n",
       "    <tr>\n",
       "      <th>75%</th>\n",
       "      <td>1.000000</td>\n",
       "      <td>7.000000</td>\n",
       "      <td>1.000000</td>\n",
       "    </tr>\n",
       "    <tr>\n",
       "      <th>max</th>\n",
       "      <td>1.000000</td>\n",
       "      <td>182.000000</td>\n",
       "      <td>8.000000</td>\n",
       "    </tr>\n",
       "  </tbody>\n",
       "</table>\n",
       "</div>"
      ],
      "text/plain": [
       "         subreddit  num_comments        score\n",
       "count  3862.000000   3862.000000  3862.000000\n",
       "mean      0.428017      5.658985     1.017866\n",
       "std       0.494855      8.957465     0.212146\n",
       "min       0.000000      0.000000     0.000000\n",
       "25%       0.000000      1.000000     1.000000\n",
       "50%       0.000000      3.000000     1.000000\n",
       "75%       1.000000      7.000000     1.000000\n",
       "max       1.000000    182.000000     8.000000"
      ]
     },
     "execution_count": 26,
     "metadata": {},
     "output_type": "execute_result"
    }
   ],
   "source": [
    "data.describe()"
   ]
  },
  {
   "cell_type": "markdown",
   "metadata": {},
   "source": [
    "### Comments Analysis"
   ]
  },
  {
   "cell_type": "code",
   "execution_count": 27,
   "metadata": {
    "scrolled": true
   },
   "outputs": [
    {
     "data": {
      "text/plain": [
       "subreddit\n",
       "0    3.973744\n",
       "1    7.911071\n",
       "Name: num_comments, dtype: float64"
      ]
     },
     "execution_count": 27,
     "metadata": {},
     "output_type": "execute_result"
    }
   ],
   "source": [
    "# Looking at the average number of comments for each subreddits \n",
    "data.groupby('subreddit')['num_comments'].mean()"
   ]
  },
  {
   "cell_type": "code",
   "execution_count": 28,
   "metadata": {
    "scrolled": true
   },
   "outputs": [
    {
     "data": {
      "image/png": "[encoded data removed]",
      "text/plain": [
       "<Figure size 576x360 with 1 Axes>"
      ]
     },
     "metadata": {
      "needs_background": "light"
     },
     "output_type": "display_data"
    }
   ],
   "source": [
    "# Visualizing the distribution of number of comments for each subreddits \n",
    "plt.figure(figsize=(8,5)) \n",
    "plt.title(\"Distribution of the Number of Comments for Each Subreddit Group\", fontsize = 20, pad = 10)\n",
    "sns.boxplot(x = data['subreddit'], y = data['num_comments'])\n",
    "plt.xlabel(\"Subreddit\", fontsize = 12, labelpad = 5)\n",
    "plt.ylabel(\"Distribution of Number of Comments\", fontsize = 12, labelpad = 5)\n",
    "plt.xticks(ticks=[0, 1], labels=['OCD', 'ASD']);"
   ]
  },
  {
   "cell_type": "markdown",
   "metadata": {},
   "source": [
    "**Interpretation:** There seems to be a high number of outliers in the number of comments for both the OCD and ASD groups.   \n",
    "However, there is no evidence to prove that those values are not valid data. As a result, we will no remove them."
   ]
  },
  {
   "cell_type": "code",
   "execution_count": 29,
   "metadata": {
    "scrolled": false
   },
   "outputs": [
    {
     "data": {
      "image/png": "[encoded data removed]",
      "text/plain": [
       "<Figure size 576x360 with 1 Axes>"
      ]
     },
     "metadata": {
      "needs_background": "light"
     },
     "output_type": "display_data"
    }
   ],
   "source": [
    "# Visualizing the average number of comments for each subreddits \n",
    "plt.figure(figsize=(8,5)) \n",
    "plt.title(\"Average Number of Comments for Each Subreddit Group\", fontsize = 20, pad = 10)\n",
    "sns.barplot(x=data['subreddit'], y=data['num_comments'])\n",
    "plt.xlabel(\"Subreddit\", fontsize = 12, labelpad = 5)\n",
    "plt.ylabel(\"Average Number of Comments\", fontsize = 12, labelpad = 5)\n",
    "plt.xticks(ticks=[0, 1], labels=['OCD', 'ASD']);"
   ]
  },
  {
   "cell_type": "markdown",
   "metadata": {},
   "source": [
    "**Interpretation:** On average, there is a higher number of comments posted in response to submissions on the autism subreddit compared to the OCD subreddit. "
   ]
  },
  {
   "cell_type": "markdown",
   "metadata": {},
   "source": [
    "### Score Analysis"
   ]
  },
  {
   "cell_type": "code",
   "execution_count": 30,
   "metadata": {
    "scrolled": true
   },
   "outputs": [
    {
     "data": {
      "text/plain": [
       "subreddit\n",
       "0    1.016297\n",
       "1    1.019964\n",
       "Name: score, dtype: float64"
      ]
     },
     "execution_count": 30,
     "metadata": {},
     "output_type": "execute_result"
    }
   ],
   "source": [
    "data.groupby('subreddit')['score'].mean()"
   ]
  },
  {
   "cell_type": "code",
   "execution_count": 93,
   "metadata": {},
   "outputs": [
    {
     "data": {
      "image/png": "[encoded data removed]",
      "text/plain": [
       "<Figure size 576x360 with 1 Axes>"
      ]
     },
     "metadata": {
      "needs_background": "light"
     },
     "output_type": "display_data"
    }
   ],
   "source": [
    "# Visualizing the average score for each subreddits \n",
    "plt.figure(figsize=(8,5)) \n",
    "plt.title(\"Average Score for Each Subreddit Group\", fontsize = 20, pad = 10)\n",
    "sns.barplot(x=data['subreddit'], y=data['score'])\n",
    "plt.xlabel(\"Subreddit\", fontsize = 12, labelpad = 5)\n",
    "plt.ylabel(\"Average Score\", fontsize = 12, labelpad = 5)\n",
    "plt.xticks(ticks=[0, 1], labels=['OCD', 'ASD']);"
   ]
  },
  {
   "cell_type": "markdown",
   "metadata": {},
   "source": [
    "**Interpretation:** The two groups have very similar mean scores "
   ]
  },
  {
   "cell_type": "markdown",
   "metadata": {},
   "source": [
    "### Timestamps Analysis"
   ]
  },
  {
   "cell_type": "code",
   "execution_count": 31,
   "metadata": {
    "scrolled": true
   },
   "outputs": [
    {
     "data": {
      "text/html": [
       "<div>\n",
       "<style scoped>\n",
       "    .dataframe tbody tr th:only-of-type {\n",
       "        vertical-align: middle;\n",
       "    }\n",
       "\n",
       "    .dataframe tbody tr th {\n",
       "        vertical-align: top;\n",
       "    }\n",
       "\n",
       "    .dataframe thead th {\n",
       "        text-align: right;\n",
       "    }\n",
       "</style>\n",
       "<table border=\"1\" class=\"dataframe\">\n",
       "  <thead>\n",
       "    <tr style=\"text-align: right;\">\n",
       "      <th></th>\n",
       "      <th>count</th>\n",
       "      <th>unique</th>\n",
       "      <th>top</th>\n",
       "      <th>freq</th>\n",
       "    </tr>\n",
       "    <tr>\n",
       "      <th>subreddit</th>\n",
       "      <th></th>\n",
       "      <th></th>\n",
       "      <th></th>\n",
       "      <th></th>\n",
       "    </tr>\n",
       "  </thead>\n",
       "  <tbody>\n",
       "    <tr>\n",
       "      <th>0</th>\n",
       "      <td>2209</td>\n",
       "      <td>34</td>\n",
       "      <td>2020-02-20</td>\n",
       "      <td>98</td>\n",
       "    </tr>\n",
       "    <tr>\n",
       "      <th>1</th>\n",
       "      <td>1653</td>\n",
       "      <td>50</td>\n",
       "      <td>2020-02-18</td>\n",
       "      <td>62</td>\n",
       "    </tr>\n",
       "  </tbody>\n",
       "</table>\n",
       "</div>"
      ],
      "text/plain": [
       "          count unique         top freq\n",
       "subreddit                              \n",
       "0          2209     34  2020-02-20   98\n",
       "1          1653     50  2020-02-18   62"
      ]
     },
     "execution_count": 31,
     "metadata": {},
     "output_type": "execute_result"
    }
   ],
   "source": [
    "data.groupby('subreddit')['timestamp'].describe()"
   ]
  },
  {
   "cell_type": "markdown",
   "metadata": {},
   "source": [
    "**Interpretation:**  \n",
    "Highest number of submissions on the autism subreddit posted on Tuesday Feb. 18th 2020.  \n",
    "Highest number of submissions on the OCD subreddit posted on Thursday Feb. 20th 2020. "
   ]
  },
  {
   "cell_type": "markdown",
   "metadata": {},
   "source": [
    "### Most Frequent Words Analysis"
   ]
  },
  {
   "cell_type": "code",
   "execution_count": 32,
   "metadata": {},
   "outputs": [
    {
     "data": {
      "image/png": "[encoded data removed]",
      "text/plain": [
       "<Figure size 2160x2160 with 2 Axes>"
      ]
     },
     "metadata": {
      "needs_background": "light"
     },
     "output_type": "display_data"
    }
   ],
   "source": [
    "# Visualizing the 20 most frequent words in the ASD subreddit with and without stopwords\n",
    "\n",
    "#Creating with matrix with the 20 most common ASD words including stopwords\n",
    "cvec = CountVectorizer(max_features = 20)\n",
    "test_text = cvec.fit_transform(data[data['subreddit']==1]['cleaned_text'])\n",
    "test_df_asd = pd.DataFrame(test_text.toarray(), columns=cvec.get_feature_names())\n",
    "\n",
    "#Creating with matrix with the 20 most common ASD words excluding stopwords\n",
    "cvec = CountVectorizer(max_features = 20, stop_words='english')\n",
    "test_text = cvec.fit_transform(data[data['subreddit']==1]['cleaned_text'])\n",
    "test_df_asd_no_stop = pd.DataFrame(test_text.toarray(), columns=cvec.get_feature_names())\n",
    "\n",
    "#Visualizing the 20 most common ASD words including stopwords \n",
    "plt.figure(figsize=(30,30))\n",
    "plt.subplot(2,2,1)\n",
    "test_df_asd.sum().sort_values(ascending=False).plot(kind='barh')\n",
    "plt.title('Top 20 Words in the ASD Subreddit (including stopwords)', size=28, pad=15)\n",
    "plt.xlabel('Word Count', size=20)\n",
    "plt.tick_params(labelsize = 18)\n",
    "plt.ylabel('Word', size=20, labelpad=10)\n",
    "plt.yticks(np.arange(20), \n",
    "           ['to', 'and', 'the', 'my', 'it', 'of', 'that', 'in', 'is', 'have', 'with', 'me', \n",
    "           'for', 'but', 'be', 'this', 'was', 'on', 'you', 'like']);\n",
    "\n",
    "#Visualizing the 20 most common ASD words excluding stopwords \n",
    "plt.subplot(2,2,2)\n",
    "test_df_asd_no_stop.sum().sort_values(ascending=False).plot(kind='barh')\n",
    "plt.title('Top 20 Words in the ASD Subreddit (excluding stopwords)', size=28, pad=15)\n",
    "plt.xlabel('Word Count', size=20)\n",
    "plt.tick_params(labelsize = 18)\n",
    "plt.ylabel('Word', size=20, labelpad=10)\n",
    "plt.yticks(np.arange(20), \n",
    "           ['this', 'was', 'like', 'just', 'people', 'autism', \"i'm\", 'feel', 'know', 'want',\n",
    "           'because', 'autistic', 'thing','time', 'really', 'make', \"don't\", 'has', 'think', 'help']);\n",
    "\n",
    "# Code for this visual adapted from code by Matthew Malone "
   ]
  },
  {
   "cell_type": "markdown",
   "metadata": {},
   "source": [
    "**Interpretation:** A majority of the 20 most frequent words in the ASD reddit are common stopwords. As a result, it may be a good idea to remove stopwords in our model. When we remove those, we are seeing a lot more words related to autism (such as autistic and autism) appear as \"top words\""
   ]
  },
  {
   "cell_type": "code",
   "execution_count": 33,
   "metadata": {},
   "outputs": [
    {
     "data": {
      "image/png": "[encoded data removed]",
      "text/plain": [
       "<Figure size 2160x2160 with 2 Axes>"
      ]
     },
     "metadata": {
      "needs_background": "light"
     },
     "output_type": "display_data"
    }
   ],
   "source": [
    "# Visualizing the 20 most frequent words in the OCD subreddit with and without stopwords\n",
    "\n",
    "#Creating with matrix with the 20 most common OCD words including stopwords\n",
    "cvec = CountVectorizer(max_features = 20)\n",
    "test_text = cvec.fit_transform(data[data['subreddit']==0]['cleaned_text'])\n",
    "test_df_ocd = pd.DataFrame(test_text.toarray(), columns=cvec.get_feature_names())\n",
    "\n",
    "#Creating with matrix with the 20 most common OCD words excluding stopwords\n",
    "cvec = CountVectorizer(max_features = 20, stop_words='english')\n",
    "test_text = cvec.fit_transform(data[data['subreddit']==0]['cleaned_text'])\n",
    "test_df_ocd_no_stop = pd.DataFrame(test_text.toarray(), columns=cvec.get_feature_names())\n",
    "\n",
    "#Visualizing the 20 most common OCD words including stopwords \n",
    "plt.figure(figsize=(30,30))\n",
    "plt.subplot(2,2,1)\n",
    "test_df_ocd.sum().sort_values(ascending=False).plot(kind='barh');\n",
    "plt.title('Top 20 Words in the OCD Subreddit (including stopwords)', size=28, pad=15)\n",
    "plt.xlabel('Word Count', size=20)\n",
    "plt.tick_params(labelsize = 18)\n",
    "plt.ylabel('Word', size=20, labelpad=10)\n",
    "plt.yticks(np.arange(20), \n",
    "           ['and', 'to', 'the', 'my', 'it', 'of', 'that', 'have', 'me', 'is', 'this', 'in', \n",
    "           'but', 'with', 'ocd', 'for', 'like', 'was', 'be', 'or']);\n",
    "\n",
    "\n",
    "#Visualizing the 20 most common OCD words excluding stopwords \n",
    "plt.subplot(2,2,2)\n",
    "test_df_ocd_no_stop.sum().sort_values(ascending=False).plot(kind='barh')\n",
    "plt.title('Top 20 Words in the OCD Subreddit (excluding stopwords)', size=28, pad=15)\n",
    "plt.xlabel('Word Count', size=20)\n",
    "plt.tick_params(labelsize = 18)\n",
    "plt.ylabel('Word', size=20, labelpad=10)\n",
    "plt.yticks(np.arange(20), \n",
    "           ['this', 'ocd', 'like', 'was', 'feel', 'just', 'thought', \"i'm\", 'know', 'because', \n",
    "           'think', 'thing', 'time', 'want', 'really', 'make', \"don't\", 'has', 'something', 'try']);\n",
    "\n",
    "# Original code for this visual brought to you by Matthew Malone "
   ]
  },
  {
   "cell_type": "markdown",
   "metadata": {},
   "source": [
    "**Interpretation:** A majority of the 20 most frequent words in the ASD reddit are common english stopwords. As a result, it may be a good idea to remove stopwords in our model. Indeed, when removing those stopwords more disease specific words (such as thought) emerge as \"top words\"."
   ]
  },
  {
   "cell_type": "code",
   "execution_count": 34,
   "metadata": {},
   "outputs": [],
   "source": [
    "# Creating lists for 20 most common OCD and ASD words \n",
    "top_ocd = list(test_df_ocd_no_stop.columns)\n",
    "top_asd = list(test_df_asd_no_stop.columns)\n",
    "\n",
    "# Creating a list of words that are part on the 20 most common words in both subreddits \n",
    "all_words = set(top_ocd + top_asd)\n",
    "top_ocd_and_asd = [w for w in all_words if (w in top_ocd) and (w in top_asd)]"
   ]
  },
  {
   "cell_type": "code",
   "execution_count": 35,
   "metadata": {},
   "outputs": [],
   "source": [
    "# Creating a function labeling a word as either part of the top ASD words, top OCD words, or both\n",
    "def subreddit(row):\n",
    "    if row in top_ocd_and_asd: \n",
    "        subreddit = 'both'\n",
    "    elif row in top_asd:\n",
    "        subreddit = 'ASD'\n",
    "    else: \n",
    "        subreddit = 'OCD'\n",
    "    return subreddit "
   ]
  },
  {
   "cell_type": "code",
   "execution_count": 36,
   "metadata": {},
   "outputs": [],
   "source": [
    "# Creating a dataframe of the 20 most common words in our dataset (not including english stopwords)\n",
    "cvec = CountVectorizer(max_features = 20, stop_words='english')\n",
    "test_all_text = cvec.fit_transform(data['cleaned_text'])\n",
    "test_all_text_df = pd.DataFrame(test_all_text.toarray(), columns=cvec.get_feature_names())\n",
    "\n",
    "new_df = test_all_text_df.T\n",
    "new_df['total'] = list(test_all_text_df.sum())\n",
    "\n",
    "new_df_2 = new_df[['total']]\n",
    "new_df_2 = new_df_2.sort_values(by='total')\n",
    "new_df_2.loc[new_df_2.index, 'subreddit'] = [subreddit(word) for word in new_df_2.index]\n",
    "# code adapted from https://stackoverflow.com/questions/21702342/creating-a-new-column-based-on-if-elif-else-condition"
   ]
  },
  {
   "cell_type": "code",
   "execution_count": 37,
   "metadata": {},
   "outputs": [
    {
     "data": {
      "text/html": [
       "<div>\n",
       "<style scoped>\n",
       "    .dataframe tbody tr th:only-of-type {\n",
       "        vertical-align: middle;\n",
       "    }\n",
       "\n",
       "    .dataframe tbody tr th {\n",
       "        vertical-align: top;\n",
       "    }\n",
       "\n",
       "    .dataframe thead th {\n",
       "        text-align: right;\n",
       "    }\n",
       "</style>\n",
       "<table border=\"1\" class=\"dataframe\">\n",
       "  <thead>\n",
       "    <tr style=\"text-align: right;\">\n",
       "      <th></th>\n",
       "      <th>total</th>\n",
       "      <th>subreddit</th>\n",
       "    </tr>\n",
       "  </thead>\n",
       "  <tbody>\n",
       "    <tr>\n",
       "      <th>help</th>\n",
       "      <td>1400</td>\n",
       "      <td>ASD</td>\n",
       "    </tr>\n",
       "    <tr>\n",
       "      <th>ha</th>\n",
       "      <td>1641</td>\n",
       "      <td>both</td>\n",
       "    </tr>\n",
       "    <tr>\n",
       "      <th>dont</th>\n",
       "      <td>1767</td>\n",
       "      <td>both</td>\n",
       "    </tr>\n",
       "    <tr>\n",
       "      <th>make</th>\n",
       "      <td>1796</td>\n",
       "      <td>both</td>\n",
       "    </tr>\n",
       "    <tr>\n",
       "      <th>peopl</th>\n",
       "      <td>1819</td>\n",
       "      <td>ASD</td>\n",
       "    </tr>\n",
       "  </tbody>\n",
       "</table>\n",
       "</div>"
      ],
      "text/plain": [
       "       total subreddit\n",
       "help    1400       ASD\n",
       "ha      1641      both\n",
       "dont    1767      both\n",
       "make    1796      both\n",
       "peopl   1819       ASD"
      ]
     },
     "execution_count": 37,
     "metadata": {},
     "output_type": "execute_result"
    }
   ],
   "source": [
    "new_df_2.head()"
   ]
  },
  {
   "cell_type": "code",
   "execution_count": 38,
   "metadata": {
    "scrolled": false
   },
   "outputs": [
    {
     "data": {
      "image/png": "[encoded data removed]",
      "text/plain": [
       "<Figure size 504x432 with 1 Axes>"
      ]
     },
     "metadata": {
      "needs_background": "light"
     },
     "output_type": "display_data"
    }
   ],
   "source": [
    "# Visualizing the 20 most frequent words in our dataset (not including english stopwords)\n",
    "plt.figure(figsize = (7,6))\n",
    "plt.barh(width=new_df_2[new_df_2['subreddit']=='both']['total'], y=new_df_2[new_df_2['subreddit']=='both'].index)\n",
    "plt.barh(width=new_df_2[new_df_2['subreddit']=='ASD']['total'], y=new_df_2[new_df_2['subreddit']=='ASD'].index)\n",
    "plt.barh(width=new_df_2[new_df_2['subreddit']=='OCD']['total'], y=new_df_2[new_df_2['subreddit']=='OCD'].index, color='gold')\n",
    "plt.title('Top 20 Words by Subreddit', size=20)\n",
    "plt.xlabel('Word Count', size=12)\n",
    "plt.ylabel('Word', size=12)\n",
    "plt.yticks(np.arange(20), \n",
    "           ['has', \"don't\", 'make', 'really', 'time', 'want', 'thing', 'think', 'because', 'know', \"i'm\", 'feel', \n",
    "           'just', 'like', 'was', 'this', 'help', 'people', 'thought', 'ocd'])\n",
    "plt.legend(['Both', 'ASD', 'OCD']);"
   ]
  },
  {
   "cell_type": "markdown",
   "metadata": {},
   "source": [
    "**Interpretation:** Most of the 20 most frequent words in our dataset are common in both the OCD and ASD subreddits. This makes sense considering that the two disorders share symptoms and that users are sharing similar type of information on both subreddits. However, those words are not very helpful to differentiate between the two populations. As a results, words that are common in both ASD and OCD subreddits should be included in a custom stopwords list.  \n",
    "Out of the most frequent 20 words, only 2 words are specific to ASD: \"people\" and \"help\" and only 2 words are specific to OCD: \"ocd\" and \"thought\". Those words make sense considering that autism is a disorder characterized by more social  deficits while OCD is more defined by intrusive thoughts.   \n",
    "Note: While we are only showing the most frequent 20 words here, the same analysis was done with the most frequent 50 words in order to identify more potential stopwords. "
   ]
  },
  {
   "cell_type": "markdown",
   "metadata": {},
   "source": [
    "### Creating Custom Stopwords List "
   ]
  },
  {
   "cell_type": "code",
   "execution_count": 40,
   "metadata": {},
   "outputs": [],
   "source": [
    "# Creating matrices for the most common 50 words in the ASD and OCD subreddits \n",
    "cvec = CountVectorizer(max_features = 50, stop_words='english')\n",
    "\n",
    "test_text = cvec.fit_transform(data[data['subreddit']==1]['cleaned_text'])\n",
    "test_auti = pd.DataFrame(test_text.toarray(), columns=cvec.get_feature_names())\n",
    "\n",
    "test_text2 = cvec.fit_transform(data[data['subreddit']==0]['cleaned_text'])\n",
    "test_ocid = pd.DataFrame(test_text2.toarray(), columns=cvec.get_feature_names())"
   ]
  },
  {
   "cell_type": "code",
   "execution_count": 41,
   "metadata": {},
   "outputs": [],
   "source": [
    "# Create custom list of stopwords \n",
    "additional_words = [word for word in test_auti.columns if word in test_ocid.columns]\n",
    "my_stopwords = frozenset(additional_words+ stopwords.words('english'))"
   ]
  },
  {
   "cell_type": "markdown",
   "metadata": {},
   "source": [
    "Given the information gathered during EDA, we believe the data available will allow us to successfully answer our problem statement. "
   ]
  },
  {
   "cell_type": "markdown",
   "metadata": {},
   "source": [
    "## Model Preparation"
   ]
  },
  {
   "cell_type": "code",
   "execution_count": 42,
   "metadata": {},
   "outputs": [],
   "source": [
    "# Setting up our variables and train-test split\n",
    "X = data['cleaned_text']\n",
    "y = data['subreddit']\n",
    "\n",
    "X_train, X_test, y_train, y_test = train_test_split(X, y, random_state=42, stratify=y)"
   ]
  },
  {
   "cell_type": "markdown",
   "metadata": {},
   "source": [
    "## Modeling"
   ]
  },
  {
   "cell_type": "markdown",
   "metadata": {},
   "source": [
    "### Baseline Model"
   ]
  },
  {
   "cell_type": "code",
   "execution_count": 43,
   "metadata": {},
   "outputs": [
    {
     "name": "stdout",
     "output_type": "stream",
     "text": [
      "Baseline Training Score: 0.5718232044198895\n",
      "Baseline Testing Score: 0.572463768115942\n"
     ]
    }
   ],
   "source": [
    "# Checking baseline model score \n",
    "dummy = DummyClassifier(strategy=\"most_frequent\")\n",
    "dummy.fit(X_train, y_train)\n",
    "print(f'Baseline Training Score: {dummy.score(X_train, y_train)}')\n",
    "print(f'Baseline Testing Score: {dummy.score(X_test, y_test)}')"
   ]
  },
  {
   "cell_type": "markdown",
   "metadata": {},
   "source": [
    "**Interpretation:** If we always predicted the majority class (OCD), our \"model\" would have a 57% accuracy. "
   ]
  },
  {
   "cell_type": "markdown",
   "metadata": {},
   "source": [
    "### Logistic Regression"
   ]
  },
  {
   "cell_type": "markdown",
   "metadata": {},
   "source": [
    "#### Logistic Regression + CountVectorizer "
   ]
  },
  {
   "cell_type": "code",
   "execution_count": 44,
   "metadata": {
    "scrolled": false
   },
   "outputs": [
    {
     "name": "stdout",
     "output_type": "stream",
     "text": [
      "Best Training Accuracy: 0.9917127071823204\n",
      "Best Testing Accuracy: 0.9213250517598344\n",
      "Cross-val-score: 0.92284015577556\n"
     ]
    }
   ],
   "source": [
    "#Creating pipeline for Log Reg CountVectorizer: \n",
    "\n",
    "# Define Pipeline\n",
    "pipe = Pipeline(steps = [\n",
    "    ('vectorizer', CountVectorizer()), \n",
    "    ('lg', LogisticRegression(solver='liblinear')) \n",
    "])\n",
    "\n",
    "# Construct Grid Parameters\n",
    "hyperparams = {\n",
    "    'vectorizer__ngram_range':[(1,2)], \n",
    "    'vectorizer__stop_words': [my_stopwords],\n",
    "    'vectorizer__max_features': [2000],\n",
    "    'lg__max_iter': [200]\n",
    "}\n",
    "\n",
    "# Perform Grid Search\n",
    "gs = GridSearchCV(pipe,\n",
    "                 param_grid=hyperparams,\n",
    "                 cv = 3,\n",
    "                 scoring = 'accuracy')\n",
    "lg_cvec = gs.fit(X_train, y_train)\n",
    "\n",
    "# Scoring \n",
    "print(f'Best Training Accuracy: {lg_cvec.score(X_train, y_train)}')\n",
    "print(f'Best Testing Accuracy: {lg_cvec.score(X_test, y_test)}')\n",
    "print(f'Cross-val-score: {cross_val_score(lg_cvec.best_estimator_, X, y).mean()}')"
   ]
  },
  {
   "cell_type": "markdown",
   "metadata": {},
   "source": [
    "**Interpretation:** This model is highly overfit with a training score of 99.2% much higher than our testing score of **92.1% accuracy**. The cross-val-score being very close to the testing score indicates that our testing set is a valid representation of the data. Although our model is overfit, the high testing score indicates that it still provides high predictive power.   \n",
    "Note: More parameters than the ones appearing above were investigated during our search for the best model. However, in order to decrease runtime, only the parametters giving us the best test score (identified using `.best_params_`) were included in this notebook. "
   ]
  },
  {
   "cell_type": "markdown",
   "metadata": {},
   "source": [
    "#### Logistic Regression + TFIDFVectorizer"
   ]
  },
  {
   "cell_type": "code",
   "execution_count": 46,
   "metadata": {
    "scrolled": true
   },
   "outputs": [
    {
     "name": "stdout",
     "output_type": "stream",
     "text": [
      "Best Training Accuracy: 0.988950276243094\n",
      "Best Testing Accuracy: 0.9337474120082816\n",
      "Cross-val-score: 0.9259456126121899\n"
     ]
    }
   ],
   "source": [
    "#Creating pipeline for Log Reg TFIDFVectorizer: \n",
    "\n",
    "# Define Pipeline\n",
    "pipe = Pipeline(steps = [\n",
    "    ('vectorizer', TfidfVectorizer()), \n",
    "    ('lg', LogisticRegression(solver='liblinear')) \n",
    "])\n",
    "\n",
    "# Construct Grid Parameters\n",
    "hyperparams = {\n",
    "    'vectorizer__ngram_range':[(1,1)], \n",
    "    'vectorizer__stop_words': [my_stopwords],\n",
    "    'vectorizer__max_features': [3000],\n",
    "    'lg__max_iter': [50], \n",
    "    'lg__penalty': ['l2'],\n",
    "    'lg__C': [3]\n",
    "}\n",
    "\n",
    "# Perform Grid Search\n",
    "gs = GridSearchCV(pipe,\n",
    "                 param_grid=hyperparams,\n",
    "                 cv = 3,\n",
    "                 scoring = 'accuracy')\n",
    "lg_tfidf = gs.fit(X_train, y_train)\n",
    "\n",
    "# Scoring \n",
    "print(f'Best Training Accuracy: {lg_tfidf.score(X_train, y_train)}')\n",
    "print(f'Best Testing Accuracy: {lg_tfidf.score(X_test, y_test)}')\n",
    "print(f'Cross-val-score: {cross_val_score(lg_tfidf.best_estimator_, X, y).mean()}')"
   ]
  },
  {
   "cell_type": "markdown",
   "metadata": {},
   "source": [
    "**Interpretation:** This model is highly overfit with a training score of 98.9% much higher than our testing score of **93.4% accuracy**. The cross-val-score being close to the testing score indicates that our testing set is a valid representation of the data. Although our model is overfit, the high testing score indicates that it still provides high predictive power.   \n",
    "Note: More parameters than the ones appearing above were investigated during our search for the best model. However, in order to decrease runtime, only the parametters giving us the best test score (identified using `.best_params_`) were included in this notebook. "
   ]
  },
  {
   "cell_type": "markdown",
   "metadata": {},
   "source": [
    "### kNN "
   ]
  },
  {
   "cell_type": "markdown",
   "metadata": {},
   "source": [
    "#### kNN + CountVectorizer"
   ]
  },
  {
   "cell_type": "code",
   "execution_count": 48,
   "metadata": {
    "scrolled": true
   },
   "outputs": [
    {
     "name": "stdout",
     "output_type": "stream",
     "text": [
      "Best Training Accuracy: 0.7935082872928176\n",
      "Best Testing Accuracy: 0.7298136645962733\n",
      "Cross-val-score: 0.7216577629718008\n"
     ]
    }
   ],
   "source": [
    "#Creating pipeline for kNN CountVectorizer: \n",
    "\n",
    "# Define Pipeline\n",
    "pipe = Pipeline(steps = [\n",
    "    ('vectorizer', CountVectorizer()),\n",
    "    ('sc', MaxAbsScaler()),\n",
    "    ('knn', KNeighborsClassifier())\n",
    "])\n",
    "\n",
    "# Construct Grid Parameters\n",
    "hyperparams = {\n",
    "    'vectorizer__ngram_range':[(1,2)], \n",
    "    'vectorizer__stop_words': [my_stopwords],\n",
    "    'vectorizer__max_features': [500],\n",
    "    'knn__n_neighbors': [10], \n",
    "    'knn__metric': ['minkowski']\n",
    "}\n",
    "\n",
    "# Perform Grid Search\n",
    "gs = GridSearchCV(pipe,\n",
    "                 param_grid=hyperparams,\n",
    "                 cv = 3,\n",
    "                 scoring = 'accuracy')\n",
    "knn_cvec = gs.fit(X_train, y_train)\n",
    "\n",
    "# Scoring \n",
    "print(f'Best Training Accuracy: {knn_cvec.score(X_train, y_train)}')\n",
    "print(f'Best Testing Accuracy: {knn_cvec.score(X_test, y_test)}')\n",
    "print(f'Cross-val-score: {cross_val_score(knn_cvec.best_estimator_, X, y).mean()}')"
   ]
  },
  {
   "cell_type": "markdown",
   "metadata": {},
   "source": [
    "**Interpretation:** This model is overfit with a training score of 79.4% higher than our testing score of **73% accuracy**. The cross-val-score being close to the testing score indicates that our testing set is a valid representation of the data.   \n",
    "Note: More parameters than the ones appearing above were investigated during our search for the best model. However, in order to decrease runtime, only the parametters giving us the best test score (identified using `.best_params_`) were included in this notebook. "
   ]
  },
  {
   "cell_type": "markdown",
   "metadata": {},
   "source": [
    "#### kNN + TFIDFVectorizer"
   ]
  },
  {
   "cell_type": "code",
   "execution_count": 50,
   "metadata": {},
   "outputs": [
    {
     "name": "stdout",
     "output_type": "stream",
     "text": [
      "Best Training Accuracy: 0.6056629834254144\n",
      "Best Testing Accuracy: 0.5817805383022774\n",
      "Cross-val-score: 0.5357251539992895\n"
     ]
    }
   ],
   "source": [
    "#Creating pipeline for kNN TFIDFVectorizer: \n",
    "\n",
    "# Setting model specific train/test split\n",
    "X_train_knn, X_test_knn, y_train_knn, y_test_knn = train_test_split(X, y, random_state=22, stratify=y)\n",
    "\n",
    "# Define Pipeline\n",
    "pipe = Pipeline(steps = [\n",
    "    ('vectorizer', TfidfVectorizer()), \n",
    "    ('sc', MaxAbsScaler()),\n",
    "    ('knn', KNeighborsClassifier()) \n",
    "])\n",
    "\n",
    "# Construct Grid Parameters\n",
    "hyperparams = {\n",
    "    'vectorizer__ngram_range':[(1,2)], \n",
    "    'vectorizer__stop_words': [None],\n",
    "    'vectorizer__max_features': [2200],\n",
    "    'knn__n_neighbors': [8], \n",
    "    'knn__metric': ['minkowski']\n",
    "}\n",
    "\n",
    "# Perform Grid Search\n",
    "gs = GridSearchCV(pipe,\n",
    "                 param_grid=hyperparams,\n",
    "                 cv = 3,\n",
    "                 scoring = 'accuracy')\n",
    "knn_tfidf = gs.fit(X_train_knn, y_train_knn)\n",
    "\n",
    "# Scoring \n",
    "print(f'Best Training Accuracy: {knn_tfidf.score(X_train_knn, y_train_knn)}')\n",
    "print(f'Best Testing Accuracy: {knn_tfidf.score(X_test_knn, y_test_knn)}')\n",
    "print(f'Cross-val-score: {cross_val_score(knn_tfidf.best_estimator_, X, y).mean()}')"
   ]
  },
  {
   "cell_type": "markdown",
   "metadata": {},
   "source": [
    "**Interpretation:** This model is slightly overfit with a training score of 60.6% slighy higher than our testing score of **58.2% accuracy**. This model is performing poorly with an accuracy barely above the baseline accuracy of 57%. The cross-val-score being somewhat far from the testing score indicates that our testing set may not be the best for this model. This discrepancy was much more important with the original train-test-split (using a random state of 42) which lead us to try a custom train-test-split for this model. This brought our test and cross-val scores closer together. However, they remain farther apart than we would like to see for an optimal model.     \n",
    "Note: More parameters than the ones appearing above were investigated during our search for the best model. However, in order to decrease runtime, only the parametters giving us the best test score (identified using `.best_params_`) were included in this notebook. "
   ]
  },
  {
   "cell_type": "markdown",
   "metadata": {},
   "source": [
    "### Naive Bayes"
   ]
  },
  {
   "cell_type": "markdown",
   "metadata": {},
   "source": [
    "#### Multinomial Naive Bayes + CountVectorizer"
   ]
  },
  {
   "cell_type": "code",
   "execution_count": 52,
   "metadata": {},
   "outputs": [
    {
     "name": "stdout",
     "output_type": "stream",
     "text": [
      "Best Training Accuracy: 0.9437154696132597\n",
      "Best Testing Accuracy: 0.9140786749482401\n",
      "Cross-val-score: 0.916625555503422\n"
     ]
    }
   ],
   "source": [
    "#Creating pipeline for Multinomial NB CountVectorizer: \n",
    "\n",
    "# Define Pipeline\n",
    "pipe = Pipeline(steps = [\n",
    "    ('vectorizer', CountVectorizer()), \n",
    "    ('mnb', MultinomialNB()) \n",
    "])\n",
    "\n",
    "# Construct Grid Parameters\n",
    "hyperparams = {\n",
    "    'vectorizer__ngram_range':[(1,2)], \n",
    "    'vectorizer__stop_words': [my_stopwords],\n",
    "    'vectorizer__max_features':  [2500], \n",
    "    'mnb__alpha': [0.3]\n",
    "}\n",
    "\n",
    "# Perform Grid Search\n",
    "gs = GridSearchCV(pipe,\n",
    "                 param_grid=hyperparams,\n",
    "                 cv = 3,\n",
    "                 scoring = 'accuracy')\n",
    "mnb_cvec = gs.fit(X_train, y_train)\n",
    "\n",
    "# Scoring \n",
    "print(f'Best Training Accuracy: {mnb_cvec.score(X_train, y_train)}')\n",
    "print(f'Best Testing Accuracy: {mnb_cvec.score(X_test, y_test)}')\n",
    "print(f'Cross-val-score: {cross_val_score(mnb_cvec.best_estimator_, X, y).mean()}')"
   ]
  },
  {
   "cell_type": "markdown",
   "metadata": {},
   "source": [
    "**Interpretation:** This model is overfit with a training score of 94.4% higher than our testing score of **91.4% accuracy**. The cross-val-score being close to the testing score indicates that our testing set is a valid representation of the data. Although our model is overfit, the high testing score indicates that it still provides high predictive power.   \n",
    "Note: More parameters than the ones appearing above were investigated during our search for the best model. However, in order to decrease runtime, only the parametters giving us the best test score (identified using `.best_params_`) were included in this notebook. "
   ]
  },
  {
   "cell_type": "markdown",
   "metadata": {},
   "source": [
    "#### Gaussian NB + TFIDFVectorizer"
   ]
  },
  {
   "cell_type": "code",
   "execution_count": 54,
   "metadata": {
    "scrolled": true
   },
   "outputs": [
    {
     "name": "stdout",
     "output_type": "stream",
     "text": [
      "Best Training Accuracy: 0.9578729281767956\n",
      "Best Testing Accuracy: 0.9037267080745341\n",
      "Cross-val-score: 0.9036758742266521\n"
     ]
    }
   ],
   "source": [
    "#Creating pipeline for Gaussian NB TFIDFVectorizer: \n",
    "\n",
    "# Define Pipeline\n",
    "pipe = Pipeline(steps = [\n",
    "    ('vectorizer', TfidfVectorizer()), \n",
    "    ('denser', FunctionTransformer(lambda x: x.todense(), accept_sparse=True)), \n",
    "    ('gnb', GaussianNB()) \n",
    "])\n",
    "\n",
    "# Construct Grid Parameters\n",
    "hyperparams = {\n",
    "    'vectorizer__ngram_range':[(1,2)], \n",
    "    'vectorizer__stop_words': [None],\n",
    "    'vectorizer__max_features': [2000],\n",
    "}\n",
    "\n",
    "# Perform Grid Search\n",
    "gs = GridSearchCV(pipe,\n",
    "                 param_grid=hyperparams,\n",
    "                 cv = 3,\n",
    "                 scoring = 'accuracy')\n",
    "gnb_tfidf = gs.fit(X_train, y_train)\n",
    "\n",
    "# Scoring \n",
    "print(f'Best Training Accuracy: {gnb_tfidf.score(X_train, y_train)}')\n",
    "print(f'Best Testing Accuracy: {gnb_tfidf.score(X_test, y_test)}')\n",
    "print(f'Cross-val-score: {cross_val_score(gnb_tfidf.best_estimator_, X, y).mean()}')\n",
    "\n",
    "#Fix to sparse array error from https://stackoverflow.com/questions/28384680/scikit-learns-pipeline-a-sparse-matrix-was-passed-but-dense-data-is-required"
   ]
  },
  {
   "cell_type": "markdown",
   "metadata": {},
   "source": [
    "**Interpretation:** This model is highly overfit with a training score of 95.8% much higher than our testing score of **90.4% accuracy**. The cross-val-score being close to the testing score indicates that our testing set is a valid representation of the data. Although our model is overfit, the high testing score indicates that it still provides high predictive power.   \n",
    "Note: More parameters than the ones appearing above were investigated during our search for the best model. However, in order to decrease runtime, only the parametters giving us the best test score (identified using `.best_params_`) were included in this notebook. "
   ]
  },
  {
   "cell_type": "markdown",
   "metadata": {},
   "source": [
    "### SVM"
   ]
  },
  {
   "cell_type": "markdown",
   "metadata": {},
   "source": [
    "#### SVM + CountVectorizer"
   ]
  },
  {
   "cell_type": "code",
   "execution_count": 56,
   "metadata": {},
   "outputs": [
    {
     "name": "stdout",
     "output_type": "stream",
     "text": [
      "Best Training Accuracy: 0.9772099447513812\n",
      "Best Testing Accuracy: 0.8913043478260869\n",
      "Cross-val-score: 0.8788147919752797\n"
     ]
    }
   ],
   "source": [
    "#Creating pipeline for SVC CountVectorizer: \n",
    "\n",
    "# Define Pipeline\n",
    "pipe = Pipeline(steps = [\n",
    "    ('vectorizer', CountVectorizer()),\n",
    "    ('sc', MaxAbsScaler()),\n",
    "    ('svc', SVC())\n",
    "])\n",
    "\n",
    "# Construct Grid Parameters\n",
    "hyperparams = {\n",
    "    'vectorizer__ngram_range':[(1,1)], \n",
    "    'vectorizer__stop_words': [my_stopwords],\n",
    "    'vectorizer__max_features': [300],\n",
    "    'svc__degree': [0.2], \n",
    "    'svc__C': [10], \n",
    "    'svc__kernel': ['rbf']\n",
    "   \n",
    "}\n",
    "\n",
    "# Perform Grid Search\n",
    "gs = GridSearchCV(pipe,\n",
    "                 param_grid=hyperparams,\n",
    "                 cv = 3,\n",
    "                 scoring = 'accuracy')\n",
    "svc_cvec = gs.fit(X_train, y_train)\n",
    "\n",
    "# Scoring \n",
    "print(f'Best Training Accuracy: {svc_cvec.score(X_train, y_train)}')\n",
    "print(f'Best Testing Accuracy: {svc_cvec.score(X_test, y_test)}')\n",
    "print(f'Cross-val-score: {cross_val_score(svc_cvec.best_estimator_, X, y).mean()}')"
   ]
  },
  {
   "cell_type": "markdown",
   "metadata": {},
   "source": [
    "**Interpretation:** This model is highly overfit with a training score of 97.7% much higher than our testing score of **89.1% accuracy**. The cross-val-score being close to the testing score indicates that our testing set is a valid representation of the data. Although our model is overfit, the high testing score indicates that it still provides  predictive power.   \n",
    "Note: More parameters than the ones appearing above were investigated during our search for the best model. However, in order to decrease runtime, only the parametters giving us the best test score (identified using `.best_params_`) were included in this notebook. "
   ]
  },
  {
   "cell_type": "markdown",
   "metadata": {},
   "source": [
    "#### SVM + TFIDFVectorizer "
   ]
  },
  {
   "cell_type": "code",
   "execution_count": 58,
   "metadata": {
    "scrolled": true
   },
   "outputs": [
    {
     "name": "stdout",
     "output_type": "stream",
     "text": [
      "Best Training Accuracy: 0.994475138121547\n",
      "Best Testing Accuracy: 0.8995859213250518\n",
      "Cross-val-score: 0.9041936737963254\n"
     ]
    }
   ],
   "source": [
    "#Creating pipeline for SVC TFIDFVectorizer: \n",
    "\n",
    "# Define Pipeline\n",
    "pipe = Pipeline(steps = [\n",
    "    ('vectorizer', TfidfVectorizer()),\n",
    "    ('sc', MaxAbsScaler()),\n",
    "    ('svc', SVC())\n",
    "])\n",
    "\n",
    "# Construct Grid Parameters\n",
    "hyperparams = {\n",
    "    'vectorizer__ngram_range':[(1,2)], \n",
    "    'vectorizer__stop_words': [my_stopwords],\n",
    "    'vectorizer__max_features': [350],\n",
    "    'svc__degree': [0.2], \n",
    "    'svc__C': [8],\n",
    "    'svc__kernel': ['rbf']\n",
    "   \n",
    "}\n",
    "\n",
    "# Perform Grid Search\n",
    "gs = GridSearchCV(pipe,\n",
    "                 param_grid=hyperparams,\n",
    "                 cv = 3,\n",
    "                 scoring = 'accuracy')\n",
    "svc_tfidf = gs.fit(X_train, y_train)\n",
    "\n",
    "# Scoring \n",
    "print(f'Best Training Accuracy: {svc_tfidf.score(X_train, y_train)}')\n",
    "print(f'Best Testing Accuracy: {svc_tfidf.score(X_test, y_test)}')\n",
    "print(f'Cross-val-score: {cross_val_score(svc_tfidf.best_estimator_, X, y).mean()}')"
   ]
  },
  {
   "cell_type": "markdown",
   "metadata": {},
   "source": [
    "**Interpretation:** This model is highly overfit with a training score of 99.4% much higher than our testing score of **90% accuracy**. The cross-val-score being close to the testing score indicates that our testing set is a valid representation of the data. Although our model is overfit, the high testing score indicates that it still provides  predictive power.   \n",
    "Note: More parameters than the ones appearing above were investigated during our search for the best model. However, in order to decrease runtime, only the parametters giving us the best test score (identified using `.best_params_`) were included in this notebook. "
   ]
  },
  {
   "cell_type": "markdown",
   "metadata": {},
   "source": [
    "## Model Selection"
   ]
  },
  {
   "cell_type": "markdown",
   "metadata": {},
   "source": [
    "As stated in our problem statement, we are looking for the model providing the highest accuracy. More specifically, we are looking for the model with the highest testing accuracy. Indeed, since our model will be used to classify new posts, we need high predictive power on data our model has not been fitted on (never seen before).  \n",
    "\n",
    "<img src=\"../assets/table.png\" width=\"1000px\">\n",
    "\n",
    "\n",
    "The model providing with highest test accurary score is the **Logistic Regression model with TFIDF Vectorizer**. This model is overfit, however it still provides high predictive power which is what we care about given our problem statement. Although our main goal is predictability, having a model that is also interpretable (the way logistic regresssion is) is a very valuable bonus. "
   ]
  },
  {
   "cell_type": "markdown",
   "metadata": {},
   "source": [
    "## Model Evaluation"
   ]
  },
  {
   "cell_type": "code",
   "execution_count": 92,
   "metadata": {
    "scrolled": false
   },
   "outputs": [
    {
     "data": {
      "text/plain": [
       "{'lg__C': 3,\n",
       " 'lg__max_iter': 50,\n",
       " 'lg__penalty': 'l2',\n",
       " 'vectorizer__max_features': 3000,\n",
       " 'vectorizer__ngram_range': (1, 1),\n",
       " 'vectorizer__stop_words': frozenset({'a',\n",
       "            'about',\n",
       "            'above',\n",
       "            'after',\n",
       "            'again',\n",
       "            'against',\n",
       "            'ain',\n",
       "            'all',\n",
       "            'alway',\n",
       "            'am',\n",
       "            'an',\n",
       "            'and',\n",
       "            'ani',\n",
       "            'any',\n",
       "            'anyon',\n",
       "            'are',\n",
       "            'aren',\n",
       "            \"aren't\",\n",
       "            'as',\n",
       "            'at',\n",
       "            'be',\n",
       "            'becaus',\n",
       "            'because',\n",
       "            'been',\n",
       "            'before',\n",
       "            'being',\n",
       "            'below',\n",
       "            'between',\n",
       "            'both',\n",
       "            'but',\n",
       "            'by',\n",
       "            'can',\n",
       "            'couldn',\n",
       "            \"couldn't\",\n",
       "            'd',\n",
       "            'day',\n",
       "            'did',\n",
       "            'didn',\n",
       "            \"didn't\",\n",
       "            'do',\n",
       "            'does',\n",
       "            'doesn',\n",
       "            \"doesn't\",\n",
       "            'doing',\n",
       "            'don',\n",
       "            \"don't\",\n",
       "            'dont',\n",
       "            'down',\n",
       "            'during',\n",
       "            'each',\n",
       "            'els',\n",
       "            'feel',\n",
       "            'few',\n",
       "            'for',\n",
       "            'from',\n",
       "            'further',\n",
       "            'ha',\n",
       "            'had',\n",
       "            'hadn',\n",
       "            \"hadn't\",\n",
       "            'has',\n",
       "            'hasn',\n",
       "            \"hasn't\",\n",
       "            'have',\n",
       "            'haven',\n",
       "            \"haven't\",\n",
       "            'having',\n",
       "            'he',\n",
       "            'help',\n",
       "            'her',\n",
       "            'here',\n",
       "            'hers',\n",
       "            'herself',\n",
       "            'him',\n",
       "            'himself',\n",
       "            'his',\n",
       "            'how',\n",
       "            'i',\n",
       "            'if',\n",
       "            'im',\n",
       "            'in',\n",
       "            'into',\n",
       "            'is',\n",
       "            'isn',\n",
       "            \"isn't\",\n",
       "            'it',\n",
       "            \"it's\",\n",
       "            'its',\n",
       "            'itself',\n",
       "            'ive',\n",
       "            'just',\n",
       "            'know',\n",
       "            'life',\n",
       "            'like',\n",
       "            'll',\n",
       "            'look',\n",
       "            'm',\n",
       "            'ma',\n",
       "            'make',\n",
       "            'me',\n",
       "            'mightn',\n",
       "            \"mightn't\",\n",
       "            'more',\n",
       "            'most',\n",
       "            'mustn',\n",
       "            \"mustn't\",\n",
       "            'my',\n",
       "            'myself',\n",
       "            'need',\n",
       "            'needn',\n",
       "            \"needn't\",\n",
       "            'no',\n",
       "            'nor',\n",
       "            'not',\n",
       "            'now',\n",
       "            'o',\n",
       "            'of',\n",
       "            'off',\n",
       "            'on',\n",
       "            'once',\n",
       "            'only',\n",
       "            'or',\n",
       "            'other',\n",
       "            'our',\n",
       "            'ours',\n",
       "            'ourselves',\n",
       "            'out',\n",
       "            'over',\n",
       "            'own',\n",
       "            'peopl',\n",
       "            're',\n",
       "            'realli',\n",
       "            's',\n",
       "            'same',\n",
       "            'say',\n",
       "            'shan',\n",
       "            \"shan't\",\n",
       "            'she',\n",
       "            \"she's\",\n",
       "            'should',\n",
       "            \"should've\",\n",
       "            'shouldn',\n",
       "            \"shouldn't\",\n",
       "            'so',\n",
       "            'some',\n",
       "            'someth',\n",
       "            'start',\n",
       "            'such',\n",
       "            't',\n",
       "            'than',\n",
       "            'that',\n",
       "            \"that'll\",\n",
       "            'the',\n",
       "            'their',\n",
       "            'theirs',\n",
       "            'them',\n",
       "            'themselves',\n",
       "            'then',\n",
       "            'there',\n",
       "            'these',\n",
       "            'they',\n",
       "            'thi',\n",
       "            'thing',\n",
       "            'think',\n",
       "            'this',\n",
       "            'those',\n",
       "            'through',\n",
       "            'time',\n",
       "            'to',\n",
       "            'too',\n",
       "            'tri',\n",
       "            'under',\n",
       "            'until',\n",
       "            'up',\n",
       "            've',\n",
       "            'veri',\n",
       "            'very',\n",
       "            'wa',\n",
       "            'want',\n",
       "            'was',\n",
       "            'wasn',\n",
       "            \"wasn't\",\n",
       "            'way',\n",
       "            'we',\n",
       "            'were',\n",
       "            'weren',\n",
       "            \"weren't\",\n",
       "            'what',\n",
       "            'when',\n",
       "            'where',\n",
       "            'which',\n",
       "            'while',\n",
       "            'who',\n",
       "            'whom',\n",
       "            'why',\n",
       "            'will',\n",
       "            'with',\n",
       "            'won',\n",
       "            \"won't\",\n",
       "            'wouldn',\n",
       "            \"wouldn't\",\n",
       "            'y',\n",
       "            'year',\n",
       "            'you',\n",
       "            \"you'd\",\n",
       "            \"you'll\",\n",
       "            \"you're\",\n",
       "            \"you've\",\n",
       "            'your',\n",
       "            'yours',\n",
       "            'yourself',\n",
       "            'yourselves'})}"
      ]
     },
     "execution_count": 92,
     "metadata": {},
     "output_type": "execute_result"
    }
   ],
   "source": [
    "# Looking at best model parameters \n",
    "lg_tfidf.best_params_"
   ]
  },
  {
   "cell_type": "markdown",
   "metadata": {},
   "source": [
    "**Interpretation:** The best model used the 3000 most common words and our custom stopwords. "
   ]
  },
  {
   "cell_type": "markdown",
   "metadata": {},
   "source": [
    "### Confusion Matrix"
   ]
  },
  {
   "cell_type": "code",
   "execution_count": 61,
   "metadata": {
    "scrolled": true
   },
   "outputs": [
    {
     "data": {
      "text/plain": [
       "array([[516,  37],\n",
       "       [ 27, 386]])"
      ]
     },
     "execution_count": 61,
     "metadata": {},
     "output_type": "execute_result"
    }
   ],
   "source": [
    "# Making predictions\n",
    "predictions = lg_tfidf.predict(X_test)\n",
    "\n",
    "# Creating confusion matrix \n",
    "cm = confusion_matrix(y_test, predictions)\n",
    "cm"
   ]
  },
  {
   "cell_type": "code",
   "execution_count": 62,
   "metadata": {
    "scrolled": true
   },
   "outputs": [
    {
     "data": {
      "text/html": [
       "<div>\n",
       "<style scoped>\n",
       "    .dataframe tbody tr th:only-of-type {\n",
       "        vertical-align: middle;\n",
       "    }\n",
       "\n",
       "    .dataframe tbody tr th {\n",
       "        vertical-align: top;\n",
       "    }\n",
       "\n",
       "    .dataframe thead th {\n",
       "        text-align: right;\n",
       "    }\n",
       "</style>\n",
       "<table border=\"1\" class=\"dataframe\">\n",
       "  <thead>\n",
       "    <tr style=\"text-align: right;\">\n",
       "      <th></th>\n",
       "      <th>Predicted OCD</th>\n",
       "      <th>Predicted ASD</th>\n",
       "    </tr>\n",
       "  </thead>\n",
       "  <tbody>\n",
       "    <tr>\n",
       "      <th>Actually OCD</th>\n",
       "      <td>516</td>\n",
       "      <td>37</td>\n",
       "    </tr>\n",
       "    <tr>\n",
       "      <th>Actually ASD</th>\n",
       "      <td>27</td>\n",
       "      <td>386</td>\n",
       "    </tr>\n",
       "  </tbody>\n",
       "</table>\n",
       "</div>"
      ],
      "text/plain": [
       "              Predicted OCD  Predicted ASD\n",
       "Actually OCD            516             37\n",
       "Actually ASD             27            386"
      ]
     },
     "execution_count": 62,
     "metadata": {},
     "output_type": "execute_result"
    }
   ],
   "source": [
    "# Visualizing our confusion matrix  \n",
    "pd.DataFrame(cm, index=['Actually OCD', 'Actually ASD'],\n",
    "                 columns=['Predicted OCD', 'Predicted ASD'])"
   ]
  },
  {
   "cell_type": "code",
   "execution_count": 63,
   "metadata": {},
   "outputs": [
    {
     "name": "stdout",
     "output_type": "stream",
     "text": [
      "Our Sensitivity is 93.0%\n",
      "Our Specificity is 93.0%\n",
      "Our Precision is 91.0%\n"
     ]
    }
   ],
   "source": [
    "# Calculating Sensitivity: \n",
    "sensitivity = 386/(386+27)\n",
    "print(f'Our Sensitivity is {np.round(sensitivity*100)}%')\n",
    "\n",
    "# Calculating Specificity:\n",
    "specificity = 516/(516+37)\n",
    "print(f'Our Specificity is {np.round(specificity*100)}%')\n",
    "\n",
    "# Calculating Precision: \n",
    "precision = 386/(386+37)\n",
    "print(f'Our Precision is {np.round(precision*100)}%')\n"
   ]
  },
  {
   "cell_type": "markdown",
   "metadata": {},
   "source": [
    "**Interpretation:**   \n",
    "We are correctly classifying 516 out of the 553 OCD posts, and 386 out of the 413 ASD posts.  \n",
    "We have a True Negative Rate (specificity) of 93% and a True Positive Rate (sensitivity) of 93%.  \n",
    "Our Precision (how much we can trust a positive prediction) is 91%.   \n",
    "Looking at our confusion matrix, we see that there are 37 posts that we predicted to be part of the ASD subreddit that were in fact part of the OCD subreddit. This means that in 3.8% of cases, we would be spending advertising money on the wrong user.  \n",
    "In addition, there are 27 posts that our model predicted to be written by someone from the OCD community who was actually part of the ASD community. This means that in 2.8% of cases, we would be missing out on potential customers. "
   ]
  },
  {
   "cell_type": "markdown",
   "metadata": {},
   "source": [
    "### Understanding Misclassifications"
   ]
  },
  {
   "cell_type": "code",
   "execution_count": 64,
   "metadata": {
    "scrolled": true
   },
   "outputs": [
    {
     "data": {
      "text/html": [
       "<div>\n",
       "<style scoped>\n",
       "    .dataframe tbody tr th:only-of-type {\n",
       "        vertical-align: middle;\n",
       "    }\n",
       "\n",
       "    .dataframe tbody tr th {\n",
       "        vertical-align: top;\n",
       "    }\n",
       "\n",
       "    .dataframe thead th {\n",
       "        text-align: right;\n",
       "    }\n",
       "</style>\n",
       "<table border=\"1\" class=\"dataframe\">\n",
       "  <thead>\n",
       "    <tr style=\"text-align: right;\">\n",
       "      <th></th>\n",
       "      <th>subreddit</th>\n",
       "      <th>prediction</th>\n",
       "      <th>cleaned_text</th>\n",
       "    </tr>\n",
       "  </thead>\n",
       "  <tbody>\n",
       "    <tr>\n",
       "      <th>2018</th>\n",
       "      <td>0</td>\n",
       "      <td>0</td>\n",
       "      <td>someon told me what happen to you is becaus yo...</td>\n",
       "    </tr>\n",
       "    <tr>\n",
       "      <th>1495</th>\n",
       "      <td>0</td>\n",
       "      <td>0</td>\n",
       "      <td>share your ocd stori ocd mind trick what reali...</td>\n",
       "    </tr>\n",
       "    <tr>\n",
       "      <th>3225</th>\n",
       "      <td>1</td>\n",
       "      <td>1</td>\n",
       "      <td>therapi or counsel for adult in west of scotla...</td>\n",
       "    </tr>\n",
       "    <tr>\n",
       "      <th>3647</th>\n",
       "      <td>1</td>\n",
       "      <td>1</td>\n",
       "      <td>i am year old and look to get a formal diagnos...</td>\n",
       "    </tr>\n",
       "    <tr>\n",
       "      <th>2578</th>\n",
       "      <td>1</td>\n",
       "      <td>1</td>\n",
       "      <td>i did it im do realli well</td>\n",
       "    </tr>\n",
       "  </tbody>\n",
       "</table>\n",
       "</div>"
      ],
      "text/plain": [
       "      subreddit  prediction                                       cleaned_text\n",
       "2018          0           0  someon told me what happen to you is becaus yo...\n",
       "1495          0           0  share your ocd stori ocd mind trick what reali...\n",
       "3225          1           1  therapi or counsel for adult in west of scotla...\n",
       "3647          1           1  i am year old and look to get a formal diagnos...\n",
       "2578          1           1                         i did it im do realli well"
      ]
     },
     "execution_count": 64,
     "metadata": {},
     "output_type": "execute_result"
    }
   ],
   "source": [
    "# Creating a dataframe to compare our predictions to the actual subreddit\n",
    "analysis = pd.DataFrame(y_test)\n",
    "analysis['prediction'] = predictions\n",
    "analysis['cleaned_text']= X_test\n",
    "analysis.head()"
   ]
  },
  {
   "cell_type": "code",
   "execution_count": 65,
   "metadata": {},
   "outputs": [
    {
     "data": {
      "text/html": [
       "<div>\n",
       "<style scoped>\n",
       "    .dataframe tbody tr th:only-of-type {\n",
       "        vertical-align: middle;\n",
       "    }\n",
       "\n",
       "    .dataframe tbody tr th {\n",
       "        vertical-align: top;\n",
       "    }\n",
       "\n",
       "    .dataframe thead th {\n",
       "        text-align: right;\n",
       "    }\n",
       "</style>\n",
       "<table border=\"1\" class=\"dataframe\">\n",
       "  <thead>\n",
       "    <tr style=\"text-align: right;\">\n",
       "      <th></th>\n",
       "      <th>subreddit</th>\n",
       "      <th>prediction</th>\n",
       "      <th>cleaned_text</th>\n",
       "    </tr>\n",
       "  </thead>\n",
       "  <tbody>\n",
       "    <tr>\n",
       "      <th>3480</th>\n",
       "      <td>1</td>\n",
       "      <td>0</td>\n",
       "      <td>excess worri my littl sister is struggl with w...</td>\n",
       "    </tr>\n",
       "    <tr>\n",
       "      <th>2144</th>\n",
       "      <td>0</td>\n",
       "      <td>1</td>\n",
       "      <td>anyon buy sheryl paul s book have they help</td>\n",
       "    </tr>\n",
       "    <tr>\n",
       "      <th>1154</th>\n",
       "      <td>0</td>\n",
       "      <td>1</td>\n",
       "      <td>guilt and embarrass after read posit remark ab...</td>\n",
       "    </tr>\n",
       "    <tr>\n",
       "      <th>2303</th>\n",
       "      <td>1</td>\n",
       "      <td>0</td>\n",
       "      <td>doe anyon els doe anyon els get a huge fear of...</td>\n",
       "    </tr>\n",
       "    <tr>\n",
       "      <th>2627</th>\n",
       "      <td>1</td>\n",
       "      <td>0</td>\n",
       "      <td>my draw see that everybodi now post their artw...</td>\n",
       "    </tr>\n",
       "  </tbody>\n",
       "</table>\n",
       "</div>"
      ],
      "text/plain": [
       "      subreddit  prediction                                       cleaned_text\n",
       "3480          1           0  excess worri my littl sister is struggl with w...\n",
       "2144          0           1        anyon buy sheryl paul s book have they help\n",
       "1154          0           1  guilt and embarrass after read posit remark ab...\n",
       "2303          1           0  doe anyon els doe anyon els get a huge fear of...\n",
       "2627          1           0  my draw see that everybodi now post their artw..."
      ]
     },
     "execution_count": 65,
     "metadata": {},
     "output_type": "execute_result"
    }
   ],
   "source": [
    "# Looking at the first 5 misclassified posts \n",
    "analysis[analysis['subreddit'] != analysis['prediction']].head()"
   ]
  },
  {
   "cell_type": "markdown",
   "metadata": {},
   "source": [
    "Let's look at those first 5 misclassified posts and try to understand why they were misclassified."
   ]
  },
  {
   "cell_type": "code",
   "execution_count": 85,
   "metadata": {
    "scrolled": true
   },
   "outputs": [
    {
     "name": "stdout",
     "output_type": "stream",
     "text": [
      "Excessive worrying My little sister (13) is struggling with worrying about everything and it’s starting to affect her school and sleep schedule. She worries about things like choking by having food stuck in her throat, getting sick (even a simple sore throat), frost bite, anything she deems disturbing like learning about history in social studies. We’ve spent a lot of time sitting down with her and talking to her about these thing like showing her a diagram of a throat so she sees how it works and that she won’t choke on her foods. We explain everything to her and she says she’s good and not worried, but a couple days later she’s back to worrying. If she stops one worrying about one thing, another one starts. It’s affecting her school performance and sleep so we’re desperate about trying anything that might work. She doesn’t sleep (stays up or gets up frequently) and says it’s because of her worry. If any of you have experienced anything like this, please let me know what has worked for you or any suggestions. Thanks!\n"
     ]
    }
   ],
   "source": [
    "# Printing the 1st misclassified post \n",
    "print(data.loc[3480, 'text'])"
   ]
  },
  {
   "cell_type": "markdown",
   "metadata": {},
   "source": [
    "**Interpretation:** This post, although on the ASD subreddit focusses mostly on anxiety which is a bigger problem for individuals with OCD. This is most likely why it was misclassified as an OCD post. "
   ]
  },
  {
   "cell_type": "code",
   "execution_count": 82,
   "metadata": {},
   "outputs": [
    {
     "name": "stdout",
     "output_type": "stream",
     "text": [
      "Anyone buy Sheryl Paul’s books? Have they helped? \n"
     ]
    }
   ],
   "source": [
    "# Printing the 2nd misclassified post \n",
    "print(data.loc[2144, 'text'])"
   ]
  },
  {
   "cell_type": "markdown",
   "metadata": {},
   "source": [
    "**Interpretation:** The word \"help\" is more common in ASD posts, which is most likely why this post was misclassified as a ASD post. Our model would not be able to detect that Sheryl Paul's book is a book about anxiety [[source]](https://www.amazon.com/gp/product/B07FDQVKZ9/ref=dbs_a_def_rwt_hsch_vapi_tkin_p1_i0) (topic more common for individuals with OCD). "
   ]
  },
  {
   "cell_type": "code",
   "execution_count": 81,
   "metadata": {
    "scrolled": true
   },
   "outputs": [
    {
     "name": "stdout",
     "output_type": "stream",
     "text": [
      "Guilt and embarrassment after reading positive remarks about myself? I'm an undergrad senior, aspiring to go to grad school, and I applied to my first program recently. Received letters of recommendation from two faculty members  who have known me for less than a year (I worked in their respective labs) and got really good recommendations from them. After reading those letters, I am feeling extremely guilty and, frankly, embarrassed of myself (does this make sense?) I'm a very quiet person, not someone who is very communicative, sharp, or remarkably intelligent. My profs. are genuinely nice people, and I just feel like they're exaggerating (sure, there is always some exaggeration in LoRs but I genuinely don't think I deserve what is written; feels like they're talking about someone I am not). I don't know why but I'm feeling really ashamed of myself. All through my schooling, I was never the star student or the big-time achiever, and so the fact that this is happening is making me feel guilty and ashamed, as if I stole somebody else's opportunity. This just seems like a stint of good luck, and I absolutely hate it. I have this feeling that everything is going to fall apart, and I'm going to be revealed for who I am - the fact that this is taking so long is making me feel very uneasy.\n"
     ]
    }
   ],
   "source": [
    "# Printing the 3rd misclassified post \n",
    "print(data.loc[1154, 'text'])"
   ]
  },
  {
   "cell_type": "markdown",
   "metadata": {},
   "source": [
    "**Interpretation:** This post mentions school which is usually a topic more discussed in the ASD subreddit (as individuals with ASD often struggle in school due to socialization issues). In addition, the user struggles with \"shame\" and \"guilt\" rather than more common OCD emotions such as \"anxiety\". This is most likely the reason why this post was misclassified as an ASD post. "
   ]
  },
  {
   "cell_type": "code",
   "execution_count": 86,
   "metadata": {
    "scrolled": true
   },
   "outputs": [
    {
     "name": "stdout",
     "output_type": "stream",
     "text": [
      "Does anyone else... Does anyone else get a huge fear of losing their current special interests? I love my special interests and I get so scared getting into new things in fear that I'll lose my SIs and replace them with new ones. \n",
      "\n",
      "And it happens, and it's happened, but it still scares me, I guess. It's weird. Does anyone know how to work around that and try to stop my fear?\n"
     ]
    }
   ],
   "source": [
    "# Printing the 4th misclassified post \n",
    "print(data.loc[2303, \"text\"])"
   ]
  },
  {
   "cell_type": "markdown",
   "metadata": {},
   "source": [
    "**Interpretation:** This post discusses special interests, which are definitely an autism specific topic. Not picking this up is a weakness of our model and potential area for improvement. The post discusses fears which is something more often associated with OCD and could explain why the post was misclassified as an OCD post."
   ]
  },
  {
   "cell_type": "code",
   "execution_count": 87,
   "metadata": {
    "scrolled": true
   },
   "outputs": [
    {
     "name": "stdout",
     "output_type": "stream",
     "text": [
      "How do you deal with superstitious intrusive thoughts? Magical thinking is annoying. I redo and undo things when I get the thought of someone I don't like pop into my head when I'm doing something because I fear something bad will happen. Please advice how I can stop myself from doing that compulsion? I get scared because..what if..just in case..how do I become strong and get rid of this? This is seriously taking control of my life.\n"
     ]
    }
   ],
   "source": [
    "# Printing the 5th misclassified post \n",
    "print(data.loc[2027, 'text'])"
   ]
  },
  {
   "cell_type": "markdown",
   "metadata": {},
   "source": [
    "**Interpretations:** Although this text was posted on the ASD reddit, the user discusses issues that describe OCD symptoms (mentioning intrusive thoughts and compulsions). This explains why the post was misclassified as an OCD post. As OCD can be a comorbid disorder to ASD, it is very possible that this user has both ASD and OCD given his post.  "
   ]
  },
  {
   "cell_type": "markdown",
   "metadata": {},
   "source": [
    "### Coefficient Interpretation"
   ]
  },
  {
   "cell_type": "code",
   "execution_count": 73,
   "metadata": {},
   "outputs": [
    {
     "data": {
      "text/html": [
       "<div>\n",
       "<style scoped>\n",
       "    .dataframe tbody tr th:only-of-type {\n",
       "        vertical-align: middle;\n",
       "    }\n",
       "\n",
       "    .dataframe tbody tr th {\n",
       "        vertical-align: top;\n",
       "    }\n",
       "\n",
       "    .dataframe thead th {\n",
       "        text-align: right;\n",
       "    }\n",
       "</style>\n",
       "<table border=\"1\" class=\"dataframe\">\n",
       "  <thead>\n",
       "    <tr style=\"text-align: right;\">\n",
       "      <th></th>\n",
       "      <th>coef</th>\n",
       "    </tr>\n",
       "  </thead>\n",
       "  <tbody>\n",
       "    <tr>\n",
       "      <th>aba</th>\n",
       "      <td>0.783497</td>\n",
       "    </tr>\n",
       "    <tr>\n",
       "      <th>abandon</th>\n",
       "      <td>-0.197592</td>\n",
       "    </tr>\n",
       "    <tr>\n",
       "      <th>abil</th>\n",
       "      <td>0.829201</td>\n",
       "    </tr>\n",
       "    <tr>\n",
       "      <th>abilifi</th>\n",
       "      <td>-0.217594</td>\n",
       "    </tr>\n",
       "    <tr>\n",
       "      <th>abl</th>\n",
       "      <td>-0.209966</td>\n",
       "    </tr>\n",
       "  </tbody>\n",
       "</table>\n",
       "</div>"
      ],
      "text/plain": [
       "             coef\n",
       "aba      0.783497\n",
       "abandon -0.197592\n",
       "abil     0.829201\n",
       "abilifi -0.217594\n",
       "abl     -0.209966"
      ]
     },
     "execution_count": 73,
     "metadata": {},
     "output_type": "execute_result"
    }
   ],
   "source": [
    "# Creating a dataframe showing each word and its associated coefficient \n",
    "coefficients = pd.DataFrame(lg_tfidf.best_estimator_.steps[1][1].coef_[0], \n",
    "                           lg_tfidf.best_estimator_.steps[0][1].get_feature_names())\n",
    "coefficients.rename(columns = {0: 'coef'}, inplace=True)\n",
    "coefficients.head()"
   ]
  },
  {
   "cell_type": "code",
   "execution_count": 74,
   "metadata": {},
   "outputs": [
    {
     "data": {
      "text/plain": [
       "autism      9.387502\n",
       "autist      6.774294\n",
       "spectrum    3.657359\n",
       "asd         3.270314\n",
       "social      2.845516\n",
       "meltdown    2.722922\n",
       "sensori     2.719061\n",
       "stim        2.627050\n",
       "son         2.474558\n",
       "special     2.446957\n",
       "Name: coef, dtype: float64"
      ]
     },
     "execution_count": 74,
     "metadata": {},
     "output_type": "execute_result"
    }
   ],
   "source": [
    "# Looking at the ten words with the highest coefficients \n",
    "coefficients['coef'].sort_values(ascending=False)[:10]"
   ]
  },
  {
   "cell_type": "markdown",
   "metadata": {},
   "source": [
    "**Interpretation:** Looking at the 10 words with the strongest positive coefficients, we see words that are specific to autism. Some are obvious (such as autism, autistic, spectrum and asd), others require more subject knowledge (such as stim). Indeed, \"stims\" refer to \"self-stimulating behaviors\" which are repetitive behaviors individuals with autism do to deal with the sensory overload they feel and sooth themselves. As autism is a disorder defined by social difficulties and sensory hyper or hypo-sensitivity, it makes sense for words like \"stim\" and \"social\" to be particularly helpful in classifying a post as being part of the ASD subreddit. "
   ]
  },
  {
   "cell_type": "code",
   "execution_count": 75,
   "metadata": {
    "scrolled": false
   },
   "outputs": [
    {
     "data": {
      "text/plain": [
       "ocd       -15.472531\n",
       "thought    -7.047279\n",
       "obsess     -5.938760\n",
       "compuls    -5.629279\n",
       "intrus     -4.301791\n",
       "fear       -3.385977\n",
       "wash       -3.053326\n",
       "trigger    -2.932675\n",
       "bad        -2.824200\n",
       "mind       -2.617679\n",
       "Name: coef, dtype: float64"
      ]
     },
     "execution_count": 75,
     "metadata": {},
     "output_type": "execute_result"
    }
   ],
   "source": [
    "# Looking at the ten words with the lowest coefficients \n",
    "coefficients['coef'].sort_values()[:10]"
   ]
  },
  {
   "cell_type": "markdown",
   "metadata": {},
   "source": [
    "**Interpretation:** Looking at the 10 words with the strongest negative coefficients, we see words that are specific to OCD. Some are obvious (such as ocd, obsessive and compulsive), others require more subject knowledge (such as thought, intrusive, and fear). Indeed, OCD is defined by excessive thoughts (obsessions) that lead to repetitive behaviors (compulsions). Those thoughts are uncontrolled (often described as intrusive) and can be triggered by specific things. They can often be related to fears about germs and lead to a cleaning/hand washing compulsion. Those aspects of the disorder explain why the words above are helpful in classifying a post as \"not an ASD post\".  "
   ]
  },
  {
   "cell_type": "code",
   "execution_count": 76,
   "metadata": {
    "scrolled": true
   },
   "outputs": [
    {
     "data": {
      "text/html": [
       "<div>\n",
       "<style scoped>\n",
       "    .dataframe tbody tr th:only-of-type {\n",
       "        vertical-align: middle;\n",
       "    }\n",
       "\n",
       "    .dataframe tbody tr th {\n",
       "        vertical-align: top;\n",
       "    }\n",
       "\n",
       "    .dataframe thead th {\n",
       "        text-align: right;\n",
       "    }\n",
       "</style>\n",
       "<table border=\"1\" class=\"dataframe\">\n",
       "  <thead>\n",
       "    <tr style=\"text-align: right;\">\n",
       "      <th></th>\n",
       "      <th>coef</th>\n",
       "    </tr>\n",
       "  </thead>\n",
       "  <tbody>\n",
       "    <tr>\n",
       "      <th>asd</th>\n",
       "      <td>3.270314</td>\n",
       "    </tr>\n",
       "    <tr>\n",
       "      <th>autism</th>\n",
       "      <td>9.387502</td>\n",
       "    </tr>\n",
       "    <tr>\n",
       "      <th>autist</th>\n",
       "      <td>6.774294</td>\n",
       "    </tr>\n",
       "    <tr>\n",
       "      <th>compuls</th>\n",
       "      <td>-5.629279</td>\n",
       "    </tr>\n",
       "    <tr>\n",
       "      <th>fear</th>\n",
       "      <td>-3.385977</td>\n",
       "    </tr>\n",
       "    <tr>\n",
       "      <th>intrus</th>\n",
       "      <td>-4.301791</td>\n",
       "    </tr>\n",
       "    <tr>\n",
       "      <th>obsess</th>\n",
       "      <td>-5.938760</td>\n",
       "    </tr>\n",
       "    <tr>\n",
       "      <th>ocd</th>\n",
       "      <td>-15.472531</td>\n",
       "    </tr>\n",
       "    <tr>\n",
       "      <th>spectrum</th>\n",
       "      <td>3.657359</td>\n",
       "    </tr>\n",
       "    <tr>\n",
       "      <th>thought</th>\n",
       "      <td>-7.047279</td>\n",
       "    </tr>\n",
       "  </tbody>\n",
       "</table>\n",
       "</div>"
      ],
      "text/plain": [
       "               coef\n",
       "asd        3.270314\n",
       "autism     9.387502\n",
       "autist     6.774294\n",
       "compuls   -5.629279\n",
       "fear      -3.385977\n",
       "intrus    -4.301791\n",
       "obsess    -5.938760\n",
       "ocd      -15.472531\n",
       "spectrum   3.657359\n",
       "thought   -7.047279"
      ]
     },
     "execution_count": 76,
     "metadata": {},
     "output_type": "execute_result"
    }
   ],
   "source": [
    "# Filtering the ten words with the stongest coefficients \n",
    "top_coef = coefficients[(coefficients['coef'] > 3) | (coefficients['coef'] < -3.1)]\n",
    "top_coef"
   ]
  },
  {
   "cell_type": "code",
   "execution_count": 77,
   "metadata": {
    "scrolled": false
   },
   "outputs": [
    {
     "name": "stderr",
     "output_type": "stream",
     "text": [
      "/opt/anaconda3/envs/DSI/lib/python3.7/site-packages/ipykernel_launcher.py:1: SettingWithCopyWarning: \n",
      "A value is trying to be set on a copy of a slice from a DataFrame.\n",
      "Try using .loc[row_indexer,col_indexer] = value instead\n",
      "\n",
      "See the caveats in the documentation: https://pandas.pydata.org/pandas-docs/stable/user_guide/indexing.html#returning-a-view-versus-a-copy\n",
      "  \"\"\"Entry point for launching an IPython kernel.\n"
     ]
    },
    {
     "data": {
      "text/html": [
       "<div>\n",
       "<style scoped>\n",
       "    .dataframe tbody tr th:only-of-type {\n",
       "        vertical-align: middle;\n",
       "    }\n",
       "\n",
       "    .dataframe tbody tr th {\n",
       "        vertical-align: top;\n",
       "    }\n",
       "\n",
       "    .dataframe thead th {\n",
       "        text-align: right;\n",
       "    }\n",
       "</style>\n",
       "<table border=\"1\" class=\"dataframe\">\n",
       "  <thead>\n",
       "    <tr style=\"text-align: right;\">\n",
       "      <th></th>\n",
       "      <th>coef</th>\n",
       "      <th>exp</th>\n",
       "    </tr>\n",
       "  </thead>\n",
       "  <tbody>\n",
       "    <tr>\n",
       "      <th>asd</th>\n",
       "      <td>3.270314</td>\n",
       "      <td>2.631961e+01</td>\n",
       "    </tr>\n",
       "    <tr>\n",
       "      <th>autism</th>\n",
       "      <td>9.387502</td>\n",
       "      <td>1.193824e+04</td>\n",
       "    </tr>\n",
       "    <tr>\n",
       "      <th>autist</th>\n",
       "      <td>6.774294</td>\n",
       "      <td>8.750613e+02</td>\n",
       "    </tr>\n",
       "    <tr>\n",
       "      <th>compuls</th>\n",
       "      <td>-5.629279</td>\n",
       "      <td>3.591165e-03</td>\n",
       "    </tr>\n",
       "    <tr>\n",
       "      <th>fear</th>\n",
       "      <td>-3.385977</td>\n",
       "      <td>3.384457e-02</td>\n",
       "    </tr>\n",
       "    <tr>\n",
       "      <th>intrus</th>\n",
       "      <td>-4.301791</td>\n",
       "      <td>1.354428e-02</td>\n",
       "    </tr>\n",
       "    <tr>\n",
       "      <th>obsess</th>\n",
       "      <td>-5.938760</td>\n",
       "      <td>2.635294e-03</td>\n",
       "    </tr>\n",
       "    <tr>\n",
       "      <th>ocd</th>\n",
       "      <td>-15.472531</td>\n",
       "      <td>1.907063e-07</td>\n",
       "    </tr>\n",
       "    <tr>\n",
       "      <th>spectrum</th>\n",
       "      <td>3.657359</td>\n",
       "      <td>3.875884e+01</td>\n",
       "    </tr>\n",
       "    <tr>\n",
       "      <th>thought</th>\n",
       "      <td>-7.047279</td>\n",
       "      <td>8.697720e-04</td>\n",
       "    </tr>\n",
       "  </tbody>\n",
       "</table>\n",
       "</div>"
      ],
      "text/plain": [
       "               coef           exp\n",
       "asd        3.270314  2.631961e+01\n",
       "autism     9.387502  1.193824e+04\n",
       "autist     6.774294  8.750613e+02\n",
       "compuls   -5.629279  3.591165e-03\n",
       "fear      -3.385977  3.384457e-02\n",
       "intrus    -4.301791  1.354428e-02\n",
       "obsess    -5.938760  2.635294e-03\n",
       "ocd      -15.472531  1.907063e-07\n",
       "spectrum   3.657359  3.875884e+01\n",
       "thought   -7.047279  8.697720e-04"
      ]
     },
     "execution_count": 77,
     "metadata": {},
     "output_type": "execute_result"
    }
   ],
   "source": [
    "# Adding the exponentiated coefficients \n",
    "top_coef['exp'] = np.exp(top_coef['coef'])\n",
    "top_coef"
   ]
  },
  {
   "cell_type": "code",
   "execution_count": 91,
   "metadata": {
    "scrolled": true
   },
   "outputs": [
    {
     "data": {
      "image/png": "[encoded data removed]",
      "text/plain": [
       "<Figure size 432x288 with 1 Axes>"
      ]
     },
     "metadata": {
      "needs_background": "light"
     },
     "output_type": "display_data"
    }
   ],
   "source": [
    "# Visualizing the 10 strongest coefficients \n",
    "top_coef.sort_values(by='coef')['coef'].plot(kind='barh', legend=None, cmap='Paired')\n",
    "plt.title('Ten Words With the Strongest Coefficients', size=15)\n",
    "plt.ylabel('Words', size=12)\n",
    "plt.xlabel('Coefficient', size=12)\n",
    "plt.yticks(np.arange(10), \n",
    "           ['ocd', 'thought', 'obsessive', 'compulsive', 'intrusive', 'fear', 'asd', 'spectrum', 'autistic', 'autism']);"
   ]
  },
  {
   "cell_type": "markdown",
   "metadata": {},
   "source": [
    "**Interpretation:** Out of the ten words with the strongest coefficients, 4 are autism related words and 6 are OCD related words. The presence of the ASD related words make it more likely that the post would be part of the ASD reddit while the presence of the OCD related word make it less likely. (full interpretation of the 2 strongest coefficients below). "
   ]
  },
  {
   "cell_type": "code",
   "execution_count": 79,
   "metadata": {
    "scrolled": false
   },
   "outputs": [
    {
     "data": {
      "text/plain": [
       "-99.9999809293645"
      ]
     },
     "execution_count": 79,
     "metadata": {},
     "output_type": "execute_result"
    }
   ],
   "source": [
    "(np.exp(-15.472531)-1)*100"
   ]
  },
  {
   "cell_type": "markdown",
   "metadata": {},
   "source": [
    "**Interpreting the 2 strongest coefficients:**   \n",
    "- For a 1 unit increase in the use of the word “Autism”, the submission would be 11,938 times as likely to be posted in the ASD subreddit compared to the OCD subreddit (all else held constant).   \n",
    "- For a 1 unit increase in the use of the word “OCD”, the submission would be 99.9% less likely to be posted in the ASD subreddit compared to the OCD subreddit (all else held constant). "
   ]
  },
  {
   "cell_type": "markdown",
   "metadata": {},
   "source": [
    "## Conclusion and Recommendations "
   ]
  },
  {
   "cell_type": "markdown",
   "metadata": {},
   "source": [
    "We identified a Logistic Regression model with TFIDF Vectorizer and custom stopwords as the model giving us the highest predictive power. This model classifies wether a post is part of the ASD subreddit or the OCD subreddit with 93% accuracy. As a result, this model would allow us to identify potential customers with autism based on their submissions on online resource blogs geared towards individuals with ASD and OCD.   \n",
    "In 3.8% of cases we’re spending advertising money on the wrong users. In 2.8% of cases we’re missing out on potential customers. There is a tradeoff between those 2 types of errors.    \n",
    "In the future, we can modify our model to minimize one type or the other based on recommendations from the marketing team. For instance, if the marketing budget is low, we may want to minimize the number of users we misclassify as having ASD when they actually have OCD (leading to unecessary advertising spendings). On the other hand, if we have a big marketing budget, we may want to minimize the number of users we misclassify as having OCD when they actually have ASD (making sure we are reaching out to every potential customers). "
   ]
  },
  {
   "cell_type": "markdown",
   "metadata": {},
   "source": [
    "## References"
   ]
  },
  {
   "cell_type": "markdown",
   "metadata": {},
   "source": [
    "[Autism Reddit](https://www.reddit.com/r/autism/)  \n",
    "[OCD Reddit](https://www.reddit.com/r/OCD/)  \n",
    "[OCD resembles ASD](https://www.webmd.com/brain/autism/autism-similar-conditions)  \n",
    "[Sheryl Paul Book](https://www.amazon.com/gp/product/B07FDQVKZ9/ref=dbs_a_def_rwt_hsch_vapi_tkin_p1_i0) "
   ]
  },
  {
   "cell_type": "code",
   "execution_count": null,
   "metadata": {},
   "outputs": [],
   "source": []
  }
 ],
 "metadata": {
  "kernelspec": {
   "display_name": "Python 3",
   "language": "python",
   "name": "python3"
  },
  "language_info": {
   "codemirror_mode": {
    "name": "ipython",
    "version": 3
   },
   "file_extension": ".py",
   "mimetype": "text/x-python",
   "name": "python",
   "nbconvert_exporter": "python",
   "pygments_lexer": "ipython3",
   "version": "3.7.6"
  }
 },
 "nbformat": 4,
 "nbformat_minor": 4
}
